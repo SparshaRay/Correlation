{
 "cells": [
  {
   "cell_type": "code",
   "execution_count": 1,
   "metadata": {},
   "outputs": [
    {
     "name": "stdout",
     "output_type": "stream",
     "text": [
      "Statevector([0.21020163+0.j, 0.40247645+0.j, 0.5230267 +0.j,\n",
      "             0.19413572+0.j, 0.2820356 +0.j, 0.07370007+0.j,\n",
      "             0.08405163+0.j, 0.62493353+0.j],\n",
      "            dims=(2, 2, 2))\n"
     ]
    },
    {
     "data": {
      "text/latex": [
       "$$\n",
       "\n",
       "\\begin{bmatrix}\n",
       "0.0441847269 & 0.0846012072 & 0.1099410668 & 0.0408076452 & 0.0592843439 & 0.0154918757 & 0.0176677909 & 0.1313620492  \\\\\n",
       " 0.0846012072 & 0.1619872922 & 0.2105059289 & 0.0781350547 & 0.1135126868 & 0.0296625436 & 0.0338288035 & 0.2515210284  \\\\\n",
       " 0.1099410668 & 0.2105059289 & 0.2735569284 & 0.1015381641 & 0.147512149 & 0.0385471058 & 0.0439612491 & 0.3268569219  \\\\\n",
       " 0.0408076452 & 0.0781350547 & 0.1015381641 & 0.0376886772 & 0.0547531838 & 0.0143078166 & 0.0163174245 & 0.12132192  \\\\\n",
       " 0.0592843439 & 0.1135126868 & 0.147512149 & 0.0547531838 & 0.0795440796 & 0.0207860442 & 0.0237055532 & 0.1762535032  \\\\\n",
       " 0.0154918757 & 0.0296625436 & 0.0385471058 & 0.0143078166 & 0.0207860442 & 0.0054317007 & 0.0061946116 & 0.0460576467  \\\\\n",
       " 0.0176677909 & 0.0338288035 & 0.0439612491 & 0.0163174245 & 0.0237055532 & 0.0061946116 & 0.0070646773 & 0.0525266848  \\\\\n",
       " 0.1313620492 & 0.2515210284 & 0.3268569219 & 0.12132192 & 0.1762535032 & 0.0460576467 & 0.0525266848 & 0.3905419176  \\\\\n",
       " \\end{bmatrix}\n",
       "$$"
      ],
      "text/plain": [
       "<IPython.core.display.Latex object>"
      ]
     },
     "execution_count": 1,
     "metadata": {},
     "output_type": "execute_result"
    }
   ],
   "source": [
    "from qiskit import *\n",
    "from qiskit.quantum_info import *\n",
    "import numpy as np\n",
    "\n",
    "state_vector = np.random.rand(2**3)\n",
    "# state_vector = np.array([a, b, c, d, e, f, g, h], dtype=float)\n",
    "state_vector /= np.linalg.norm(state_vector)\n",
    "a = state_vector[0]\n",
    "b = state_vector[1]\n",
    "c = state_vector[2]\n",
    "d = state_vector[3]\n",
    "e = state_vector[4]\n",
    "f = state_vector[5]\n",
    "g = state_vector[6]\n",
    "h = state_vector[7]\n",
    "state_vector = Statevector(state_vector)\n",
    "print(state_vector)\n",
    "density_matrix = DensityMatrix(state_vector)\n",
    "density_matrix.draw('latex')\n"
   ]
  },
  {
   "cell_type": "code",
   "execution_count": 2,
   "metadata": {},
   "outputs": [
    {
     "name": "stdout",
     "output_type": "stream",
     "text": [
      "(1+0j)\n"
     ]
    }
   ],
   "source": [
    "print(purity(density_matrix))"
   ]
  },
  {
   "cell_type": "code",
   "execution_count": 3,
   "metadata": {},
   "outputs": [
    {
     "name": "stdout",
     "output_type": "stream",
     "text": [
      "(0.6529284720820439+0j)\n"
     ]
    },
    {
     "data": {
      "text/latex": [
       "$$\n",
       "\n",
       "\\begin{bmatrix}\n",
       "0.2061720191 & 0.1880761214 & 0.0889468875 & 0.2691888193  \\\\\n",
       " 0.1880761214 & 0.3112456056 & 0.1618199656 & 0.1652831691  \\\\\n",
       " 0.0889468875 & 0.1618199656 & 0.0849757804 & 0.0697631999  \\\\\n",
       " 0.2691888193 & 0.1652831691 & 0.0697631999 & 0.3976065949  \\\\\n",
       " \\end{bmatrix}\n",
       "$$"
      ],
      "text/plain": [
       "<IPython.core.display.Latex object>"
      ]
     },
     "execution_count": 3,
     "metadata": {},
     "output_type": "execute_result"
    }
   ],
   "source": [
    "subsys1 = partial_trace(density_matrix, [0])\n",
    "print(purity(subsys1))\n",
    "subsys1.draw('latex')"
   ]
  },
  {
   "cell_type": "code",
   "execution_count": 4,
   "metadata": {},
   "outputs": [
    {
     "name": "stdout",
     "output_type": "stream",
     "text": [
      "(0.6298725906424798+0j)\n"
     ]
    },
    {
     "data": {
      "text/latex": [
       "$$\n",
       "\n",
       "\\begin{bmatrix}\n",
       "0.1237288065 & 0.1053872515 & 0.13364662 & 0.2170611484  \\\\\n",
       " 0.1053872515 & 0.1674189929 & 0.2167005405 & \\frac{5 \\cdot 2^{\\frac{276}{361}} \\cdot 3^{\\frac{284}{361}} \\cdot 5^{\\frac{155}{722}} \\cdot 7^{\\frac{35}{722}}}{252}  \\\\\n",
       " 0.13364662 & 0.2167005405 & 0.2806216057 & 0.154064849  \\\\\n",
       " 0.2170611484 & \\frac{5 \\cdot 2^{\\frac{276}{361}} \\cdot 3^{\\frac{284}{361}} \\cdot 5^{\\frac{155}{722}} \\cdot 7^{\\frac{35}{722}}}{252} & 0.154064849 & 0.4282305948  \\\\\n",
       " \\end{bmatrix}\n",
       "$$"
      ],
      "text/plain": [
       "<IPython.core.display.Latex object>"
      ]
     },
     "execution_count": 4,
     "metadata": {},
     "output_type": "execute_result"
    }
   ],
   "source": [
    "subsys2 = partial_trace(density_matrix, [2])\n",
    "print(purity(subsys2))\n",
    "subsys2.draw('latex')"
   ]
  },
  {
   "cell_type": "code",
   "execution_count": 5,
   "metadata": {},
   "outputs": [
    {
     "name": "stdout",
     "output_type": "stream",
     "text": [
      "(0.7202007146186303+0j)\n"
     ]
    },
    {
     "data": {
      "text/latex": [
       "$$\n",
       "\n",
       "\\begin{bmatrix}\n",
       "0.3177416553 & 0.1861393713 & 0.103245593 & 0.3423487976  \\\\\n",
       " 0.1861393713 & 0.1996759694 & 0.1298301113 & 0.1509844636  \\\\\n",
       " 0.103245593 & 0.1298301113 & 0.0866087569 & 0.0733127291  \\\\\n",
       " 0.3423487976 & 0.1509844636 & 0.0733127291 & 0.3959736183  \\\\\n",
       " \\end{bmatrix}\n",
       "$$"
      ],
      "text/plain": [
       "<IPython.core.display.Latex object>"
      ]
     },
     "execution_count": 5,
     "metadata": {},
     "output_type": "execute_result"
    }
   ],
   "source": [
    "subsys3 = partial_trace(density_matrix, [1])\n",
    "print(purity(subsys3))\n",
    "subsys3.draw('latex')"
   ]
  },
  {
   "cell_type": "code",
   "execution_count": 6,
   "metadata": {},
   "outputs": [
    {
     "data": {
      "text/plain": [
       "-0.09032812397615045"
      ]
     },
     "execution_count": 6,
     "metadata": {},
     "output_type": "execute_result"
    }
   ],
   "source": [
    "m = +a*d - b*c + e*h - f*g\n",
    "n = -a*f + b*e - c*h + d*g\n",
    "2 * (m**2 - n**2)"
   ]
  },
  {
   "cell_type": "code",
   "execution_count": 7,
   "metadata": {},
   "outputs": [
    {
     "name": "stdout",
     "output_type": "stream",
     "text": [
      "0.12372880651311924 0.16741899292929785 0.28062160574317363 0.4282305948144092\n"
     ]
    }
   ],
   "source": [
    "print(a**2 + e**2, b**2 + f**2, c**2 + g**2, d**2 + h**2)"
   ]
  },
  {
   "cell_type": "code",
   "execution_count": 8,
   "metadata": {},
   "outputs": [
    {
     "name": "stdout",
     "output_type": "stream",
     "text": [
      "0.2061720190712076 0.3112456056431028 0.08497578037120948 0.3976065949144801\n"
     ]
    }
   ],
   "source": [
    "print(a**2 + b**2 , c**2 + d**2, e**2 + f**2 , g**2 + h**2)"
   ]
  },
  {
   "cell_type": "code",
   "execution_count": 9,
   "metadata": {},
   "outputs": [
    {
     "name": "stdout",
     "output_type": "stream",
     "text": [
      "0.31774165531001497 0.19967596940429544 0.0866087569462779 0.39597361833941164\n"
     ]
    }
   ],
   "source": [
    "print(a**2 + c**2, b**2 + d**2, e**2 + g**2, f**2 + h**2)  # order of middle two changes"
   ]
  },
  {
   "cell_type": "code",
   "execution_count": 10,
   "metadata": {},
   "outputs": [],
   "source": [
    "# a+b, c+d, e+f, g+h\n",
    "#    a+c       e+g\n",
    "#         a+e"
   ]
  },
  {
   "cell_type": "code",
   "execution_count": 11,
   "metadata": {},
   "outputs": [],
   "source": [
    "# scipy optimize root\n",
    "# solve the above entries and purity difference input"
   ]
  },
  {
   "cell_type": "code",
   "execution_count": 12,
   "metadata": {},
   "outputs": [
    {
     "data": {
      "text/plain": [
       "(-0.09032812397615053+0j)"
      ]
     },
     "execution_count": 12,
     "metadata": {},
     "output_type": "execute_result"
    }
   ],
   "source": [
    "purity(subsys2) - purity(subsys3)"
   ]
  },
  {
   "cell_type": "code",
   "execution_count": 13,
   "metadata": {},
   "outputs": [
    {
     "name": "stdout",
     "output_type": "stream",
     "text": [
      "D coeff = (0.3112456056431028+0j)\n"
     ]
    }
   ],
   "source": [
    "print(f'D coeff = {partial_trace(density_matrix, [0]).data[1, 1]}')"
   ]
  },
  {
   "cell_type": "code",
   "execution_count": 14,
   "metadata": {},
   "outputs": [
    {
     "name": "stdout",
     "output_type": "stream",
     "text": [
      "C coeff = (0.31774165531001497+0j)\n"
     ]
    }
   ],
   "source": [
    "print(f'C coeff = {partial_trace(density_matrix, [1]).data[0, 0]}')"
   ]
  },
  {
   "cell_type": "code",
   "execution_count": 15,
   "metadata": {},
   "outputs": [
    {
     "name": "stdout",
     "output_type": "stream",
     "text": [
      "AC+BD val = (0.18807612144315133+0j)\n"
     ]
    }
   ],
   "source": [
    "print(f'AC+BD val = {partial_trace(density_matrix, [0]).data[0, 1]}')"
   ]
  },
  {
   "cell_type": "code",
   "execution_count": 16,
   "metadata": {},
   "outputs": [
    {
     "name": "stdout",
     "output_type": "stream",
     "text": [
      "AB+CD coeff = (0.1861393713290458+0j)\n"
     ]
    }
   ],
   "source": [
    "print(f'AB+CD coeff = {partial_trace(density_matrix, [1]).data[0, 1]}')"
   ]
  },
  {
   "cell_type": "code",
   "execution_count": 17,
   "metadata": {},
   "outputs": [
    {
     "data": {
      "text/latex": [
       "$\\displaystyle \\left[\\begin{matrix}A^{2} + E^{2} & A B + E F & A C + E G & A D + E H\\\\A B + E F & B^{2} + F^{2} & B C + F G & B D + F H\\\\A C + E G & B C + F G & C^{2} + G^{2} & C D + G H\\\\A D + E H & B D + F H & C D + G H & D^{2} + H^{2}\\end{matrix}\\right]$"
      ],
      "text/plain": [
       "Matrix([\n",
       "[A**2 + E**2,   A*B + E*F,   A*C + E*G,   A*D + E*H],\n",
       "[  A*B + E*F, B**2 + F**2,   B*C + F*G,   B*D + F*H],\n",
       "[  A*C + E*G,   B*C + F*G, C**2 + G**2,   C*D + G*H],\n",
       "[  A*D + E*H,   B*D + F*H,   C*D + G*H, D**2 + H**2]])"
      ]
     },
     "execution_count": 17,
     "metadata": {},
     "output_type": "execute_result"
    }
   ],
   "source": [
    "import numpy as np\n",
    "from sympy import *\n",
    "\n",
    "a, b, c, d, e, f, g, h = symbols('A B C D E F G H')\n",
    "\n",
    "state = np.array([a, b, c, d, e, f, g, h])\n",
    "\n",
    "density_matrix = np.outer(state, state)\n",
    "\n",
    "reshaped = density_matrix.reshape((2, 4, 2, 4))\n",
    "\n",
    "reduced_density_matrix = np.trace(reshaped, axis1=0, axis2=2)\n",
    "\n",
    "Matrix(reduced_density_matrix)"
   ]
  },
  {
   "cell_type": "code",
   "execution_count": 18,
   "metadata": {},
   "outputs": [
    {
     "data": {
      "text/latex": [
       "$$(-0.036422881809 + 0.066499738248 i) |000\\rangle+(-0.200621533936 + 0.329245134587 i) |001\\rangle+(0.231511037819 - 0.093896762251 i) |010\\rangle+(-0.24475790066 - 0.634249480662 i) |011\\rangle+(-0.455434123544 + 0.271328413052 i) |100\\rangle+(0.010298383998 + 0.108440765395 i) |101\\rangle+(-0.153784307423 + 0.050239067202 i) |110\\rangle+(-0.00596570216 + 0.043508988745 i) |111\\rangle$$"
      ],
      "text/plain": [
       "<IPython.core.display.Latex object>"
      ]
     },
     "execution_count": 18,
     "metadata": {},
     "output_type": "execute_result"
    }
   ],
   "source": [
    "from qiskit.quantum_info import random_statevector\n",
    "random_statevector(8).draw('latex')"
   ]
  }
 ],
 "metadata": {
  "kernelspec": {
   "display_name": "Python 3",
   "language": "python",
   "name": "python3"
  },
  "language_info": {
   "codemirror_mode": {
    "name": "ipython",
    "version": 3
   },
   "file_extension": ".py",
   "mimetype": "text/x-python",
   "name": "python",
   "nbconvert_exporter": "python",
   "pygments_lexer": "ipython3",
   "version": "3.10.12"
  }
 },
 "nbformat": 4,
 "nbformat_minor": 2
}
