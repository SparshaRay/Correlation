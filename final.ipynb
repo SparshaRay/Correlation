{
 "cells": [
  {
   "cell_type": "markdown",
   "metadata": {},
   "source": [
    "# Initialization"
   ]
  },
  {
   "cell_type": "code",
   "execution_count": 1,
   "metadata": {},
   "outputs": [],
   "source": [
    "import numpy as np\n",
    "from sympy import *"
   ]
  },
  {
   "cell_type": "code",
   "execution_count": 2,
   "metadata": {},
   "outputs": [],
   "source": [
    "def partial_trace(mat) :\n",
    "    return mat[0:4, 0:4] + mat[4:8, 4:8]"
   ]
  },
  {
   "cell_type": "code",
   "execution_count": 3,
   "metadata": {},
   "outputs": [
    {
     "data": {
      "text/latex": [
       "$\\displaystyle \\left[\\begin{matrix}A \\overline{A} & A \\overline{B} & A \\overline{C} & A \\overline{D} & A \\overline{E} & A \\overline{F} & A \\overline{G} & A \\overline{H}\\\\B \\overline{A} & B \\overline{B} & B \\overline{C} & B \\overline{D} & B \\overline{E} & B \\overline{F} & B \\overline{G} & B \\overline{H}\\\\C \\overline{A} & C \\overline{B} & C \\overline{C} & C \\overline{D} & C \\overline{E} & C \\overline{F} & C \\overline{G} & C \\overline{H}\\\\D \\overline{A} & D \\overline{B} & D \\overline{C} & D \\overline{D} & D \\overline{E} & D \\overline{F} & D \\overline{G} & D \\overline{H}\\\\E \\overline{A} & E \\overline{B} & E \\overline{C} & E \\overline{D} & E \\overline{E} & E \\overline{F} & E \\overline{G} & E \\overline{H}\\\\F \\overline{A} & F \\overline{B} & F \\overline{C} & F \\overline{D} & F \\overline{E} & F \\overline{F} & F \\overline{G} & F \\overline{H}\\\\G \\overline{A} & G \\overline{B} & G \\overline{C} & G \\overline{D} & G \\overline{E} & G \\overline{F} & G \\overline{G} & G \\overline{H}\\\\H \\overline{A} & H \\overline{B} & H \\overline{C} & H \\overline{D} & H \\overline{E} & H \\overline{F} & H \\overline{G} & H \\overline{H}\\end{matrix}\\right]$"
      ],
      "text/plain": [
       "Matrix([\n",
       "[A*conjugate(A), A*conjugate(B), A*conjugate(C), A*conjugate(D), A*conjugate(E), A*conjugate(F), A*conjugate(G), A*conjugate(H)],\n",
       "[B*conjugate(A), B*conjugate(B), B*conjugate(C), B*conjugate(D), B*conjugate(E), B*conjugate(F), B*conjugate(G), B*conjugate(H)],\n",
       "[C*conjugate(A), C*conjugate(B), C*conjugate(C), C*conjugate(D), C*conjugate(E), C*conjugate(F), C*conjugate(G), C*conjugate(H)],\n",
       "[D*conjugate(A), D*conjugate(B), D*conjugate(C), D*conjugate(D), D*conjugate(E), D*conjugate(F), D*conjugate(G), D*conjugate(H)],\n",
       "[E*conjugate(A), E*conjugate(B), E*conjugate(C), E*conjugate(D), E*conjugate(E), E*conjugate(F), E*conjugate(G), E*conjugate(H)],\n",
       "[F*conjugate(A), F*conjugate(B), F*conjugate(C), F*conjugate(D), F*conjugate(E), F*conjugate(F), F*conjugate(G), F*conjugate(H)],\n",
       "[G*conjugate(A), G*conjugate(B), G*conjugate(C), G*conjugate(D), G*conjugate(E), G*conjugate(F), G*conjugate(G), G*conjugate(H)],\n",
       "[H*conjugate(A), H*conjugate(B), H*conjugate(C), H*conjugate(D), H*conjugate(E), H*conjugate(F), H*conjugate(G), H*conjugate(H)]])"
      ]
     },
     "execution_count": 3,
     "metadata": {},
     "output_type": "execute_result"
    }
   ],
   "source": [
    "\n",
    "a, b, c, d, e, f, g, h = symbols('A B C D E F G H')\n",
    "\n",
    "rho = Matrix([[a*conjugate(a), a*conjugate(b), a*conjugate(c), a*conjugate(d), a*conjugate(e), a*conjugate(f), a*conjugate(g), a*conjugate(h)],\n",
    "              [b*conjugate(a), b*conjugate(b), b*conjugate(c), b*conjugate(d), b*conjugate(e), b*conjugate(f), b*conjugate(g), b*conjugate(h)],\n",
    "              [c*conjugate(a), c*conjugate(b), c*conjugate(c), c*conjugate(d), c*conjugate(e), c*conjugate(f), c*conjugate(g), c*conjugate(h)],\n",
    "              [d*conjugate(a), d*conjugate(b), d*conjugate(c), d*conjugate(d), d*conjugate(e), d*conjugate(f), d*conjugate(g), d*conjugate(h)],\n",
    "              [e*conjugate(a), e*conjugate(b), e*conjugate(c), e*conjugate(d), e*conjugate(e), e*conjugate(f), e*conjugate(g), e*conjugate(h)],\n",
    "              [f*conjugate(a), f*conjugate(b), f*conjugate(c), f*conjugate(d), f*conjugate(e), f*conjugate(f), f*conjugate(g), f*conjugate(h)],\n",
    "              [g*conjugate(a), g*conjugate(b), g*conjugate(c), g*conjugate(d), g*conjugate(e), g*conjugate(f), g*conjugate(g), g*conjugate(h)],\n",
    "              [h*conjugate(a), h*conjugate(b), h*conjugate(c), h*conjugate(d), h*conjugate(e), h*conjugate(f), h*conjugate(g), h*conjugate(h)],              \n",
    "             ])\n",
    "\n",
    "# state = Matrix([a, b, c, d, e, f, g, h])\n",
    "# rho = state*state.T\n",
    "\n",
    "rho"
   ]
  },
  {
   "cell_type": "code",
   "execution_count": 4,
   "metadata": {},
   "outputs": [
    {
     "data": {
      "text/latex": [
       "$\\displaystyle \\left[\\begin{matrix}1 & 0 & 0 & 0 & 0 & 0 & 0 & 0\\\\0 & 1 & 0 & 0 & 0 & 0 & 0 & 0\\\\0 & 0 & 0 & 1 & 0 & 0 & 0 & 0\\\\0 & 0 & 1 & 0 & 0 & 0 & 0 & 0\\\\0 & 0 & 0 & 0 & 1 & 0 & 0 & 0\\\\0 & 0 & 0 & 0 & 0 & 1 & 0 & 0\\\\0 & 0 & 0 & 0 & 0 & 0 & 0 & 1\\\\0 & 0 & 0 & 0 & 0 & 0 & 1 & 0\\end{matrix}\\right]$"
      ],
      "text/plain": [
       "Matrix([\n",
       "[1, 0, 0, 0, 0, 0, 0, 0],\n",
       "[0, 1, 0, 0, 0, 0, 0, 0],\n",
       "[0, 0, 0, 1, 0, 0, 0, 0],\n",
       "[0, 0, 1, 0, 0, 0, 0, 0],\n",
       "[0, 0, 0, 0, 1, 0, 0, 0],\n",
       "[0, 0, 0, 0, 0, 1, 0, 0],\n",
       "[0, 0, 0, 0, 0, 0, 0, 1],\n",
       "[0, 0, 0, 0, 0, 0, 1, 0]])"
      ]
     },
     "execution_count": 4,
     "metadata": {},
     "output_type": "execute_result"
    }
   ],
   "source": [
    "cnot = diag(diag(1, 1, Matrix([[0, 1], [1, 0]])), diag(1, 1, Matrix([[0, 1], [1, 0]])))\n",
    "cnot"
   ]
  },
  {
   "cell_type": "code",
   "execution_count": 5,
   "metadata": {},
   "outputs": [
    {
     "data": {
      "text/latex": [
       "$\\displaystyle \\left[\\begin{matrix}1 & 0 & 0 & 0\\\\0 & 1 & 0 & 0\\\\0 & 0 & 0 & 1\\\\0 & 0 & 1 & 0\\end{matrix}\\right]$"
      ],
      "text/plain": [
       "Matrix([\n",
       "[1, 0, 0, 0],\n",
       "[0, 1, 0, 0],\n",
       "[0, 0, 0, 1],\n",
       "[0, 0, 1, 0]])"
      ]
     },
     "execution_count": 5,
     "metadata": {},
     "output_type": "execute_result"
    }
   ],
   "source": [
    "cnot2 = diag(1, 1, Matrix([[0, 1], [1, 0]]))\n",
    "cnot2"
   ]
  },
  {
   "cell_type": "code",
   "execution_count": 6,
   "metadata": {},
   "outputs": [
    {
     "data": {
      "text/latex": [
       "$\\displaystyle \\left[\\begin{matrix}1 & 0 & 0 & 0 & 0 & 0 & 0 & 0\\\\0 & 0 & 0 & 0 & 1 & 0 & 0 & 0\\\\0 & 1 & 0 & 0 & 0 & 0 & 0 & 0\\\\0 & 0 & 0 & 0 & 0 & 1 & 0 & 0\\\\0 & 0 & 1 & 0 & 0 & 0 & 0 & 0\\\\0 & 0 & 0 & 0 & 0 & 0 & 1 & 0\\\\0 & 0 & 0 & 1 & 0 & 0 & 0 & 0\\\\0 & 0 & 0 & 0 & 0 & 0 & 0 & 1\\end{matrix}\\right]$"
      ],
      "text/plain": [
       "Matrix([\n",
       "[1, 0, 0, 0, 0, 0, 0, 0],\n",
       "[0, 0, 0, 0, 1, 0, 0, 0],\n",
       "[0, 1, 0, 0, 0, 0, 0, 0],\n",
       "[0, 0, 0, 0, 0, 1, 0, 0],\n",
       "[0, 0, 1, 0, 0, 0, 0, 0],\n",
       "[0, 0, 0, 0, 0, 0, 1, 0],\n",
       "[0, 0, 0, 1, 0, 0, 0, 0],\n",
       "[0, 0, 0, 0, 0, 0, 0, 1]])"
      ]
     },
     "execution_count": 6,
     "metadata": {},
     "output_type": "execute_result"
    }
   ],
   "source": [
    "cyclic_swap = Matrix(\n",
    "   [[1, 0, 0, 0, 0, 0, 0, 0],\n",
    "    [0, 0, 0, 0, 1, 0, 0, 0],\n",
    "    [0, 1, 0, 0, 0, 0, 0, 0],\n",
    "    [0, 0, 0, 0, 0, 1, 0, 0],\n",
    "    [0, 0, 1, 0, 0, 0, 0, 0],\n",
    "    [0, 0, 0, 0, 0, 0, 1, 0],\n",
    "    [0, 0, 0, 1, 0, 0, 0, 0],\n",
    "    [0, 0, 0, 0, 0, 0, 0, 1]] )\n",
    "\n",
    "cyclic_swap"
   ]
  },
  {
   "cell_type": "code",
   "execution_count": 7,
   "metadata": {},
   "outputs": [
    {
     "data": {
      "text/latex": [
       "$\\displaystyle \\left[\\begin{matrix}1 & 1 & 0 & 0\\\\1 & -1 & 0 & 0\\\\0 & 0 & 1 & 1\\\\0 & 0 & 1 & -1\\end{matrix}\\right]$"
      ],
      "text/plain": [
       "Matrix([\n",
       "[1,  1, 0,  0],\n",
       "[1, -1, 0,  0],\n",
       "[0,  0, 1,  1],\n",
       "[0,  0, 1, -1]])"
      ]
     },
     "execution_count": 7,
     "metadata": {},
     "output_type": "execute_result"
    }
   ],
   "source": [
    "hadamard = diag([[1, 1], [1, -1]], [[1, 1], [1, -1]])\n",
    "hadamard"
   ]
  },
  {
   "cell_type": "code",
   "execution_count": 8,
   "metadata": {},
   "outputs": [
    {
     "data": {
      "text/latex": [
       "$\\displaystyle \\left[\\begin{matrix}1 & 0 & 0 & 0\\\\0 & 1 & 0 & 0\\\\0 & 0 & 0 & 1\\\\0 & 0 & 1 & 0\\end{matrix}\\right]$"
      ],
      "text/plain": [
       "Matrix([\n",
       "[1, 0, 0, 0],\n",
       "[0, 1, 0, 0],\n",
       "[0, 0, 0, 1],\n",
       "[0, 0, 1, 0]])"
      ]
     },
     "execution_count": 8,
     "metadata": {},
     "output_type": "execute_result"
    }
   ],
   "source": [
    "cx = diag(1, 1, [[0, 1], [1, 0]])\n",
    "cx"
   ]
  },
  {
   "cell_type": "code",
   "execution_count": 9,
   "metadata": {},
   "outputs": [
    {
     "data": {
      "text/latex": [
       "$\\displaystyle \\left[\\begin{matrix}1 & 0 & 0 & 0\\\\0 & 0 & 1 & 0\\\\0 & 1 & 0 & 0\\\\0 & 0 & 0 & 1\\end{matrix}\\right]$"
      ],
      "text/plain": [
       "Matrix([\n",
       "[1, 0, 0, 0],\n",
       "[0, 0, 1, 0],\n",
       "[0, 1, 0, 0],\n",
       "[0, 0, 0, 1]])"
      ]
     },
     "execution_count": 9,
     "metadata": {},
     "output_type": "execute_result"
    }
   ],
   "source": [
    "sw = diag(1, [[0, 1], [1, 0]], 1)\n",
    "sw"
   ]
  },
  {
   "cell_type": "code",
   "execution_count": 10,
   "metadata": {},
   "outputs": [
    {
     "data": {
      "text/latex": [
       "$\\displaystyle \\left[\\begin{matrix}1 & 0 & 0 & 0\\\\0 & 0 & 0 & 1\\\\0 & 0 & 1 & 0\\\\0 & 1 & 0 & 0\\end{matrix}\\right]$"
      ],
      "text/plain": [
       "Matrix([\n",
       "[1, 0, 0, 0],\n",
       "[0, 0, 0, 1],\n",
       "[0, 0, 1, 0],\n",
       "[0, 1, 0, 0]])"
      ]
     },
     "execution_count": 10,
     "metadata": {},
     "output_type": "execute_result"
    }
   ],
   "source": [
    "sw * cx * sw"
   ]
  },
  {
   "cell_type": "markdown",
   "metadata": {},
   "source": [
    "# Before operation"
   ]
  },
  {
   "cell_type": "code",
   "execution_count": 11,
   "metadata": {},
   "outputs": [
    {
     "data": {
      "text/latex": [
       "$\\displaystyle \\left[\\begin{matrix}A \\overline{A} & A \\overline{B} & A \\overline{C} & A \\overline{D} & A \\overline{E} & A \\overline{F} & A \\overline{G} & A \\overline{H}\\\\B \\overline{A} & B \\overline{B} & B \\overline{C} & B \\overline{D} & B \\overline{E} & B \\overline{F} & B \\overline{G} & B \\overline{H}\\\\C \\overline{A} & C \\overline{B} & C \\overline{C} & C \\overline{D} & C \\overline{E} & C \\overline{F} & C \\overline{G} & C \\overline{H}\\\\D \\overline{A} & D \\overline{B} & D \\overline{C} & D \\overline{D} & D \\overline{E} & D \\overline{F} & D \\overline{G} & D \\overline{H}\\\\E \\overline{A} & E \\overline{B} & E \\overline{C} & E \\overline{D} & E \\overline{E} & E \\overline{F} & E \\overline{G} & E \\overline{H}\\\\F \\overline{A} & F \\overline{B} & F \\overline{C} & F \\overline{D} & F \\overline{E} & F \\overline{F} & F \\overline{G} & F \\overline{H}\\\\G \\overline{A} & G \\overline{B} & G \\overline{C} & G \\overline{D} & G \\overline{E} & G \\overline{F} & G \\overline{G} & G \\overline{H}\\\\H \\overline{A} & H \\overline{B} & H \\overline{C} & H \\overline{D} & H \\overline{E} & H \\overline{F} & H \\overline{G} & H \\overline{H}\\end{matrix}\\right]$"
      ],
      "text/plain": [
       "Matrix([\n",
       "[A*conjugate(A), A*conjugate(B), A*conjugate(C), A*conjugate(D), A*conjugate(E), A*conjugate(F), A*conjugate(G), A*conjugate(H)],\n",
       "[B*conjugate(A), B*conjugate(B), B*conjugate(C), B*conjugate(D), B*conjugate(E), B*conjugate(F), B*conjugate(G), B*conjugate(H)],\n",
       "[C*conjugate(A), C*conjugate(B), C*conjugate(C), C*conjugate(D), C*conjugate(E), C*conjugate(F), C*conjugate(G), C*conjugate(H)],\n",
       "[D*conjugate(A), D*conjugate(B), D*conjugate(C), D*conjugate(D), D*conjugate(E), D*conjugate(F), D*conjugate(G), D*conjugate(H)],\n",
       "[E*conjugate(A), E*conjugate(B), E*conjugate(C), E*conjugate(D), E*conjugate(E), E*conjugate(F), E*conjugate(G), E*conjugate(H)],\n",
       "[F*conjugate(A), F*conjugate(B), F*conjugate(C), F*conjugate(D), F*conjugate(E), F*conjugate(F), F*conjugate(G), F*conjugate(H)],\n",
       "[G*conjugate(A), G*conjugate(B), G*conjugate(C), G*conjugate(D), G*conjugate(E), G*conjugate(F), G*conjugate(G), G*conjugate(H)],\n",
       "[H*conjugate(A), H*conjugate(B), H*conjugate(C), H*conjugate(D), H*conjugate(E), H*conjugate(F), H*conjugate(G), H*conjugate(H)]])"
      ]
     },
     "execution_count": 11,
     "metadata": {},
     "output_type": "execute_result"
    }
   ],
   "source": [
    "rho"
   ]
  },
  {
   "cell_type": "code",
   "execution_count": 12,
   "metadata": {},
   "outputs": [
    {
     "data": {
      "text/latex": [
       "$\\displaystyle \\left[\\begin{matrix}A \\overline{A} + E \\overline{E} & A \\overline{B} + E \\overline{F} & A \\overline{C} + E \\overline{G} & A \\overline{D} + E \\overline{H}\\\\B \\overline{A} + F \\overline{E} & B \\overline{B} + F \\overline{F} & B \\overline{C} + F \\overline{G} & B \\overline{D} + F \\overline{H}\\\\C \\overline{A} + G \\overline{E} & C \\overline{B} + G \\overline{F} & C \\overline{C} + G \\overline{G} & C \\overline{D} + G \\overline{H}\\\\D \\overline{A} + H \\overline{E} & D \\overline{B} + H \\overline{F} & D \\overline{C} + H \\overline{G} & D \\overline{D} + H \\overline{H}\\end{matrix}\\right]$"
      ],
      "text/plain": [
       "Matrix([\n",
       "[A*conjugate(A) + E*conjugate(E), A*conjugate(B) + E*conjugate(F), A*conjugate(C) + E*conjugate(G), A*conjugate(D) + E*conjugate(H)],\n",
       "[B*conjugate(A) + F*conjugate(E), B*conjugate(B) + F*conjugate(F), B*conjugate(C) + F*conjugate(G), B*conjugate(D) + F*conjugate(H)],\n",
       "[C*conjugate(A) + G*conjugate(E), C*conjugate(B) + G*conjugate(F), C*conjugate(C) + G*conjugate(G), C*conjugate(D) + G*conjugate(H)],\n",
       "[D*conjugate(A) + H*conjugate(E), D*conjugate(B) + H*conjugate(F), D*conjugate(C) + H*conjugate(G), D*conjugate(D) + H*conjugate(H)]])"
      ]
     },
     "execution_count": 12,
     "metadata": {},
     "output_type": "execute_result"
    }
   ],
   "source": [
    "prev23 = partial_trace(rho)\n",
    "prev23"
   ]
  },
  {
   "cell_type": "code",
   "execution_count": 13,
   "metadata": {},
   "outputs": [
    {
     "data": {
      "text/latex": [
       "$\\displaystyle \\left[\\begin{matrix}A \\overline{A} + C \\overline{C} & A \\overline{E} + C \\overline{G} & A \\overline{B} + C \\overline{D} & A \\overline{F} + C \\overline{H}\\\\E \\overline{A} + G \\overline{C} & E \\overline{E} + G \\overline{G} & E \\overline{B} + G \\overline{D} & E \\overline{F} + G \\overline{H}\\\\B \\overline{A} + D \\overline{C} & B \\overline{E} + D \\overline{G} & B \\overline{B} + D \\overline{D} & B \\overline{F} + D \\overline{H}\\\\F \\overline{A} + H \\overline{C} & F \\overline{E} + H \\overline{G} & F \\overline{B} + H \\overline{D} & F \\overline{F} + H \\overline{H}\\end{matrix}\\right]$"
      ],
      "text/plain": [
       "Matrix([\n",
       "[A*conjugate(A) + C*conjugate(C), A*conjugate(E) + C*conjugate(G), A*conjugate(B) + C*conjugate(D), A*conjugate(F) + C*conjugate(H)],\n",
       "[E*conjugate(A) + G*conjugate(C), E*conjugate(E) + G*conjugate(G), E*conjugate(B) + G*conjugate(D), E*conjugate(F) + G*conjugate(H)],\n",
       "[B*conjugate(A) + D*conjugate(C), B*conjugate(E) + D*conjugate(G), B*conjugate(B) + D*conjugate(D), B*conjugate(F) + D*conjugate(H)],\n",
       "[F*conjugate(A) + H*conjugate(C), F*conjugate(E) + H*conjugate(G), F*conjugate(B) + H*conjugate(D), F*conjugate(F) + H*conjugate(H)]])"
      ]
     },
     "execution_count": 13,
     "metadata": {},
     "output_type": "execute_result"
    }
   ],
   "source": [
    "prev12 = partial_trace(cyclic_swap*rho*cyclic_swap.T)\n",
    "prev12"
   ]
  },
  {
   "cell_type": "code",
   "execution_count": 14,
   "metadata": {},
   "outputs": [
    {
     "data": {
      "text/latex": [
       "$\\displaystyle \\left[\\begin{matrix}A \\overline{A} + B \\overline{B} & A \\overline{C} + B \\overline{D} & A \\overline{E} + B \\overline{F} & A \\overline{G} + B \\overline{H}\\\\C \\overline{A} + D \\overline{B} & C \\overline{C} + D \\overline{D} & C \\overline{E} + D \\overline{F} & C \\overline{G} + D \\overline{H}\\\\E \\overline{A} + F \\overline{B} & E \\overline{C} + F \\overline{D} & E \\overline{E} + F \\overline{F} & E \\overline{G} + F \\overline{H}\\\\G \\overline{A} + H \\overline{B} & G \\overline{C} + H \\overline{D} & G \\overline{E} + H \\overline{F} & G \\overline{G} + H \\overline{H}\\end{matrix}\\right]$"
      ],
      "text/plain": [
       "Matrix([\n",
       "[A*conjugate(A) + B*conjugate(B), A*conjugate(C) + B*conjugate(D), A*conjugate(E) + B*conjugate(F), A*conjugate(G) + B*conjugate(H)],\n",
       "[C*conjugate(A) + D*conjugate(B), C*conjugate(C) + D*conjugate(D), C*conjugate(E) + D*conjugate(F), C*conjugate(G) + D*conjugate(H)],\n",
       "[E*conjugate(A) + F*conjugate(B), E*conjugate(C) + F*conjugate(D), E*conjugate(E) + F*conjugate(F), E*conjugate(G) + F*conjugate(H)],\n",
       "[G*conjugate(A) + H*conjugate(B), G*conjugate(C) + H*conjugate(D), G*conjugate(E) + H*conjugate(F), G*conjugate(G) + H*conjugate(H)]])"
      ]
     },
     "execution_count": 14,
     "metadata": {},
     "output_type": "execute_result"
    }
   ],
   "source": [
    "prev31 = partial_trace(cyclic_swap*cyclic_swap*rho*cyclic_swap.T*cyclic_swap.T)\n",
    "prev31"
   ]
  },
  {
   "cell_type": "markdown",
   "metadata": {},
   "source": [
    "# After operation"
   ]
  },
  {
   "cell_type": "code",
   "execution_count": 15,
   "metadata": {},
   "outputs": [
    {
     "data": {
      "text/latex": [
       "$\\displaystyle \\left[\\begin{matrix}A \\overline{A} & A \\overline{B} & A \\overline{D} & A \\overline{C} & A \\overline{E} & A \\overline{F} & A \\overline{H} & A \\overline{G}\\\\B \\overline{A} & B \\overline{B} & B \\overline{D} & B \\overline{C} & B \\overline{E} & B \\overline{F} & B \\overline{H} & B \\overline{G}\\\\D \\overline{A} & D \\overline{B} & D \\overline{D} & D \\overline{C} & D \\overline{E} & D \\overline{F} & D \\overline{H} & D \\overline{G}\\\\C \\overline{A} & C \\overline{B} & C \\overline{D} & C \\overline{C} & C \\overline{E} & C \\overline{F} & C \\overline{H} & C \\overline{G}\\\\E \\overline{A} & E \\overline{B} & E \\overline{D} & E \\overline{C} & E \\overline{E} & E \\overline{F} & E \\overline{H} & E \\overline{G}\\\\F \\overline{A} & F \\overline{B} & F \\overline{D} & F \\overline{C} & F \\overline{E} & F \\overline{F} & F \\overline{H} & F \\overline{G}\\\\H \\overline{A} & H \\overline{B} & H \\overline{D} & H \\overline{C} & H \\overline{E} & H \\overline{F} & H \\overline{H} & H \\overline{G}\\\\G \\overline{A} & G \\overline{B} & G \\overline{D} & G \\overline{C} & G \\overline{E} & G \\overline{F} & G \\overline{H} & G \\overline{G}\\end{matrix}\\right]$"
      ],
      "text/plain": [
       "Matrix([\n",
       "[A*conjugate(A), A*conjugate(B), A*conjugate(D), A*conjugate(C), A*conjugate(E), A*conjugate(F), A*conjugate(H), A*conjugate(G)],\n",
       "[B*conjugate(A), B*conjugate(B), B*conjugate(D), B*conjugate(C), B*conjugate(E), B*conjugate(F), B*conjugate(H), B*conjugate(G)],\n",
       "[D*conjugate(A), D*conjugate(B), D*conjugate(D), D*conjugate(C), D*conjugate(E), D*conjugate(F), D*conjugate(H), D*conjugate(G)],\n",
       "[C*conjugate(A), C*conjugate(B), C*conjugate(D), C*conjugate(C), C*conjugate(E), C*conjugate(F), C*conjugate(H), C*conjugate(G)],\n",
       "[E*conjugate(A), E*conjugate(B), E*conjugate(D), E*conjugate(C), E*conjugate(E), E*conjugate(F), E*conjugate(H), E*conjugate(G)],\n",
       "[F*conjugate(A), F*conjugate(B), F*conjugate(D), F*conjugate(C), F*conjugate(E), F*conjugate(F), F*conjugate(H), F*conjugate(G)],\n",
       "[H*conjugate(A), H*conjugate(B), H*conjugate(D), H*conjugate(C), H*conjugate(E), H*conjugate(F), H*conjugate(H), H*conjugate(G)],\n",
       "[G*conjugate(A), G*conjugate(B), G*conjugate(D), G*conjugate(C), G*conjugate(E), G*conjugate(F), G*conjugate(H), G*conjugate(G)]])"
      ]
     },
     "execution_count": 15,
     "metadata": {},
     "output_type": "execute_result"
    }
   ],
   "source": [
    "rho = cnot*rho*cnot.T\n",
    "rho"
   ]
  },
  {
   "cell_type": "code",
   "execution_count": 16,
   "metadata": {},
   "outputs": [
    {
     "data": {
      "text/latex": [
       "$\\displaystyle \\left[\\begin{matrix}A \\overline{A} + E \\overline{E} & A \\overline{B} + E \\overline{F} & A \\overline{D} + E \\overline{H} & A \\overline{C} + E \\overline{G}\\\\B \\overline{A} + F \\overline{E} & B \\overline{B} + F \\overline{F} & B \\overline{D} + F \\overline{H} & B \\overline{C} + F \\overline{G}\\\\D \\overline{A} + H \\overline{E} & D \\overline{B} + H \\overline{F} & D \\overline{D} + H \\overline{H} & D \\overline{C} + H \\overline{G}\\\\C \\overline{A} + G \\overline{E} & C \\overline{B} + G \\overline{F} & C \\overline{D} + G \\overline{H} & C \\overline{C} + G \\overline{G}\\end{matrix}\\right]$"
      ],
      "text/plain": [
       "Matrix([\n",
       "[A*conjugate(A) + E*conjugate(E), A*conjugate(B) + E*conjugate(F), A*conjugate(D) + E*conjugate(H), A*conjugate(C) + E*conjugate(G)],\n",
       "[B*conjugate(A) + F*conjugate(E), B*conjugate(B) + F*conjugate(F), B*conjugate(D) + F*conjugate(H), B*conjugate(C) + F*conjugate(G)],\n",
       "[D*conjugate(A) + H*conjugate(E), D*conjugate(B) + H*conjugate(F), D*conjugate(D) + H*conjugate(H), D*conjugate(C) + H*conjugate(G)],\n",
       "[C*conjugate(A) + G*conjugate(E), C*conjugate(B) + G*conjugate(F), C*conjugate(D) + G*conjugate(H), C*conjugate(C) + G*conjugate(G)]])"
      ]
     },
     "execution_count": 16,
     "metadata": {},
     "output_type": "execute_result"
    }
   ],
   "source": [
    "post23 = partial_trace(rho)\n",
    "post23"
   ]
  },
  {
   "cell_type": "code",
   "execution_count": 17,
   "metadata": {},
   "outputs": [
    {
     "data": {
      "text/latex": [
       "$\\displaystyle \\left[\\begin{matrix}A \\overline{A} + D \\overline{D} & A \\overline{E} + D \\overline{H} & A \\overline{B} + D \\overline{C} & A \\overline{F} + D \\overline{G}\\\\E \\overline{A} + H \\overline{D} & E \\overline{E} + H \\overline{H} & E \\overline{B} + H \\overline{C} & E \\overline{F} + H \\overline{G}\\\\B \\overline{A} + C \\overline{D} & B \\overline{E} + C \\overline{H} & B \\overline{B} + C \\overline{C} & B \\overline{F} + C \\overline{G}\\\\F \\overline{A} + G \\overline{D} & F \\overline{E} + G \\overline{H} & F \\overline{B} + G \\overline{C} & F \\overline{F} + G \\overline{G}\\end{matrix}\\right]$"
      ],
      "text/plain": [
       "Matrix([\n",
       "[A*conjugate(A) + D*conjugate(D), A*conjugate(E) + D*conjugate(H), A*conjugate(B) + D*conjugate(C), A*conjugate(F) + D*conjugate(G)],\n",
       "[E*conjugate(A) + H*conjugate(D), E*conjugate(E) + H*conjugate(H), E*conjugate(B) + H*conjugate(C), E*conjugate(F) + H*conjugate(G)],\n",
       "[B*conjugate(A) + C*conjugate(D), B*conjugate(E) + C*conjugate(H), B*conjugate(B) + C*conjugate(C), B*conjugate(F) + C*conjugate(G)],\n",
       "[F*conjugate(A) + G*conjugate(D), F*conjugate(E) + G*conjugate(H), F*conjugate(B) + G*conjugate(C), F*conjugate(F) + G*conjugate(G)]])"
      ]
     },
     "execution_count": 17,
     "metadata": {},
     "output_type": "execute_result"
    }
   ],
   "source": [
    "post12 = partial_trace(cyclic_swap*rho*cyclic_swap.T)\n",
    "post12"
   ]
  },
  {
   "cell_type": "code",
   "execution_count": 18,
   "metadata": {},
   "outputs": [
    {
     "data": {
      "text/latex": [
       "$\\displaystyle \\left[\\begin{matrix}A \\overline{A} + B \\overline{B} & A \\overline{D} + B \\overline{C} & A \\overline{E} + B \\overline{F} & A \\overline{H} + B \\overline{G}\\\\C \\overline{B} + D \\overline{A} & C \\overline{C} + D \\overline{D} & C \\overline{F} + D \\overline{E} & C \\overline{G} + D \\overline{H}\\\\E \\overline{A} + F \\overline{B} & E \\overline{D} + F \\overline{C} & E \\overline{E} + F \\overline{F} & E \\overline{H} + F \\overline{G}\\\\G \\overline{B} + H \\overline{A} & G \\overline{C} + H \\overline{D} & G \\overline{F} + H \\overline{E} & G \\overline{G} + H \\overline{H}\\end{matrix}\\right]$"
      ],
      "text/plain": [
       "Matrix([\n",
       "[A*conjugate(A) + B*conjugate(B), A*conjugate(D) + B*conjugate(C), A*conjugate(E) + B*conjugate(F), A*conjugate(H) + B*conjugate(G)],\n",
       "[C*conjugate(B) + D*conjugate(A), C*conjugate(C) + D*conjugate(D), C*conjugate(F) + D*conjugate(E), C*conjugate(G) + D*conjugate(H)],\n",
       "[E*conjugate(A) + F*conjugate(B), E*conjugate(D) + F*conjugate(C), E*conjugate(E) + F*conjugate(F), E*conjugate(H) + F*conjugate(G)],\n",
       "[G*conjugate(B) + H*conjugate(A), G*conjugate(C) + H*conjugate(D), G*conjugate(F) + H*conjugate(E), G*conjugate(G) + H*conjugate(H)]])"
      ]
     },
     "execution_count": 18,
     "metadata": {},
     "output_type": "execute_result"
    }
   ],
   "source": [
    "post31 = partial_trace(cyclic_swap*cyclic_swap*rho*cyclic_swap.T*cyclic_swap.T)\n",
    "post31"
   ]
  },
  {
   "cell_type": "markdown",
   "metadata": {},
   "source": [
    "# Testbench"
   ]
  },
  {
   "cell_type": "code",
   "execution_count": 19,
   "metadata": {},
   "outputs": [
    {
     "data": {
      "text/latex": [
       "$\\displaystyle \\left[\\begin{matrix}A \\overline{A} & A \\overline{B} & A \\overline{D} & A \\overline{C} & A \\overline{E} & A \\overline{F} & A \\overline{H} & A \\overline{G}\\\\B \\overline{A} & B \\overline{B} & B \\overline{D} & B \\overline{C} & B \\overline{E} & B \\overline{F} & B \\overline{H} & B \\overline{G}\\\\D \\overline{A} & D \\overline{B} & D \\overline{D} & D \\overline{C} & D \\overline{E} & D \\overline{F} & D \\overline{H} & D \\overline{G}\\\\C \\overline{A} & C \\overline{B} & C \\overline{D} & C \\overline{C} & C \\overline{E} & C \\overline{F} & C \\overline{H} & C \\overline{G}\\\\E \\overline{A} & E \\overline{B} & E \\overline{D} & E \\overline{C} & E \\overline{E} & E \\overline{F} & E \\overline{H} & E \\overline{G}\\\\F \\overline{A} & F \\overline{B} & F \\overline{D} & F \\overline{C} & F \\overline{E} & F \\overline{F} & F \\overline{H} & F \\overline{G}\\\\H \\overline{A} & H \\overline{B} & H \\overline{D} & H \\overline{C} & H \\overline{E} & H \\overline{F} & H \\overline{H} & H \\overline{G}\\\\G \\overline{A} & G \\overline{B} & G \\overline{D} & G \\overline{C} & G \\overline{E} & G \\overline{F} & G \\overline{H} & G \\overline{G}\\end{matrix}\\right]$"
      ],
      "text/plain": [
       "Matrix([\n",
       "[A*conjugate(A), A*conjugate(B), A*conjugate(D), A*conjugate(C), A*conjugate(E), A*conjugate(F), A*conjugate(H), A*conjugate(G)],\n",
       "[B*conjugate(A), B*conjugate(B), B*conjugate(D), B*conjugate(C), B*conjugate(E), B*conjugate(F), B*conjugate(H), B*conjugate(G)],\n",
       "[D*conjugate(A), D*conjugate(B), D*conjugate(D), D*conjugate(C), D*conjugate(E), D*conjugate(F), D*conjugate(H), D*conjugate(G)],\n",
       "[C*conjugate(A), C*conjugate(B), C*conjugate(D), C*conjugate(C), C*conjugate(E), C*conjugate(F), C*conjugate(H), C*conjugate(G)],\n",
       "[E*conjugate(A), E*conjugate(B), E*conjugate(D), E*conjugate(C), E*conjugate(E), E*conjugate(F), E*conjugate(H), E*conjugate(G)],\n",
       "[F*conjugate(A), F*conjugate(B), F*conjugate(D), F*conjugate(C), F*conjugate(E), F*conjugate(F), F*conjugate(H), F*conjugate(G)],\n",
       "[H*conjugate(A), H*conjugate(B), H*conjugate(D), H*conjugate(C), H*conjugate(E), H*conjugate(F), H*conjugate(H), H*conjugate(G)],\n",
       "[G*conjugate(A), G*conjugate(B), G*conjugate(D), G*conjugate(C), G*conjugate(E), G*conjugate(F), G*conjugate(H), G*conjugate(G)]])"
      ]
     },
     "execution_count": 19,
     "metadata": {},
     "output_type": "execute_result"
    }
   ],
   "source": [
    "rho"
   ]
  },
  {
   "cell_type": "code",
   "execution_count": 20,
   "metadata": {},
   "outputs": [
    {
     "data": {
      "text/latex": [
       "$\\displaystyle \\left[\\begin{matrix}A^{2} \\overline{A}^{2} + A B \\overline{A} \\overline{B} + A C \\overline{A} \\overline{C} + A D \\overline{A} \\overline{D} + A E \\overline{A} \\overline{E} + A F \\overline{A} \\overline{F} + A G \\overline{A} \\overline{G} + A H \\overline{A} \\overline{H} & A^{2} \\overline{A} \\overline{B} + A B \\overline{B}^{2} + A C \\overline{B} \\overline{C} + A D \\overline{B} \\overline{D} + A E \\overline{B} \\overline{E} + A F \\overline{B} \\overline{F} + A G \\overline{B} \\overline{G} + A H \\overline{B} \\overline{H} & A^{2} \\overline{A} \\overline{D} + A B \\overline{B} \\overline{D} + A C \\overline{C} \\overline{D} + A D \\overline{D}^{2} + A E \\overline{D} \\overline{E} + A F \\overline{D} \\overline{F} + A G \\overline{D} \\overline{G} + A H \\overline{D} \\overline{H} & A^{2} \\overline{A} \\overline{C} + A B \\overline{B} \\overline{C} + A C \\overline{C}^{2} + A D \\overline{C} \\overline{D} + A E \\overline{C} \\overline{E} + A F \\overline{C} \\overline{F} + A G \\overline{C} \\overline{G} + A H \\overline{C} \\overline{H} & A^{2} \\overline{A} \\overline{E} + A B \\overline{B} \\overline{E} + A C \\overline{C} \\overline{E} + A D \\overline{D} \\overline{E} + A E \\overline{E}^{2} + A F \\overline{E} \\overline{F} + A G \\overline{E} \\overline{G} + A H \\overline{E} \\overline{H} & A^{2} \\overline{A} \\overline{F} + A B \\overline{B} \\overline{F} + A C \\overline{C} \\overline{F} + A D \\overline{D} \\overline{F} + A E \\overline{E} \\overline{F} + A F \\overline{F}^{2} + A G \\overline{F} \\overline{G} + A H \\overline{F} \\overline{H} & A^{2} \\overline{A} \\overline{H} + A B \\overline{B} \\overline{H} + A C \\overline{C} \\overline{H} + A D \\overline{D} \\overline{H} + A E \\overline{E} \\overline{H} + A F \\overline{F} \\overline{H} + A G \\overline{G} \\overline{H} + A H \\overline{H}^{2} & A^{2} \\overline{A} \\overline{G} + A B \\overline{B} \\overline{G} + A C \\overline{C} \\overline{G} + A D \\overline{D} \\overline{G} + A E \\overline{E} \\overline{G} + A F \\overline{F} \\overline{G} + A G \\overline{G}^{2} + A H \\overline{G} \\overline{H}\\\\A B \\overline{A}^{2} + B^{2} \\overline{A} \\overline{B} + B C \\overline{A} \\overline{C} + B D \\overline{A} \\overline{D} + B E \\overline{A} \\overline{E} + B F \\overline{A} \\overline{F} + B G \\overline{A} \\overline{G} + B H \\overline{A} \\overline{H} & A B \\overline{A} \\overline{B} + B^{2} \\overline{B}^{2} + B C \\overline{B} \\overline{C} + B D \\overline{B} \\overline{D} + B E \\overline{B} \\overline{E} + B F \\overline{B} \\overline{F} + B G \\overline{B} \\overline{G} + B H \\overline{B} \\overline{H} & A B \\overline{A} \\overline{D} + B^{2} \\overline{B} \\overline{D} + B C \\overline{C} \\overline{D} + B D \\overline{D}^{2} + B E \\overline{D} \\overline{E} + B F \\overline{D} \\overline{F} + B G \\overline{D} \\overline{G} + B H \\overline{D} \\overline{H} & A B \\overline{A} \\overline{C} + B^{2} \\overline{B} \\overline{C} + B C \\overline{C}^{2} + B D \\overline{C} \\overline{D} + B E \\overline{C} \\overline{E} + B F \\overline{C} \\overline{F} + B G \\overline{C} \\overline{G} + B H \\overline{C} \\overline{H} & A B \\overline{A} \\overline{E} + B^{2} \\overline{B} \\overline{E} + B C \\overline{C} \\overline{E} + B D \\overline{D} \\overline{E} + B E \\overline{E}^{2} + B F \\overline{E} \\overline{F} + B G \\overline{E} \\overline{G} + B H \\overline{E} \\overline{H} & A B \\overline{A} \\overline{F} + B^{2} \\overline{B} \\overline{F} + B C \\overline{C} \\overline{F} + B D \\overline{D} \\overline{F} + B E \\overline{E} \\overline{F} + B F \\overline{F}^{2} + B G \\overline{F} \\overline{G} + B H \\overline{F} \\overline{H} & A B \\overline{A} \\overline{H} + B^{2} \\overline{B} \\overline{H} + B C \\overline{C} \\overline{H} + B D \\overline{D} \\overline{H} + B E \\overline{E} \\overline{H} + B F \\overline{F} \\overline{H} + B G \\overline{G} \\overline{H} + B H \\overline{H}^{2} & A B \\overline{A} \\overline{G} + B^{2} \\overline{B} \\overline{G} + B C \\overline{C} \\overline{G} + B D \\overline{D} \\overline{G} + B E \\overline{E} \\overline{G} + B F \\overline{F} \\overline{G} + B G \\overline{G}^{2} + B H \\overline{G} \\overline{H}\\\\A D \\overline{A}^{2} + B D \\overline{A} \\overline{B} + C D \\overline{A} \\overline{C} + D^{2} \\overline{A} \\overline{D} + D E \\overline{A} \\overline{E} + D F \\overline{A} \\overline{F} + D G \\overline{A} \\overline{G} + D H \\overline{A} \\overline{H} & A D \\overline{A} \\overline{B} + B D \\overline{B}^{2} + C D \\overline{B} \\overline{C} + D^{2} \\overline{B} \\overline{D} + D E \\overline{B} \\overline{E} + D F \\overline{B} \\overline{F} + D G \\overline{B} \\overline{G} + D H \\overline{B} \\overline{H} & A D \\overline{A} \\overline{D} + B D \\overline{B} \\overline{D} + C D \\overline{C} \\overline{D} + D^{2} \\overline{D}^{2} + D E \\overline{D} \\overline{E} + D F \\overline{D} \\overline{F} + D G \\overline{D} \\overline{G} + D H \\overline{D} \\overline{H} & A D \\overline{A} \\overline{C} + B D \\overline{B} \\overline{C} + C D \\overline{C}^{2} + D^{2} \\overline{C} \\overline{D} + D E \\overline{C} \\overline{E} + D F \\overline{C} \\overline{F} + D G \\overline{C} \\overline{G} + D H \\overline{C} \\overline{H} & A D \\overline{A} \\overline{E} + B D \\overline{B} \\overline{E} + C D \\overline{C} \\overline{E} + D^{2} \\overline{D} \\overline{E} + D E \\overline{E}^{2} + D F \\overline{E} \\overline{F} + D G \\overline{E} \\overline{G} + D H \\overline{E} \\overline{H} & A D \\overline{A} \\overline{F} + B D \\overline{B} \\overline{F} + C D \\overline{C} \\overline{F} + D^{2} \\overline{D} \\overline{F} + D E \\overline{E} \\overline{F} + D F \\overline{F}^{2} + D G \\overline{F} \\overline{G} + D H \\overline{F} \\overline{H} & A D \\overline{A} \\overline{H} + B D \\overline{B} \\overline{H} + C D \\overline{C} \\overline{H} + D^{2} \\overline{D} \\overline{H} + D E \\overline{E} \\overline{H} + D F \\overline{F} \\overline{H} + D G \\overline{G} \\overline{H} + D H \\overline{H}^{2} & A D \\overline{A} \\overline{G} + B D \\overline{B} \\overline{G} + C D \\overline{C} \\overline{G} + D^{2} \\overline{D} \\overline{G} + D E \\overline{E} \\overline{G} + D F \\overline{F} \\overline{G} + D G \\overline{G}^{2} + D H \\overline{G} \\overline{H}\\\\A C \\overline{A}^{2} + B C \\overline{A} \\overline{B} + C^{2} \\overline{A} \\overline{C} + C D \\overline{A} \\overline{D} + C E \\overline{A} \\overline{E} + C F \\overline{A} \\overline{F} + C G \\overline{A} \\overline{G} + C H \\overline{A} \\overline{H} & A C \\overline{A} \\overline{B} + B C \\overline{B}^{2} + C^{2} \\overline{B} \\overline{C} + C D \\overline{B} \\overline{D} + C E \\overline{B} \\overline{E} + C F \\overline{B} \\overline{F} + C G \\overline{B} \\overline{G} + C H \\overline{B} \\overline{H} & A C \\overline{A} \\overline{D} + B C \\overline{B} \\overline{D} + C^{2} \\overline{C} \\overline{D} + C D \\overline{D}^{2} + C E \\overline{D} \\overline{E} + C F \\overline{D} \\overline{F} + C G \\overline{D} \\overline{G} + C H \\overline{D} \\overline{H} & A C \\overline{A} \\overline{C} + B C \\overline{B} \\overline{C} + C^{2} \\overline{C}^{2} + C D \\overline{C} \\overline{D} + C E \\overline{C} \\overline{E} + C F \\overline{C} \\overline{F} + C G \\overline{C} \\overline{G} + C H \\overline{C} \\overline{H} & A C \\overline{A} \\overline{E} + B C \\overline{B} \\overline{E} + C^{2} \\overline{C} \\overline{E} + C D \\overline{D} \\overline{E} + C E \\overline{E}^{2} + C F \\overline{E} \\overline{F} + C G \\overline{E} \\overline{G} + C H \\overline{E} \\overline{H} & A C \\overline{A} \\overline{F} + B C \\overline{B} \\overline{F} + C^{2} \\overline{C} \\overline{F} + C D \\overline{D} \\overline{F} + C E \\overline{E} \\overline{F} + C F \\overline{F}^{2} + C G \\overline{F} \\overline{G} + C H \\overline{F} \\overline{H} & A C \\overline{A} \\overline{H} + B C \\overline{B} \\overline{H} + C^{2} \\overline{C} \\overline{H} + C D \\overline{D} \\overline{H} + C E \\overline{E} \\overline{H} + C F \\overline{F} \\overline{H} + C G \\overline{G} \\overline{H} + C H \\overline{H}^{2} & A C \\overline{A} \\overline{G} + B C \\overline{B} \\overline{G} + C^{2} \\overline{C} \\overline{G} + C D \\overline{D} \\overline{G} + C E \\overline{E} \\overline{G} + C F \\overline{F} \\overline{G} + C G \\overline{G}^{2} + C H \\overline{G} \\overline{H}\\\\A E \\overline{A}^{2} + B E \\overline{A} \\overline{B} + C E \\overline{A} \\overline{C} + D E \\overline{A} \\overline{D} + E^{2} \\overline{A} \\overline{E} + E F \\overline{A} \\overline{F} + E G \\overline{A} \\overline{G} + E H \\overline{A} \\overline{H} & A E \\overline{A} \\overline{B} + B E \\overline{B}^{2} + C E \\overline{B} \\overline{C} + D E \\overline{B} \\overline{D} + E^{2} \\overline{B} \\overline{E} + E F \\overline{B} \\overline{F} + E G \\overline{B} \\overline{G} + E H \\overline{B} \\overline{H} & A E \\overline{A} \\overline{D} + B E \\overline{B} \\overline{D} + C E \\overline{C} \\overline{D} + D E \\overline{D}^{2} + E^{2} \\overline{D} \\overline{E} + E F \\overline{D} \\overline{F} + E G \\overline{D} \\overline{G} + E H \\overline{D} \\overline{H} & A E \\overline{A} \\overline{C} + B E \\overline{B} \\overline{C} + C E \\overline{C}^{2} + D E \\overline{C} \\overline{D} + E^{2} \\overline{C} \\overline{E} + E F \\overline{C} \\overline{F} + E G \\overline{C} \\overline{G} + E H \\overline{C} \\overline{H} & A E \\overline{A} \\overline{E} + B E \\overline{B} \\overline{E} + C E \\overline{C} \\overline{E} + D E \\overline{D} \\overline{E} + E^{2} \\overline{E}^{2} + E F \\overline{E} \\overline{F} + E G \\overline{E} \\overline{G} + E H \\overline{E} \\overline{H} & A E \\overline{A} \\overline{F} + B E \\overline{B} \\overline{F} + C E \\overline{C} \\overline{F} + D E \\overline{D} \\overline{F} + E^{2} \\overline{E} \\overline{F} + E F \\overline{F}^{2} + E G \\overline{F} \\overline{G} + E H \\overline{F} \\overline{H} & A E \\overline{A} \\overline{H} + B E \\overline{B} \\overline{H} + C E \\overline{C} \\overline{H} + D E \\overline{D} \\overline{H} + E^{2} \\overline{E} \\overline{H} + E F \\overline{F} \\overline{H} + E G \\overline{G} \\overline{H} + E H \\overline{H}^{2} & A E \\overline{A} \\overline{G} + B E \\overline{B} \\overline{G} + C E \\overline{C} \\overline{G} + D E \\overline{D} \\overline{G} + E^{2} \\overline{E} \\overline{G} + E F \\overline{F} \\overline{G} + E G \\overline{G}^{2} + E H \\overline{G} \\overline{H}\\\\A F \\overline{A}^{2} + B F \\overline{A} \\overline{B} + C F \\overline{A} \\overline{C} + D F \\overline{A} \\overline{D} + E F \\overline{A} \\overline{E} + F^{2} \\overline{A} \\overline{F} + F G \\overline{A} \\overline{G} + F H \\overline{A} \\overline{H} & A F \\overline{A} \\overline{B} + B F \\overline{B}^{2} + C F \\overline{B} \\overline{C} + D F \\overline{B} \\overline{D} + E F \\overline{B} \\overline{E} + F^{2} \\overline{B} \\overline{F} + F G \\overline{B} \\overline{G} + F H \\overline{B} \\overline{H} & A F \\overline{A} \\overline{D} + B F \\overline{B} \\overline{D} + C F \\overline{C} \\overline{D} + D F \\overline{D}^{2} + E F \\overline{D} \\overline{E} + F^{2} \\overline{D} \\overline{F} + F G \\overline{D} \\overline{G} + F H \\overline{D} \\overline{H} & A F \\overline{A} \\overline{C} + B F \\overline{B} \\overline{C} + C F \\overline{C}^{2} + D F \\overline{C} \\overline{D} + E F \\overline{C} \\overline{E} + F^{2} \\overline{C} \\overline{F} + F G \\overline{C} \\overline{G} + F H \\overline{C} \\overline{H} & A F \\overline{A} \\overline{E} + B F \\overline{B} \\overline{E} + C F \\overline{C} \\overline{E} + D F \\overline{D} \\overline{E} + E F \\overline{E}^{2} + F^{2} \\overline{E} \\overline{F} + F G \\overline{E} \\overline{G} + F H \\overline{E} \\overline{H} & A F \\overline{A} \\overline{F} + B F \\overline{B} \\overline{F} + C F \\overline{C} \\overline{F} + D F \\overline{D} \\overline{F} + E F \\overline{E} \\overline{F} + F^{2} \\overline{F}^{2} + F G \\overline{F} \\overline{G} + F H \\overline{F} \\overline{H} & A F \\overline{A} \\overline{H} + B F \\overline{B} \\overline{H} + C F \\overline{C} \\overline{H} + D F \\overline{D} \\overline{H} + E F \\overline{E} \\overline{H} + F^{2} \\overline{F} \\overline{H} + F G \\overline{G} \\overline{H} + F H \\overline{H}^{2} & A F \\overline{A} \\overline{G} + B F \\overline{B} \\overline{G} + C F \\overline{C} \\overline{G} + D F \\overline{D} \\overline{G} + E F \\overline{E} \\overline{G} + F^{2} \\overline{F} \\overline{G} + F G \\overline{G}^{2} + F H \\overline{G} \\overline{H}\\\\A H \\overline{A}^{2} + B H \\overline{A} \\overline{B} + C H \\overline{A} \\overline{C} + D H \\overline{A} \\overline{D} + E H \\overline{A} \\overline{E} + F H \\overline{A} \\overline{F} + G H \\overline{A} \\overline{G} + H^{2} \\overline{A} \\overline{H} & A H \\overline{A} \\overline{B} + B H \\overline{B}^{2} + C H \\overline{B} \\overline{C} + D H \\overline{B} \\overline{D} + E H \\overline{B} \\overline{E} + F H \\overline{B} \\overline{F} + G H \\overline{B} \\overline{G} + H^{2} \\overline{B} \\overline{H} & A H \\overline{A} \\overline{D} + B H \\overline{B} \\overline{D} + C H \\overline{C} \\overline{D} + D H \\overline{D}^{2} + E H \\overline{D} \\overline{E} + F H \\overline{D} \\overline{F} + G H \\overline{D} \\overline{G} + H^{2} \\overline{D} \\overline{H} & A H \\overline{A} \\overline{C} + B H \\overline{B} \\overline{C} + C H \\overline{C}^{2} + D H \\overline{C} \\overline{D} + E H \\overline{C} \\overline{E} + F H \\overline{C} \\overline{F} + G H \\overline{C} \\overline{G} + H^{2} \\overline{C} \\overline{H} & A H \\overline{A} \\overline{E} + B H \\overline{B} \\overline{E} + C H \\overline{C} \\overline{E} + D H \\overline{D} \\overline{E} + E H \\overline{E}^{2} + F H \\overline{E} \\overline{F} + G H \\overline{E} \\overline{G} + H^{2} \\overline{E} \\overline{H} & A H \\overline{A} \\overline{F} + B H \\overline{B} \\overline{F} + C H \\overline{C} \\overline{F} + D H \\overline{D} \\overline{F} + E H \\overline{E} \\overline{F} + F H \\overline{F}^{2} + G H \\overline{F} \\overline{G} + H^{2} \\overline{F} \\overline{H} & A H \\overline{A} \\overline{H} + B H \\overline{B} \\overline{H} + C H \\overline{C} \\overline{H} + D H \\overline{D} \\overline{H} + E H \\overline{E} \\overline{H} + F H \\overline{F} \\overline{H} + G H \\overline{G} \\overline{H} + H^{2} \\overline{H}^{2} & A H \\overline{A} \\overline{G} + B H \\overline{B} \\overline{G} + C H \\overline{C} \\overline{G} + D H \\overline{D} \\overline{G} + E H \\overline{E} \\overline{G} + F H \\overline{F} \\overline{G} + G H \\overline{G}^{2} + H^{2} \\overline{G} \\overline{H}\\\\A G \\overline{A}^{2} + B G \\overline{A} \\overline{B} + C G \\overline{A} \\overline{C} + D G \\overline{A} \\overline{D} + E G \\overline{A} \\overline{E} + F G \\overline{A} \\overline{F} + G^{2} \\overline{A} \\overline{G} + G H \\overline{A} \\overline{H} & A G \\overline{A} \\overline{B} + B G \\overline{B}^{2} + C G \\overline{B} \\overline{C} + D G \\overline{B} \\overline{D} + E G \\overline{B} \\overline{E} + F G \\overline{B} \\overline{F} + G^{2} \\overline{B} \\overline{G} + G H \\overline{B} \\overline{H} & A G \\overline{A} \\overline{D} + B G \\overline{B} \\overline{D} + C G \\overline{C} \\overline{D} + D G \\overline{D}^{2} + E G \\overline{D} \\overline{E} + F G \\overline{D} \\overline{F} + G^{2} \\overline{D} \\overline{G} + G H \\overline{D} \\overline{H} & A G \\overline{A} \\overline{C} + B G \\overline{B} \\overline{C} + C G \\overline{C}^{2} + D G \\overline{C} \\overline{D} + E G \\overline{C} \\overline{E} + F G \\overline{C} \\overline{F} + G^{2} \\overline{C} \\overline{G} + G H \\overline{C} \\overline{H} & A G \\overline{A} \\overline{E} + B G \\overline{B} \\overline{E} + C G \\overline{C} \\overline{E} + D G \\overline{D} \\overline{E} + E G \\overline{E}^{2} + F G \\overline{E} \\overline{F} + G^{2} \\overline{E} \\overline{G} + G H \\overline{E} \\overline{H} & A G \\overline{A} \\overline{F} + B G \\overline{B} \\overline{F} + C G \\overline{C} \\overline{F} + D G \\overline{D} \\overline{F} + E G \\overline{E} \\overline{F} + F G \\overline{F}^{2} + G^{2} \\overline{F} \\overline{G} + G H \\overline{F} \\overline{H} & A G \\overline{A} \\overline{H} + B G \\overline{B} \\overline{H} + C G \\overline{C} \\overline{H} + D G \\overline{D} \\overline{H} + E G \\overline{E} \\overline{H} + F G \\overline{F} \\overline{H} + G^{2} \\overline{G} \\overline{H} + G H \\overline{H}^{2} & A G \\overline{A} \\overline{G} + B G \\overline{B} \\overline{G} + C G \\overline{C} \\overline{G} + D G \\overline{D} \\overline{G} + E G \\overline{E} \\overline{G} + F G \\overline{F} \\overline{G} + G^{2} \\overline{G}^{2} + G H \\overline{G} \\overline{H}\\end{matrix}\\right]$"
      ],
      "text/plain": [
       "Matrix([\n",
       "[A**2*conjugate(A)**2 + A*B*conjugate(A)*conjugate(B) + A*C*conjugate(A)*conjugate(C) + A*D*conjugate(A)*conjugate(D) + A*E*conjugate(A)*conjugate(E) + A*F*conjugate(A)*conjugate(F) + A*G*conjugate(A)*conjugate(G) + A*H*conjugate(A)*conjugate(H), A**2*conjugate(A)*conjugate(B) + A*B*conjugate(B)**2 + A*C*conjugate(B)*conjugate(C) + A*D*conjugate(B)*conjugate(D) + A*E*conjugate(B)*conjugate(E) + A*F*conjugate(B)*conjugate(F) + A*G*conjugate(B)*conjugate(G) + A*H*conjugate(B)*conjugate(H), A**2*conjugate(A)*conjugate(D) + A*B*conjugate(B)*conjugate(D) + A*C*conjugate(C)*conjugate(D) + A*D*conjugate(D)**2 + A*E*conjugate(D)*conjugate(E) + A*F*conjugate(D)*conjugate(F) + A*G*conjugate(D)*conjugate(G) + A*H*conjugate(D)*conjugate(H), A**2*conjugate(A)*conjugate(C) + A*B*conjugate(B)*conjugate(C) + A*C*conjugate(C)**2 + A*D*conjugate(C)*conjugate(D) + A*E*conjugate(C)*conjugate(E) + A*F*conjugate(C)*conjugate(F) + A*G*conjugate(C)*conjugate(G) + A*H*conjugate(C)*conjugate(H), A**2*conjugate(A)*conjugate(E) + A*B*conjugate(B)*conjugate(E) + A*C*conjugate(C)*conjugate(E) + A*D*conjugate(D)*conjugate(E) + A*E*conjugate(E)**2 + A*F*conjugate(E)*conjugate(F) + A*G*conjugate(E)*conjugate(G) + A*H*conjugate(E)*conjugate(H), A**2*conjugate(A)*conjugate(F) + A*B*conjugate(B)*conjugate(F) + A*C*conjugate(C)*conjugate(F) + A*D*conjugate(D)*conjugate(F) + A*E*conjugate(E)*conjugate(F) + A*F*conjugate(F)**2 + A*G*conjugate(F)*conjugate(G) + A*H*conjugate(F)*conjugate(H), A**2*conjugate(A)*conjugate(H) + A*B*conjugate(B)*conjugate(H) + A*C*conjugate(C)*conjugate(H) + A*D*conjugate(D)*conjugate(H) + A*E*conjugate(E)*conjugate(H) + A*F*conjugate(F)*conjugate(H) + A*G*conjugate(G)*conjugate(H) + A*H*conjugate(H)**2, A**2*conjugate(A)*conjugate(G) + A*B*conjugate(B)*conjugate(G) + A*C*conjugate(C)*conjugate(G) + A*D*conjugate(D)*conjugate(G) + A*E*conjugate(E)*conjugate(G) + A*F*conjugate(F)*conjugate(G) + A*G*conjugate(G)**2 + A*H*conjugate(G)*conjugate(H)],\n",
       "[A*B*conjugate(A)**2 + B**2*conjugate(A)*conjugate(B) + B*C*conjugate(A)*conjugate(C) + B*D*conjugate(A)*conjugate(D) + B*E*conjugate(A)*conjugate(E) + B*F*conjugate(A)*conjugate(F) + B*G*conjugate(A)*conjugate(G) + B*H*conjugate(A)*conjugate(H), A*B*conjugate(A)*conjugate(B) + B**2*conjugate(B)**2 + B*C*conjugate(B)*conjugate(C) + B*D*conjugate(B)*conjugate(D) + B*E*conjugate(B)*conjugate(E) + B*F*conjugate(B)*conjugate(F) + B*G*conjugate(B)*conjugate(G) + B*H*conjugate(B)*conjugate(H), A*B*conjugate(A)*conjugate(D) + B**2*conjugate(B)*conjugate(D) + B*C*conjugate(C)*conjugate(D) + B*D*conjugate(D)**2 + B*E*conjugate(D)*conjugate(E) + B*F*conjugate(D)*conjugate(F) + B*G*conjugate(D)*conjugate(G) + B*H*conjugate(D)*conjugate(H), A*B*conjugate(A)*conjugate(C) + B**2*conjugate(B)*conjugate(C) + B*C*conjugate(C)**2 + B*D*conjugate(C)*conjugate(D) + B*E*conjugate(C)*conjugate(E) + B*F*conjugate(C)*conjugate(F) + B*G*conjugate(C)*conjugate(G) + B*H*conjugate(C)*conjugate(H), A*B*conjugate(A)*conjugate(E) + B**2*conjugate(B)*conjugate(E) + B*C*conjugate(C)*conjugate(E) + B*D*conjugate(D)*conjugate(E) + B*E*conjugate(E)**2 + B*F*conjugate(E)*conjugate(F) + B*G*conjugate(E)*conjugate(G) + B*H*conjugate(E)*conjugate(H), A*B*conjugate(A)*conjugate(F) + B**2*conjugate(B)*conjugate(F) + B*C*conjugate(C)*conjugate(F) + B*D*conjugate(D)*conjugate(F) + B*E*conjugate(E)*conjugate(F) + B*F*conjugate(F)**2 + B*G*conjugate(F)*conjugate(G) + B*H*conjugate(F)*conjugate(H), A*B*conjugate(A)*conjugate(H) + B**2*conjugate(B)*conjugate(H) + B*C*conjugate(C)*conjugate(H) + B*D*conjugate(D)*conjugate(H) + B*E*conjugate(E)*conjugate(H) + B*F*conjugate(F)*conjugate(H) + B*G*conjugate(G)*conjugate(H) + B*H*conjugate(H)**2, A*B*conjugate(A)*conjugate(G) + B**2*conjugate(B)*conjugate(G) + B*C*conjugate(C)*conjugate(G) + B*D*conjugate(D)*conjugate(G) + B*E*conjugate(E)*conjugate(G) + B*F*conjugate(F)*conjugate(G) + B*G*conjugate(G)**2 + B*H*conjugate(G)*conjugate(H)],\n",
       "[A*D*conjugate(A)**2 + B*D*conjugate(A)*conjugate(B) + C*D*conjugate(A)*conjugate(C) + D**2*conjugate(A)*conjugate(D) + D*E*conjugate(A)*conjugate(E) + D*F*conjugate(A)*conjugate(F) + D*G*conjugate(A)*conjugate(G) + D*H*conjugate(A)*conjugate(H), A*D*conjugate(A)*conjugate(B) + B*D*conjugate(B)**2 + C*D*conjugate(B)*conjugate(C) + D**2*conjugate(B)*conjugate(D) + D*E*conjugate(B)*conjugate(E) + D*F*conjugate(B)*conjugate(F) + D*G*conjugate(B)*conjugate(G) + D*H*conjugate(B)*conjugate(H), A*D*conjugate(A)*conjugate(D) + B*D*conjugate(B)*conjugate(D) + C*D*conjugate(C)*conjugate(D) + D**2*conjugate(D)**2 + D*E*conjugate(D)*conjugate(E) + D*F*conjugate(D)*conjugate(F) + D*G*conjugate(D)*conjugate(G) + D*H*conjugate(D)*conjugate(H), A*D*conjugate(A)*conjugate(C) + B*D*conjugate(B)*conjugate(C) + C*D*conjugate(C)**2 + D**2*conjugate(C)*conjugate(D) + D*E*conjugate(C)*conjugate(E) + D*F*conjugate(C)*conjugate(F) + D*G*conjugate(C)*conjugate(G) + D*H*conjugate(C)*conjugate(H), A*D*conjugate(A)*conjugate(E) + B*D*conjugate(B)*conjugate(E) + C*D*conjugate(C)*conjugate(E) + D**2*conjugate(D)*conjugate(E) + D*E*conjugate(E)**2 + D*F*conjugate(E)*conjugate(F) + D*G*conjugate(E)*conjugate(G) + D*H*conjugate(E)*conjugate(H), A*D*conjugate(A)*conjugate(F) + B*D*conjugate(B)*conjugate(F) + C*D*conjugate(C)*conjugate(F) + D**2*conjugate(D)*conjugate(F) + D*E*conjugate(E)*conjugate(F) + D*F*conjugate(F)**2 + D*G*conjugate(F)*conjugate(G) + D*H*conjugate(F)*conjugate(H), A*D*conjugate(A)*conjugate(H) + B*D*conjugate(B)*conjugate(H) + C*D*conjugate(C)*conjugate(H) + D**2*conjugate(D)*conjugate(H) + D*E*conjugate(E)*conjugate(H) + D*F*conjugate(F)*conjugate(H) + D*G*conjugate(G)*conjugate(H) + D*H*conjugate(H)**2, A*D*conjugate(A)*conjugate(G) + B*D*conjugate(B)*conjugate(G) + C*D*conjugate(C)*conjugate(G) + D**2*conjugate(D)*conjugate(G) + D*E*conjugate(E)*conjugate(G) + D*F*conjugate(F)*conjugate(G) + D*G*conjugate(G)**2 + D*H*conjugate(G)*conjugate(H)],\n",
       "[A*C*conjugate(A)**2 + B*C*conjugate(A)*conjugate(B) + C**2*conjugate(A)*conjugate(C) + C*D*conjugate(A)*conjugate(D) + C*E*conjugate(A)*conjugate(E) + C*F*conjugate(A)*conjugate(F) + C*G*conjugate(A)*conjugate(G) + C*H*conjugate(A)*conjugate(H), A*C*conjugate(A)*conjugate(B) + B*C*conjugate(B)**2 + C**2*conjugate(B)*conjugate(C) + C*D*conjugate(B)*conjugate(D) + C*E*conjugate(B)*conjugate(E) + C*F*conjugate(B)*conjugate(F) + C*G*conjugate(B)*conjugate(G) + C*H*conjugate(B)*conjugate(H), A*C*conjugate(A)*conjugate(D) + B*C*conjugate(B)*conjugate(D) + C**2*conjugate(C)*conjugate(D) + C*D*conjugate(D)**2 + C*E*conjugate(D)*conjugate(E) + C*F*conjugate(D)*conjugate(F) + C*G*conjugate(D)*conjugate(G) + C*H*conjugate(D)*conjugate(H), A*C*conjugate(A)*conjugate(C) + B*C*conjugate(B)*conjugate(C) + C**2*conjugate(C)**2 + C*D*conjugate(C)*conjugate(D) + C*E*conjugate(C)*conjugate(E) + C*F*conjugate(C)*conjugate(F) + C*G*conjugate(C)*conjugate(G) + C*H*conjugate(C)*conjugate(H), A*C*conjugate(A)*conjugate(E) + B*C*conjugate(B)*conjugate(E) + C**2*conjugate(C)*conjugate(E) + C*D*conjugate(D)*conjugate(E) + C*E*conjugate(E)**2 + C*F*conjugate(E)*conjugate(F) + C*G*conjugate(E)*conjugate(G) + C*H*conjugate(E)*conjugate(H), A*C*conjugate(A)*conjugate(F) + B*C*conjugate(B)*conjugate(F) + C**2*conjugate(C)*conjugate(F) + C*D*conjugate(D)*conjugate(F) + C*E*conjugate(E)*conjugate(F) + C*F*conjugate(F)**2 + C*G*conjugate(F)*conjugate(G) + C*H*conjugate(F)*conjugate(H), A*C*conjugate(A)*conjugate(H) + B*C*conjugate(B)*conjugate(H) + C**2*conjugate(C)*conjugate(H) + C*D*conjugate(D)*conjugate(H) + C*E*conjugate(E)*conjugate(H) + C*F*conjugate(F)*conjugate(H) + C*G*conjugate(G)*conjugate(H) + C*H*conjugate(H)**2, A*C*conjugate(A)*conjugate(G) + B*C*conjugate(B)*conjugate(G) + C**2*conjugate(C)*conjugate(G) + C*D*conjugate(D)*conjugate(G) + C*E*conjugate(E)*conjugate(G) + C*F*conjugate(F)*conjugate(G) + C*G*conjugate(G)**2 + C*H*conjugate(G)*conjugate(H)],\n",
       "[A*E*conjugate(A)**2 + B*E*conjugate(A)*conjugate(B) + C*E*conjugate(A)*conjugate(C) + D*E*conjugate(A)*conjugate(D) + E**2*conjugate(A)*conjugate(E) + E*F*conjugate(A)*conjugate(F) + E*G*conjugate(A)*conjugate(G) + E*H*conjugate(A)*conjugate(H), A*E*conjugate(A)*conjugate(B) + B*E*conjugate(B)**2 + C*E*conjugate(B)*conjugate(C) + D*E*conjugate(B)*conjugate(D) + E**2*conjugate(B)*conjugate(E) + E*F*conjugate(B)*conjugate(F) + E*G*conjugate(B)*conjugate(G) + E*H*conjugate(B)*conjugate(H), A*E*conjugate(A)*conjugate(D) + B*E*conjugate(B)*conjugate(D) + C*E*conjugate(C)*conjugate(D) + D*E*conjugate(D)**2 + E**2*conjugate(D)*conjugate(E) + E*F*conjugate(D)*conjugate(F) + E*G*conjugate(D)*conjugate(G) + E*H*conjugate(D)*conjugate(H), A*E*conjugate(A)*conjugate(C) + B*E*conjugate(B)*conjugate(C) + C*E*conjugate(C)**2 + D*E*conjugate(C)*conjugate(D) + E**2*conjugate(C)*conjugate(E) + E*F*conjugate(C)*conjugate(F) + E*G*conjugate(C)*conjugate(G) + E*H*conjugate(C)*conjugate(H), A*E*conjugate(A)*conjugate(E) + B*E*conjugate(B)*conjugate(E) + C*E*conjugate(C)*conjugate(E) + D*E*conjugate(D)*conjugate(E) + E**2*conjugate(E)**2 + E*F*conjugate(E)*conjugate(F) + E*G*conjugate(E)*conjugate(G) + E*H*conjugate(E)*conjugate(H), A*E*conjugate(A)*conjugate(F) + B*E*conjugate(B)*conjugate(F) + C*E*conjugate(C)*conjugate(F) + D*E*conjugate(D)*conjugate(F) + E**2*conjugate(E)*conjugate(F) + E*F*conjugate(F)**2 + E*G*conjugate(F)*conjugate(G) + E*H*conjugate(F)*conjugate(H), A*E*conjugate(A)*conjugate(H) + B*E*conjugate(B)*conjugate(H) + C*E*conjugate(C)*conjugate(H) + D*E*conjugate(D)*conjugate(H) + E**2*conjugate(E)*conjugate(H) + E*F*conjugate(F)*conjugate(H) + E*G*conjugate(G)*conjugate(H) + E*H*conjugate(H)**2, A*E*conjugate(A)*conjugate(G) + B*E*conjugate(B)*conjugate(G) + C*E*conjugate(C)*conjugate(G) + D*E*conjugate(D)*conjugate(G) + E**2*conjugate(E)*conjugate(G) + E*F*conjugate(F)*conjugate(G) + E*G*conjugate(G)**2 + E*H*conjugate(G)*conjugate(H)],\n",
       "[A*F*conjugate(A)**2 + B*F*conjugate(A)*conjugate(B) + C*F*conjugate(A)*conjugate(C) + D*F*conjugate(A)*conjugate(D) + E*F*conjugate(A)*conjugate(E) + F**2*conjugate(A)*conjugate(F) + F*G*conjugate(A)*conjugate(G) + F*H*conjugate(A)*conjugate(H), A*F*conjugate(A)*conjugate(B) + B*F*conjugate(B)**2 + C*F*conjugate(B)*conjugate(C) + D*F*conjugate(B)*conjugate(D) + E*F*conjugate(B)*conjugate(E) + F**2*conjugate(B)*conjugate(F) + F*G*conjugate(B)*conjugate(G) + F*H*conjugate(B)*conjugate(H), A*F*conjugate(A)*conjugate(D) + B*F*conjugate(B)*conjugate(D) + C*F*conjugate(C)*conjugate(D) + D*F*conjugate(D)**2 + E*F*conjugate(D)*conjugate(E) + F**2*conjugate(D)*conjugate(F) + F*G*conjugate(D)*conjugate(G) + F*H*conjugate(D)*conjugate(H), A*F*conjugate(A)*conjugate(C) + B*F*conjugate(B)*conjugate(C) + C*F*conjugate(C)**2 + D*F*conjugate(C)*conjugate(D) + E*F*conjugate(C)*conjugate(E) + F**2*conjugate(C)*conjugate(F) + F*G*conjugate(C)*conjugate(G) + F*H*conjugate(C)*conjugate(H), A*F*conjugate(A)*conjugate(E) + B*F*conjugate(B)*conjugate(E) + C*F*conjugate(C)*conjugate(E) + D*F*conjugate(D)*conjugate(E) + E*F*conjugate(E)**2 + F**2*conjugate(E)*conjugate(F) + F*G*conjugate(E)*conjugate(G) + F*H*conjugate(E)*conjugate(H), A*F*conjugate(A)*conjugate(F) + B*F*conjugate(B)*conjugate(F) + C*F*conjugate(C)*conjugate(F) + D*F*conjugate(D)*conjugate(F) + E*F*conjugate(E)*conjugate(F) + F**2*conjugate(F)**2 + F*G*conjugate(F)*conjugate(G) + F*H*conjugate(F)*conjugate(H), A*F*conjugate(A)*conjugate(H) + B*F*conjugate(B)*conjugate(H) + C*F*conjugate(C)*conjugate(H) + D*F*conjugate(D)*conjugate(H) + E*F*conjugate(E)*conjugate(H) + F**2*conjugate(F)*conjugate(H) + F*G*conjugate(G)*conjugate(H) + F*H*conjugate(H)**2, A*F*conjugate(A)*conjugate(G) + B*F*conjugate(B)*conjugate(G) + C*F*conjugate(C)*conjugate(G) + D*F*conjugate(D)*conjugate(G) + E*F*conjugate(E)*conjugate(G) + F**2*conjugate(F)*conjugate(G) + F*G*conjugate(G)**2 + F*H*conjugate(G)*conjugate(H)],\n",
       "[A*H*conjugate(A)**2 + B*H*conjugate(A)*conjugate(B) + C*H*conjugate(A)*conjugate(C) + D*H*conjugate(A)*conjugate(D) + E*H*conjugate(A)*conjugate(E) + F*H*conjugate(A)*conjugate(F) + G*H*conjugate(A)*conjugate(G) + H**2*conjugate(A)*conjugate(H), A*H*conjugate(A)*conjugate(B) + B*H*conjugate(B)**2 + C*H*conjugate(B)*conjugate(C) + D*H*conjugate(B)*conjugate(D) + E*H*conjugate(B)*conjugate(E) + F*H*conjugate(B)*conjugate(F) + G*H*conjugate(B)*conjugate(G) + H**2*conjugate(B)*conjugate(H), A*H*conjugate(A)*conjugate(D) + B*H*conjugate(B)*conjugate(D) + C*H*conjugate(C)*conjugate(D) + D*H*conjugate(D)**2 + E*H*conjugate(D)*conjugate(E) + F*H*conjugate(D)*conjugate(F) + G*H*conjugate(D)*conjugate(G) + H**2*conjugate(D)*conjugate(H), A*H*conjugate(A)*conjugate(C) + B*H*conjugate(B)*conjugate(C) + C*H*conjugate(C)**2 + D*H*conjugate(C)*conjugate(D) + E*H*conjugate(C)*conjugate(E) + F*H*conjugate(C)*conjugate(F) + G*H*conjugate(C)*conjugate(G) + H**2*conjugate(C)*conjugate(H), A*H*conjugate(A)*conjugate(E) + B*H*conjugate(B)*conjugate(E) + C*H*conjugate(C)*conjugate(E) + D*H*conjugate(D)*conjugate(E) + E*H*conjugate(E)**2 + F*H*conjugate(E)*conjugate(F) + G*H*conjugate(E)*conjugate(G) + H**2*conjugate(E)*conjugate(H), A*H*conjugate(A)*conjugate(F) + B*H*conjugate(B)*conjugate(F) + C*H*conjugate(C)*conjugate(F) + D*H*conjugate(D)*conjugate(F) + E*H*conjugate(E)*conjugate(F) + F*H*conjugate(F)**2 + G*H*conjugate(F)*conjugate(G) + H**2*conjugate(F)*conjugate(H), A*H*conjugate(A)*conjugate(H) + B*H*conjugate(B)*conjugate(H) + C*H*conjugate(C)*conjugate(H) + D*H*conjugate(D)*conjugate(H) + E*H*conjugate(E)*conjugate(H) + F*H*conjugate(F)*conjugate(H) + G*H*conjugate(G)*conjugate(H) + H**2*conjugate(H)**2, A*H*conjugate(A)*conjugate(G) + B*H*conjugate(B)*conjugate(G) + C*H*conjugate(C)*conjugate(G) + D*H*conjugate(D)*conjugate(G) + E*H*conjugate(E)*conjugate(G) + F*H*conjugate(F)*conjugate(G) + G*H*conjugate(G)**2 + H**2*conjugate(G)*conjugate(H)],\n",
       "[A*G*conjugate(A)**2 + B*G*conjugate(A)*conjugate(B) + C*G*conjugate(A)*conjugate(C) + D*G*conjugate(A)*conjugate(D) + E*G*conjugate(A)*conjugate(E) + F*G*conjugate(A)*conjugate(F) + G**2*conjugate(A)*conjugate(G) + G*H*conjugate(A)*conjugate(H), A*G*conjugate(A)*conjugate(B) + B*G*conjugate(B)**2 + C*G*conjugate(B)*conjugate(C) + D*G*conjugate(B)*conjugate(D) + E*G*conjugate(B)*conjugate(E) + F*G*conjugate(B)*conjugate(F) + G**2*conjugate(B)*conjugate(G) + G*H*conjugate(B)*conjugate(H), A*G*conjugate(A)*conjugate(D) + B*G*conjugate(B)*conjugate(D) + C*G*conjugate(C)*conjugate(D) + D*G*conjugate(D)**2 + E*G*conjugate(D)*conjugate(E) + F*G*conjugate(D)*conjugate(F) + G**2*conjugate(D)*conjugate(G) + G*H*conjugate(D)*conjugate(H), A*G*conjugate(A)*conjugate(C) + B*G*conjugate(B)*conjugate(C) + C*G*conjugate(C)**2 + D*G*conjugate(C)*conjugate(D) + E*G*conjugate(C)*conjugate(E) + F*G*conjugate(C)*conjugate(F) + G**2*conjugate(C)*conjugate(G) + G*H*conjugate(C)*conjugate(H), A*G*conjugate(A)*conjugate(E) + B*G*conjugate(B)*conjugate(E) + C*G*conjugate(C)*conjugate(E) + D*G*conjugate(D)*conjugate(E) + E*G*conjugate(E)**2 + F*G*conjugate(E)*conjugate(F) + G**2*conjugate(E)*conjugate(G) + G*H*conjugate(E)*conjugate(H), A*G*conjugate(A)*conjugate(F) + B*G*conjugate(B)*conjugate(F) + C*G*conjugate(C)*conjugate(F) + D*G*conjugate(D)*conjugate(F) + E*G*conjugate(E)*conjugate(F) + F*G*conjugate(F)**2 + G**2*conjugate(F)*conjugate(G) + G*H*conjugate(F)*conjugate(H), A*G*conjugate(A)*conjugate(H) + B*G*conjugate(B)*conjugate(H) + C*G*conjugate(C)*conjugate(H) + D*G*conjugate(D)*conjugate(H) + E*G*conjugate(E)*conjugate(H) + F*G*conjugate(F)*conjugate(H) + G**2*conjugate(G)*conjugate(H) + G*H*conjugate(H)**2, A*G*conjugate(A)*conjugate(G) + B*G*conjugate(B)*conjugate(G) + C*G*conjugate(C)*conjugate(G) + D*G*conjugate(D)*conjugate(G) + E*G*conjugate(E)*conjugate(G) + F*G*conjugate(F)*conjugate(G) + G**2*conjugate(G)**2 + G*H*conjugate(G)*conjugate(H)]])"
      ]
     },
     "execution_count": 20,
     "metadata": {},
     "output_type": "execute_result"
    }
   ],
   "source": [
    "rho*rho"
   ]
  },
  {
   "cell_type": "code",
   "execution_count": 21,
   "metadata": {},
   "outputs": [
    {
     "data": {
      "text/latex": [
       "$\\displaystyle A^{2} \\overline{A}^{2} + 2 A B \\overline{A} \\overline{B} + 2 A C \\overline{A} \\overline{C} + 2 A D \\overline{A} \\overline{D} + 2 A E \\overline{A} \\overline{E} + 2 A F \\overline{A} \\overline{F} + 2 A G \\overline{A} \\overline{G} + 2 A H \\overline{A} \\overline{H} + B^{2} \\overline{B}^{2} + 2 B C \\overline{B} \\overline{C} + 2 B D \\overline{B} \\overline{D} + 2 B E \\overline{B} \\overline{E} + 2 B F \\overline{B} \\overline{F} + 2 B G \\overline{B} \\overline{G} + 2 B H \\overline{B} \\overline{H} + C^{2} \\overline{C}^{2} + 2 C D \\overline{C} \\overline{D} + 2 C E \\overline{C} \\overline{E} + 2 C F \\overline{C} \\overline{F} + 2 C G \\overline{C} \\overline{G} + 2 C H \\overline{C} \\overline{H} + D^{2} \\overline{D}^{2} + 2 D E \\overline{D} \\overline{E} + 2 D F \\overline{D} \\overline{F} + 2 D G \\overline{D} \\overline{G} + 2 D H \\overline{D} \\overline{H} + E^{2} \\overline{E}^{2} + 2 E F \\overline{E} \\overline{F} + 2 E G \\overline{E} \\overline{G} + 2 E H \\overline{E} \\overline{H} + F^{2} \\overline{F}^{2} + 2 F G \\overline{F} \\overline{G} + 2 F H \\overline{F} \\overline{H} + G^{2} \\overline{G}^{2} + 2 G H \\overline{G} \\overline{H} + H^{2} \\overline{H}^{2}$"
      ],
      "text/plain": [
       "A**2*conjugate(A)**2 + 2*A*B*conjugate(A)*conjugate(B) + 2*A*C*conjugate(A)*conjugate(C) + 2*A*D*conjugate(A)*conjugate(D) + 2*A*E*conjugate(A)*conjugate(E) + 2*A*F*conjugate(A)*conjugate(F) + 2*A*G*conjugate(A)*conjugate(G) + 2*A*H*conjugate(A)*conjugate(H) + B**2*conjugate(B)**2 + 2*B*C*conjugate(B)*conjugate(C) + 2*B*D*conjugate(B)*conjugate(D) + 2*B*E*conjugate(B)*conjugate(E) + 2*B*F*conjugate(B)*conjugate(F) + 2*B*G*conjugate(B)*conjugate(G) + 2*B*H*conjugate(B)*conjugate(H) + C**2*conjugate(C)**2 + 2*C*D*conjugate(C)*conjugate(D) + 2*C*E*conjugate(C)*conjugate(E) + 2*C*F*conjugate(C)*conjugate(F) + 2*C*G*conjugate(C)*conjugate(G) + 2*C*H*conjugate(C)*conjugate(H) + D**2*conjugate(D)**2 + 2*D*E*conjugate(D)*conjugate(E) + 2*D*F*conjugate(D)*conjugate(F) + 2*D*G*conjugate(D)*conjugate(G) + 2*D*H*conjugate(D)*conjugate(H) + E**2*conjugate(E)**2 + 2*E*F*conjugate(E)*conjugate(F) + 2*E*G*conjugate(E)*conjugate(G) + 2*E*H*conjugate(E)*conjugate(H) + F**2*conjugate(F)**2 + 2*F*G*conjugate(F)*conjugate(G) + 2*F*H*conjugate(F)*conjugate(H) + G**2*conjugate(G)**2 + 2*G*H*conjugate(G)*conjugate(H) + H**2*conjugate(H)**2"
      ]
     },
     "execution_count": 21,
     "metadata": {},
     "output_type": "execute_result"
    }
   ],
   "source": [
    "master = trace(rho*rho)\n",
    "master"
   ]
  },
  {
   "cell_type": "code",
   "execution_count": 22,
   "metadata": {},
   "outputs": [
    {
     "data": {
      "text/latex": [
       "$\\displaystyle \\left(A \\overline{A} + E \\overline{E}\\right)^{2} + 2 \\left(A \\overline{B} + E \\overline{F}\\right) \\left(B \\overline{A} + F \\overline{E}\\right) + 2 \\left(A \\overline{C} + E \\overline{G}\\right) \\left(C \\overline{A} + G \\overline{E}\\right) + 2 \\left(A \\overline{D} + E \\overline{H}\\right) \\left(D \\overline{A} + H \\overline{E}\\right) + \\left(B \\overline{B} + F \\overline{F}\\right)^{2} + 2 \\left(B \\overline{C} + F \\overline{G}\\right) \\left(C \\overline{B} + G \\overline{F}\\right) + 2 \\left(B \\overline{D} + F \\overline{H}\\right) \\left(D \\overline{B} + H \\overline{F}\\right) + \\left(C \\overline{C} + G \\overline{G}\\right)^{2} + 2 \\left(C \\overline{D} + G \\overline{H}\\right) \\left(D \\overline{C} + H \\overline{G}\\right) + \\left(D \\overline{D} + H \\overline{H}\\right)^{2}$"
      ],
      "text/plain": [
       "(A*conjugate(A) + E*conjugate(E))**2 + 2*(A*conjugate(B) + E*conjugate(F))*(B*conjugate(A) + F*conjugate(E)) + 2*(A*conjugate(C) + E*conjugate(G))*(C*conjugate(A) + G*conjugate(E)) + 2*(A*conjugate(D) + E*conjugate(H))*(D*conjugate(A) + H*conjugate(E)) + (B*conjugate(B) + F*conjugate(F))**2 + 2*(B*conjugate(C) + F*conjugate(G))*(C*conjugate(B) + G*conjugate(F)) + 2*(B*conjugate(D) + F*conjugate(H))*(D*conjugate(B) + H*conjugate(F)) + (C*conjugate(C) + G*conjugate(G))**2 + 2*(C*conjugate(D) + G*conjugate(H))*(D*conjugate(C) + H*conjugate(G)) + (D*conjugate(D) + H*conjugate(H))**2"
      ]
     },
     "execution_count": 22,
     "metadata": {},
     "output_type": "execute_result"
    }
   ],
   "source": [
    "subsys1 = trace(prev23*prev23)\n",
    "subsys1"
   ]
  },
  {
   "cell_type": "code",
   "execution_count": 23,
   "metadata": {},
   "outputs": [
    {
     "data": {
      "text/latex": [
       "$\\displaystyle A^{2} \\overline{A}^{2} + 2 A B \\overline{A} \\overline{B} + 2 A C \\overline{A} \\overline{C} + 2 A D \\overline{B} \\overline{C} + 2 A E \\overline{A} \\overline{E} + 2 A F \\overline{A} \\overline{F} + 2 A G \\overline{C} \\overline{E} + 2 A H \\overline{C} \\overline{F} + B^{2} \\overline{B}^{2} + 2 B C \\overline{A} \\overline{D} + 2 B D \\overline{B} \\overline{D} + 2 B E \\overline{B} \\overline{E} + 2 B F \\overline{B} \\overline{F} + 2 B G \\overline{D} \\overline{E} + 2 B H \\overline{D} \\overline{F} + C^{2} \\overline{C}^{2} + 2 C D \\overline{C} \\overline{D} + 2 C E \\overline{A} \\overline{G} + 2 C F \\overline{A} \\overline{H} + 2 C G \\overline{C} \\overline{G} + 2 C H \\overline{C} \\overline{H} + D^{2} \\overline{D}^{2} + 2 D E \\overline{B} \\overline{G} + 2 D F \\overline{B} \\overline{H} + 2 D G \\overline{D} \\overline{G} + 2 D H \\overline{D} \\overline{H} + E^{2} \\overline{E}^{2} + 2 E F \\overline{E} \\overline{F} + 2 E G \\overline{E} \\overline{G} + 2 E H \\overline{F} \\overline{G} + F^{2} \\overline{F}^{2} + 2 F G \\overline{E} \\overline{H} + 2 F H \\overline{F} \\overline{H} + G^{2} \\overline{G}^{2} + 2 G H \\overline{G} \\overline{H} + H^{2} \\overline{H}^{2}$"
      ],
      "text/plain": [
       "A**2*conjugate(A)**2 + 2*A*B*conjugate(A)*conjugate(B) + 2*A*C*conjugate(A)*conjugate(C) + 2*A*D*conjugate(B)*conjugate(C) + 2*A*E*conjugate(A)*conjugate(E) + 2*A*F*conjugate(A)*conjugate(F) + 2*A*G*conjugate(C)*conjugate(E) + 2*A*H*conjugate(C)*conjugate(F) + B**2*conjugate(B)**2 + 2*B*C*conjugate(A)*conjugate(D) + 2*B*D*conjugate(B)*conjugate(D) + 2*B*E*conjugate(B)*conjugate(E) + 2*B*F*conjugate(B)*conjugate(F) + 2*B*G*conjugate(D)*conjugate(E) + 2*B*H*conjugate(D)*conjugate(F) + C**2*conjugate(C)**2 + 2*C*D*conjugate(C)*conjugate(D) + 2*C*E*conjugate(A)*conjugate(G) + 2*C*F*conjugate(A)*conjugate(H) + 2*C*G*conjugate(C)*conjugate(G) + 2*C*H*conjugate(C)*conjugate(H) + D**2*conjugate(D)**2 + 2*D*E*conjugate(B)*conjugate(G) + 2*D*F*conjugate(B)*conjugate(H) + 2*D*G*conjugate(D)*conjugate(G) + 2*D*H*conjugate(D)*conjugate(H) + E**2*conjugate(E)**2 + 2*E*F*conjugate(E)*conjugate(F) + 2*E*G*conjugate(E)*conjugate(G) + 2*E*H*conjugate(F)*conjugate(G) + F**2*conjugate(F)**2 + 2*F*G*conjugate(E)*conjugate(H) + 2*F*H*conjugate(F)*conjugate(H) + G**2*conjugate(G)**2 + 2*G*H*conjugate(G)*conjugate(H) + H**2*conjugate(H)**2"
      ]
     },
     "execution_count": 23,
     "metadata": {},
     "output_type": "execute_result"
    }
   ],
   "source": [
    "subsys2 = expand(trace(prev12*prev12))\n",
    "subsys2"
   ]
  },
  {
   "cell_type": "code",
   "execution_count": 24,
   "metadata": {},
   "outputs": [
    {
     "data": {
      "text/latex": [
       "$\\displaystyle A^{2} \\overline{A}^{2} + 2 A B \\overline{A} \\overline{B} + 2 A C \\overline{A} \\overline{C} + 2 A D \\overline{B} \\overline{C} + 2 A E \\overline{A} \\overline{E} + 2 A F \\overline{B} \\overline{E} + 2 A G \\overline{A} \\overline{G} + 2 A H \\overline{B} \\overline{G} + B^{2} \\overline{B}^{2} + 2 B C \\overline{A} \\overline{D} + 2 B D \\overline{B} \\overline{D} + 2 B E \\overline{A} \\overline{F} + 2 B F \\overline{B} \\overline{F} + 2 B G \\overline{A} \\overline{H} + 2 B H \\overline{B} \\overline{H} + C^{2} \\overline{C}^{2} + 2 C D \\overline{C} \\overline{D} + 2 C E \\overline{C} \\overline{E} + 2 C F \\overline{D} \\overline{E} + 2 C G \\overline{C} \\overline{G} + 2 C H \\overline{D} \\overline{G} + D^{2} \\overline{D}^{2} + 2 D E \\overline{C} \\overline{F} + 2 D F \\overline{D} \\overline{F} + 2 D G \\overline{C} \\overline{H} + 2 D H \\overline{D} \\overline{H} + E^{2} \\overline{E}^{2} + 2 E F \\overline{E} \\overline{F} + 2 E G \\overline{E} \\overline{G} + 2 E H \\overline{F} \\overline{G} + F^{2} \\overline{F}^{2} + 2 F G \\overline{E} \\overline{H} + 2 F H \\overline{F} \\overline{H} + G^{2} \\overline{G}^{2} + 2 G H \\overline{G} \\overline{H} + H^{2} \\overline{H}^{2}$"
      ],
      "text/plain": [
       "A**2*conjugate(A)**2 + 2*A*B*conjugate(A)*conjugate(B) + 2*A*C*conjugate(A)*conjugate(C) + 2*A*D*conjugate(B)*conjugate(C) + 2*A*E*conjugate(A)*conjugate(E) + 2*A*F*conjugate(B)*conjugate(E) + 2*A*G*conjugate(A)*conjugate(G) + 2*A*H*conjugate(B)*conjugate(G) + B**2*conjugate(B)**2 + 2*B*C*conjugate(A)*conjugate(D) + 2*B*D*conjugate(B)*conjugate(D) + 2*B*E*conjugate(A)*conjugate(F) + 2*B*F*conjugate(B)*conjugate(F) + 2*B*G*conjugate(A)*conjugate(H) + 2*B*H*conjugate(B)*conjugate(H) + C**2*conjugate(C)**2 + 2*C*D*conjugate(C)*conjugate(D) + 2*C*E*conjugate(C)*conjugate(E) + 2*C*F*conjugate(D)*conjugate(E) + 2*C*G*conjugate(C)*conjugate(G) + 2*C*H*conjugate(D)*conjugate(G) + D**2*conjugate(D)**2 + 2*D*E*conjugate(C)*conjugate(F) + 2*D*F*conjugate(D)*conjugate(F) + 2*D*G*conjugate(C)*conjugate(H) + 2*D*H*conjugate(D)*conjugate(H) + E**2*conjugate(E)**2 + 2*E*F*conjugate(E)*conjugate(F) + 2*E*G*conjugate(E)*conjugate(G) + 2*E*H*conjugate(F)*conjugate(G) + F**2*conjugate(F)**2 + 2*F*G*conjugate(E)*conjugate(H) + 2*F*H*conjugate(F)*conjugate(H) + G**2*conjugate(G)**2 + 2*G*H*conjugate(G)*conjugate(H) + H**2*conjugate(H)**2"
      ]
     },
     "execution_count": 24,
     "metadata": {},
     "output_type": "execute_result"
    }
   ],
   "source": [
    "subsys3 = expand(trace(prev31*prev31))\n",
    "subsys3"
   ]
  },
  {
   "cell_type": "code",
   "execution_count": 25,
   "metadata": {},
   "outputs": [
    {
     "data": {
      "text/latex": [
       "$\\displaystyle 2 \\left(A D \\overline{A} \\overline{D} - A D \\overline{B} \\overline{C} - A G \\overline{A} \\overline{G} + A G \\overline{C} \\overline{E} - A H \\overline{B} \\overline{G} + A H \\overline{D} \\overline{E} - B C \\overline{A} \\overline{D} + B C \\overline{B} \\overline{C} - B G \\overline{A} \\overline{H} + B G \\overline{C} \\overline{F} - B H \\overline{B} \\overline{H} + B H \\overline{D} \\overline{F} + C E \\overline{A} \\overline{G} - C E \\overline{C} \\overline{E} + C F \\overline{B} \\overline{G} - C F \\overline{D} \\overline{E} + D E \\overline{A} \\overline{H} - D E \\overline{C} \\overline{F} + D F \\overline{B} \\overline{H} - D F \\overline{D} \\overline{F} + E H \\overline{E} \\overline{H} - E H \\overline{F} \\overline{G} - F G \\overline{E} \\overline{H} + F G \\overline{F} \\overline{G}\\right)$"
      ],
      "text/plain": [
       "2*(A*D*conjugate(A)*conjugate(D) - A*D*conjugate(B)*conjugate(C) - A*G*conjugate(A)*conjugate(G) + A*G*conjugate(C)*conjugate(E) - A*H*conjugate(B)*conjugate(G) + A*H*conjugate(D)*conjugate(E) - B*C*conjugate(A)*conjugate(D) + B*C*conjugate(B)*conjugate(C) - B*G*conjugate(A)*conjugate(H) + B*G*conjugate(C)*conjugate(F) - B*H*conjugate(B)*conjugate(H) + B*H*conjugate(D)*conjugate(F) + C*E*conjugate(A)*conjugate(G) - C*E*conjugate(C)*conjugate(E) + C*F*conjugate(B)*conjugate(G) - C*F*conjugate(D)*conjugate(E) + D*E*conjugate(A)*conjugate(H) - D*E*conjugate(C)*conjugate(F) + D*F*conjugate(B)*conjugate(H) - D*F*conjugate(D)*conjugate(F) + E*H*conjugate(E)*conjugate(H) - E*H*conjugate(F)*conjugate(G) - F*G*conjugate(E)*conjugate(H) + F*G*conjugate(F)*conjugate(G))"
      ]
     },
     "execution_count": 25,
     "metadata": {},
     "output_type": "execute_result"
    }
   ],
   "source": [
    "factor(subsys1 - subsys3)"
   ]
  },
  {
   "cell_type": "code",
   "execution_count": 26,
   "metadata": {},
   "outputs": [
    {
     "data": {
      "text/latex": [
       "$\\displaystyle - A^{2} \\overline{A}^{2} - 2 A B \\overline{A} \\overline{B} - 2 A C \\overline{A} \\overline{C} - 2 A D \\overline{B} \\overline{C} - 2 A E \\overline{A} \\overline{E} - 2 A F \\overline{B} \\overline{E} - 2 A G \\overline{A} \\overline{G} - 2 A H \\overline{B} \\overline{G} - B^{2} \\overline{B}^{2} - 2 B C \\overline{A} \\overline{D} - 2 B D \\overline{B} \\overline{D} - 2 B E \\overline{A} \\overline{F} - 2 B F \\overline{B} \\overline{F} - 2 B G \\overline{A} \\overline{H} - 2 B H \\overline{B} \\overline{H} - C^{2} \\overline{C}^{2} - 2 C D \\overline{C} \\overline{D} - 2 C E \\overline{C} \\overline{E} - 2 C F \\overline{D} \\overline{E} - 2 C G \\overline{C} \\overline{G} - 2 C H \\overline{D} \\overline{G} - D^{2} \\overline{D}^{2} - 2 D E \\overline{C} \\overline{F} - 2 D F \\overline{D} \\overline{F} - 2 D G \\overline{C} \\overline{H} - 2 D H \\overline{D} \\overline{H} - E^{2} \\overline{E}^{2} - 2 E F \\overline{E} \\overline{F} - 2 E G \\overline{E} \\overline{G} - 2 E H \\overline{F} \\overline{G} - F^{2} \\overline{F}^{2} - 2 F G \\overline{E} \\overline{H} - 2 F H \\overline{F} \\overline{H} - G^{2} \\overline{G}^{2} - 2 G H \\overline{G} \\overline{H} - H^{2} \\overline{H}^{2} + \\left(A \\overline{A} + E \\overline{E}\\right)^{2} + 2 \\left(A \\overline{B} + E \\overline{F}\\right) \\left(B \\overline{A} + F \\overline{E}\\right) + 2 \\left(A \\overline{C} + E \\overline{G}\\right) \\left(C \\overline{A} + G \\overline{E}\\right) + 2 \\left(A \\overline{D} + E \\overline{H}\\right) \\left(D \\overline{A} + H \\overline{E}\\right) + \\left(B \\overline{B} + F \\overline{F}\\right)^{2} + 2 \\left(B \\overline{C} + F \\overline{G}\\right) \\left(C \\overline{B} + G \\overline{F}\\right) + 2 \\left(B \\overline{D} + F \\overline{H}\\right) \\left(D \\overline{B} + H \\overline{F}\\right) + \\left(C \\overline{C} + G \\overline{G}\\right)^{2} + 2 \\left(C \\overline{D} + G \\overline{H}\\right) \\left(D \\overline{C} + H \\overline{G}\\right) + \\left(D \\overline{D} + H \\overline{H}\\right)^{2}$"
      ],
      "text/plain": [
       "-A**2*conjugate(A)**2 - 2*A*B*conjugate(A)*conjugate(B) - 2*A*C*conjugate(A)*conjugate(C) - 2*A*D*conjugate(B)*conjugate(C) - 2*A*E*conjugate(A)*conjugate(E) - 2*A*F*conjugate(B)*conjugate(E) - 2*A*G*conjugate(A)*conjugate(G) - 2*A*H*conjugate(B)*conjugate(G) - B**2*conjugate(B)**2 - 2*B*C*conjugate(A)*conjugate(D) - 2*B*D*conjugate(B)*conjugate(D) - 2*B*E*conjugate(A)*conjugate(F) - 2*B*F*conjugate(B)*conjugate(F) - 2*B*G*conjugate(A)*conjugate(H) - 2*B*H*conjugate(B)*conjugate(H) - C**2*conjugate(C)**2 - 2*C*D*conjugate(C)*conjugate(D) - 2*C*E*conjugate(C)*conjugate(E) - 2*C*F*conjugate(D)*conjugate(E) - 2*C*G*conjugate(C)*conjugate(G) - 2*C*H*conjugate(D)*conjugate(G) - D**2*conjugate(D)**2 - 2*D*E*conjugate(C)*conjugate(F) - 2*D*F*conjugate(D)*conjugate(F) - 2*D*G*conjugate(C)*conjugate(H) - 2*D*H*conjugate(D)*conjugate(H) - E**2*conjugate(E)**2 - 2*E*F*conjugate(E)*conjugate(F) - 2*E*G*conjugate(E)*conjugate(G) - 2*E*H*conjugate(F)*conjugate(G) - F**2*conjugate(F)**2 - 2*F*G*conjugate(E)*conjugate(H) - 2*F*H*conjugate(F)*conjugate(H) - G**2*conjugate(G)**2 - 2*G*H*conjugate(G)*conjugate(H) - H**2*conjugate(H)**2 + (A*conjugate(A) + E*conjugate(E))**2 + 2*(A*conjugate(B) + E*conjugate(F))*(B*conjugate(A) + F*conjugate(E)) + 2*(A*conjugate(C) + E*conjugate(G))*(C*conjugate(A) + G*conjugate(E)) + 2*(A*conjugate(D) + E*conjugate(H))*(D*conjugate(A) + H*conjugate(E)) + (B*conjugate(B) + F*conjugate(F))**2 + 2*(B*conjugate(C) + F*conjugate(G))*(C*conjugate(B) + G*conjugate(F)) + 2*(B*conjugate(D) + F*conjugate(H))*(D*conjugate(B) + H*conjugate(F)) + (C*conjugate(C) + G*conjugate(G))**2 + 2*(C*conjugate(D) + G*conjugate(H))*(D*conjugate(C) + H*conjugate(G)) + (D*conjugate(D) + H*conjugate(H))**2"
      ]
     },
     "execution_count": 26,
     "metadata": {},
     "output_type": "execute_result"
    }
   ],
   "source": [
    "subsys1 - subsys3"
   ]
  },
  {
   "cell_type": "code",
   "execution_count": 27,
   "metadata": {},
   "outputs": [],
   "source": [
    "# hadamard * rho * hadamard.T"
   ]
  },
  {
   "cell_type": "code",
   "execution_count": 28,
   "metadata": {},
   "outputs": [
    {
     "data": {
      "text/latex": [
       "$\\displaystyle \\left[\\begin{matrix}A \\overline{A} & A \\overline{B} & A \\overline{D} & A \\overline{C} & A \\overline{E} & A \\overline{F} & A \\overline{H} & A \\overline{G}\\\\B \\overline{A} & B \\overline{B} & B \\overline{D} & B \\overline{C} & B \\overline{E} & B \\overline{F} & B \\overline{H} & B \\overline{G}\\\\D \\overline{A} & D \\overline{B} & D \\overline{D} & D \\overline{C} & D \\overline{E} & D \\overline{F} & D \\overline{H} & D \\overline{G}\\\\C \\overline{A} & C \\overline{B} & C \\overline{D} & C \\overline{C} & C \\overline{E} & C \\overline{F} & C \\overline{H} & C \\overline{G}\\\\E \\overline{A} & E \\overline{B} & E \\overline{D} & E \\overline{C} & E \\overline{E} & E \\overline{F} & E \\overline{H} & E \\overline{G}\\\\F \\overline{A} & F \\overline{B} & F \\overline{D} & F \\overline{C} & F \\overline{E} & F \\overline{F} & F \\overline{H} & F \\overline{G}\\\\H \\overline{A} & H \\overline{B} & H \\overline{D} & H \\overline{C} & H \\overline{E} & H \\overline{F} & H \\overline{H} & H \\overline{G}\\\\G \\overline{A} & G \\overline{B} & G \\overline{D} & G \\overline{C} & G \\overline{E} & G \\overline{F} & G \\overline{H} & G \\overline{G}\\end{matrix}\\right]$"
      ],
      "text/plain": [
       "Matrix([\n",
       "[A*conjugate(A), A*conjugate(B), A*conjugate(D), A*conjugate(C), A*conjugate(E), A*conjugate(F), A*conjugate(H), A*conjugate(G)],\n",
       "[B*conjugate(A), B*conjugate(B), B*conjugate(D), B*conjugate(C), B*conjugate(E), B*conjugate(F), B*conjugate(H), B*conjugate(G)],\n",
       "[D*conjugate(A), D*conjugate(B), D*conjugate(D), D*conjugate(C), D*conjugate(E), D*conjugate(F), D*conjugate(H), D*conjugate(G)],\n",
       "[C*conjugate(A), C*conjugate(B), C*conjugate(D), C*conjugate(C), C*conjugate(E), C*conjugate(F), C*conjugate(H), C*conjugate(G)],\n",
       "[E*conjugate(A), E*conjugate(B), E*conjugate(D), E*conjugate(C), E*conjugate(E), E*conjugate(F), E*conjugate(H), E*conjugate(G)],\n",
       "[F*conjugate(A), F*conjugate(B), F*conjugate(D), F*conjugate(C), F*conjugate(E), F*conjugate(F), F*conjugate(H), F*conjugate(G)],\n",
       "[H*conjugate(A), H*conjugate(B), H*conjugate(D), H*conjugate(C), H*conjugate(E), H*conjugate(F), H*conjugate(H), H*conjugate(G)],\n",
       "[G*conjugate(A), G*conjugate(B), G*conjugate(D), G*conjugate(C), G*conjugate(E), G*conjugate(F), G*conjugate(H), G*conjugate(G)]])"
      ]
     },
     "execution_count": 28,
     "metadata": {},
     "output_type": "execute_result"
    }
   ],
   "source": [
    "rho"
   ]
  },
  {
   "cell_type": "code",
   "execution_count": 29,
   "metadata": {},
   "outputs": [
    {
     "data": {
      "text/latex": [
       "$\\displaystyle \\left[\\begin{array}{cccccccccccccccc}A \\overline{A} & A \\overline{B} & A \\overline{C} & A \\overline{D} & A \\overline{E} & A \\overline{F} & A \\overline{G} & A \\overline{H} & A \\overline{I} & A \\overline{J} & A \\overline{K} & A \\overline{L} & A \\overline{M} & A \\overline{N} & A \\overline{O} & A \\overline{P}\\\\B \\overline{A} & B \\overline{B} & B \\overline{C} & B \\overline{D} & B \\overline{E} & B \\overline{F} & B \\overline{G} & B \\overline{H} & B \\overline{I} & B \\overline{J} & B \\overline{K} & B \\overline{L} & B \\overline{M} & B \\overline{N} & B \\overline{O} & B \\overline{P}\\\\C \\overline{A} & C \\overline{B} & C \\overline{C} & C \\overline{D} & C \\overline{E} & C \\overline{F} & C \\overline{G} & C \\overline{H} & C \\overline{I} & C \\overline{J} & C \\overline{K} & C \\overline{L} & C \\overline{M} & C \\overline{N} & C \\overline{O} & C \\overline{P}\\\\D \\overline{A} & D \\overline{B} & D \\overline{C} & D \\overline{D} & D \\overline{E} & D \\overline{F} & D \\overline{G} & D \\overline{H} & D \\overline{I} & D \\overline{J} & D \\overline{K} & D \\overline{L} & D \\overline{M} & D \\overline{N} & D \\overline{O} & D \\overline{P}\\\\E \\overline{A} & E \\overline{B} & E \\overline{C} & E \\overline{D} & E \\overline{E} & E \\overline{F} & E \\overline{G} & E \\overline{H} & E \\overline{I} & E \\overline{J} & E \\overline{K} & E \\overline{L} & E \\overline{M} & E \\overline{N} & E \\overline{O} & E \\overline{P}\\\\F \\overline{A} & F \\overline{B} & F \\overline{C} & F \\overline{D} & F \\overline{E} & F \\overline{F} & F \\overline{G} & F \\overline{H} & F \\overline{I} & F \\overline{J} & F \\overline{K} & F \\overline{L} & F \\overline{M} & F \\overline{N} & F \\overline{O} & F \\overline{P}\\\\G \\overline{A} & G \\overline{B} & G \\overline{C} & G \\overline{D} & G \\overline{E} & G \\overline{F} & G \\overline{G} & G \\overline{H} & G \\overline{I} & G \\overline{J} & G \\overline{K} & G \\overline{L} & G \\overline{M} & G \\overline{N} & G \\overline{O} & G \\overline{P}\\\\H \\overline{A} & H \\overline{B} & H \\overline{C} & H \\overline{D} & H \\overline{E} & H \\overline{F} & H \\overline{G} & H \\overline{H} & H \\overline{I} & H \\overline{J} & H \\overline{K} & H \\overline{L} & H \\overline{M} & H \\overline{N} & H \\overline{O} & H \\overline{P}\\\\I \\overline{A} & I \\overline{B} & I \\overline{C} & I \\overline{D} & I \\overline{E} & I \\overline{F} & I \\overline{G} & I \\overline{H} & I \\overline{I} & I \\overline{J} & I \\overline{K} & I \\overline{L} & I \\overline{M} & I \\overline{N} & I \\overline{O} & I \\overline{P}\\\\J \\overline{A} & J \\overline{B} & J \\overline{C} & J \\overline{D} & J \\overline{E} & J \\overline{F} & J \\overline{G} & J \\overline{H} & J \\overline{I} & J \\overline{J} & J \\overline{K} & J \\overline{L} & J \\overline{M} & J \\overline{N} & J \\overline{O} & J \\overline{P}\\\\K \\overline{A} & K \\overline{B} & K \\overline{C} & K \\overline{D} & K \\overline{E} & K \\overline{F} & K \\overline{G} & K \\overline{H} & K \\overline{I} & K \\overline{J} & K \\overline{K} & K \\overline{L} & K \\overline{M} & K \\overline{N} & K \\overline{O} & K \\overline{P}\\\\L \\overline{A} & L \\overline{B} & L \\overline{C} & L \\overline{D} & L \\overline{E} & L \\overline{F} & L \\overline{G} & L \\overline{H} & L \\overline{I} & L \\overline{J} & L \\overline{K} & L \\overline{L} & L \\overline{M} & L \\overline{N} & L \\overline{O} & L \\overline{P}\\\\M \\overline{A} & M \\overline{B} & M \\overline{C} & M \\overline{D} & M \\overline{E} & M \\overline{F} & M \\overline{G} & M \\overline{H} & M \\overline{I} & M \\overline{J} & M \\overline{K} & M \\overline{L} & M \\overline{M} & M \\overline{N} & M \\overline{O} & M \\overline{P}\\\\N \\overline{A} & N \\overline{B} & N \\overline{C} & N \\overline{D} & N \\overline{E} & N \\overline{F} & N \\overline{G} & N \\overline{H} & N \\overline{I} & N \\overline{J} & N \\overline{K} & N \\overline{L} & N \\overline{M} & N \\overline{N} & N \\overline{O} & N \\overline{P}\\\\O \\overline{A} & O \\overline{B} & O \\overline{C} & O \\overline{D} & O \\overline{E} & O \\overline{F} & O \\overline{G} & O \\overline{H} & O \\overline{I} & O \\overline{J} & O \\overline{K} & O \\overline{L} & O \\overline{M} & O \\overline{N} & O \\overline{O} & O \\overline{P}\\\\P \\overline{A} & P \\overline{B} & P \\overline{C} & P \\overline{D} & P \\overline{E} & P \\overline{F} & P \\overline{G} & P \\overline{H} & P \\overline{I} & P \\overline{J} & P \\overline{K} & P \\overline{L} & P \\overline{M} & P \\overline{N} & P \\overline{O} & P \\overline{P}\\end{array}\\right]$"
      ],
      "text/plain": [
       "Matrix([\n",
       "[A*conjugate(A), A*conjugate(B), A*conjugate(C), A*conjugate(D), A*conjugate(E), A*conjugate(F), A*conjugate(G), A*conjugate(H), A*conjugate(I), A*conjugate(J), A*conjugate(K), A*conjugate(L), A*conjugate(M), A*conjugate(N), A*conjugate(O), A*conjugate(P)],\n",
       "[B*conjugate(A), B*conjugate(B), B*conjugate(C), B*conjugate(D), B*conjugate(E), B*conjugate(F), B*conjugate(G), B*conjugate(H), B*conjugate(I), B*conjugate(J), B*conjugate(K), B*conjugate(L), B*conjugate(M), B*conjugate(N), B*conjugate(O), B*conjugate(P)],\n",
       "[C*conjugate(A), C*conjugate(B), C*conjugate(C), C*conjugate(D), C*conjugate(E), C*conjugate(F), C*conjugate(G), C*conjugate(H), C*conjugate(I), C*conjugate(J), C*conjugate(K), C*conjugate(L), C*conjugate(M), C*conjugate(N), C*conjugate(O), C*conjugate(P)],\n",
       "[D*conjugate(A), D*conjugate(B), D*conjugate(C), D*conjugate(D), D*conjugate(E), D*conjugate(F), D*conjugate(G), D*conjugate(H), D*conjugate(I), D*conjugate(J), D*conjugate(K), D*conjugate(L), D*conjugate(M), D*conjugate(N), D*conjugate(O), D*conjugate(P)],\n",
       "[E*conjugate(A), E*conjugate(B), E*conjugate(C), E*conjugate(D), E*conjugate(E), E*conjugate(F), E*conjugate(G), E*conjugate(H), E*conjugate(I), E*conjugate(J), E*conjugate(K), E*conjugate(L), E*conjugate(M), E*conjugate(N), E*conjugate(O), E*conjugate(P)],\n",
       "[F*conjugate(A), F*conjugate(B), F*conjugate(C), F*conjugate(D), F*conjugate(E), F*conjugate(F), F*conjugate(G), F*conjugate(H), F*conjugate(I), F*conjugate(J), F*conjugate(K), F*conjugate(L), F*conjugate(M), F*conjugate(N), F*conjugate(O), F*conjugate(P)],\n",
       "[G*conjugate(A), G*conjugate(B), G*conjugate(C), G*conjugate(D), G*conjugate(E), G*conjugate(F), G*conjugate(G), G*conjugate(H), G*conjugate(I), G*conjugate(J), G*conjugate(K), G*conjugate(L), G*conjugate(M), G*conjugate(N), G*conjugate(O), G*conjugate(P)],\n",
       "[H*conjugate(A), H*conjugate(B), H*conjugate(C), H*conjugate(D), H*conjugate(E), H*conjugate(F), H*conjugate(G), H*conjugate(H), H*conjugate(I), H*conjugate(J), H*conjugate(K), H*conjugate(L), H*conjugate(M), H*conjugate(N), H*conjugate(O), H*conjugate(P)],\n",
       "[I*conjugate(A), I*conjugate(B), I*conjugate(C), I*conjugate(D), I*conjugate(E), I*conjugate(F), I*conjugate(G), I*conjugate(H), I*conjugate(I), I*conjugate(J), I*conjugate(K), I*conjugate(L), I*conjugate(M), I*conjugate(N), I*conjugate(O), I*conjugate(P)],\n",
       "[J*conjugate(A), J*conjugate(B), J*conjugate(C), J*conjugate(D), J*conjugate(E), J*conjugate(F), J*conjugate(G), J*conjugate(H), J*conjugate(I), J*conjugate(J), J*conjugate(K), J*conjugate(L), J*conjugate(M), J*conjugate(N), J*conjugate(O), J*conjugate(P)],\n",
       "[K*conjugate(A), K*conjugate(B), K*conjugate(C), K*conjugate(D), K*conjugate(E), K*conjugate(F), K*conjugate(G), K*conjugate(H), K*conjugate(I), K*conjugate(J), K*conjugate(K), K*conjugate(L), K*conjugate(M), K*conjugate(N), K*conjugate(O), K*conjugate(P)],\n",
       "[L*conjugate(A), L*conjugate(B), L*conjugate(C), L*conjugate(D), L*conjugate(E), L*conjugate(F), L*conjugate(G), L*conjugate(H), L*conjugate(I), L*conjugate(J), L*conjugate(K), L*conjugate(L), L*conjugate(M), L*conjugate(N), L*conjugate(O), L*conjugate(P)],\n",
       "[M*conjugate(A), M*conjugate(B), M*conjugate(C), M*conjugate(D), M*conjugate(E), M*conjugate(F), M*conjugate(G), M*conjugate(H), M*conjugate(I), M*conjugate(J), M*conjugate(K), M*conjugate(L), M*conjugate(M), M*conjugate(N), M*conjugate(O), M*conjugate(P)],\n",
       "[N*conjugate(A), N*conjugate(B), N*conjugate(C), N*conjugate(D), N*conjugate(E), N*conjugate(F), N*conjugate(G), N*conjugate(H), N*conjugate(I), N*conjugate(J), N*conjugate(K), N*conjugate(L), N*conjugate(M), N*conjugate(N), N*conjugate(O), N*conjugate(P)],\n",
       "[O*conjugate(A), O*conjugate(B), O*conjugate(C), O*conjugate(D), O*conjugate(E), O*conjugate(F), O*conjugate(G), O*conjugate(H), O*conjugate(I), O*conjugate(J), O*conjugate(K), O*conjugate(L), O*conjugate(M), O*conjugate(N), O*conjugate(O), O*conjugate(P)],\n",
       "[P*conjugate(A), P*conjugate(B), P*conjugate(C), P*conjugate(D), P*conjugate(E), P*conjugate(F), P*conjugate(G), P*conjugate(H), P*conjugate(I), P*conjugate(J), P*conjugate(K), P*conjugate(L), P*conjugate(M), P*conjugate(N), P*conjugate(O), P*conjugate(P)]])"
      ]
     },
     "execution_count": 29,
     "metadata": {},
     "output_type": "execute_result"
    }
   ],
   "source": [
    "from sympy import symbols, Matrix, conjugate\n",
    "\n",
    "n = 4  # number of symbols\n",
    "symbols_list = symbols('A:{} {}'.format(chr(ord('A') + n**2 - 1), ' '.join(chr(ord('A') + i) for i in range(n**2 - 1))))\n",
    "rho = Matrix([[symbols_list[i]*conjugate(symbols_list[j]) for j in range(n**2)] for i in range(n**2)])\n",
    "rho"
   ]
  },
  {
   "cell_type": "code",
   "execution_count": 30,
   "metadata": {},
   "outputs": [
    {
     "ename": "TypeError",
     "evalue": "Cannot convert expression to float",
     "output_type": "error",
     "traceback": [
      "\u001b[0;31m---------------------------------------------------------------------------\u001b[0m",
      "\u001b[0;31mTypeError\u001b[0m                                 Traceback (most recent call last)",
      "\u001b[1;32m/media/sparsharay/Software and Projects/Projects/Creation workspace/qft/final.ipynb Cell 34\u001b[0m line \u001b[0;36m<cell line: 4>\u001b[0;34m()\u001b[0m\n\u001b[1;32m      <a href='vscode-notebook-cell:/media/sparsharay/Software%20and%20Projects/Projects/Creation%20workspace/qft/final.ipynb#X50sZmlsZQ%3D%3D?line=0'>1</a>\u001b[0m \u001b[39mfrom\u001b[39;00m \u001b[39mqutip\u001b[39;00m \u001b[39mimport\u001b[39;00m \u001b[39m*\u001b[39m\n\u001b[1;32m      <a href='vscode-notebook-cell:/media/sparsharay/Software%20and%20Projects/Projects/Creation%20workspace/qft/final.ipynb#X50sZmlsZQ%3D%3D?line=1'>2</a>\u001b[0m \u001b[39mimport\u001b[39;00m \u001b[39mnumpy\u001b[39;00m \u001b[39mas\u001b[39;00m \u001b[39mnp\u001b[39;00m\n\u001b[0;32m----> <a href='vscode-notebook-cell:/media/sparsharay/Software%20and%20Projects/Projects/Creation%20workspace/qft/final.ipynb#X50sZmlsZQ%3D%3D?line=3'>4</a>\u001b[0m ket \u001b[39m=\u001b[39m Qobj(np\u001b[39m.\u001b[39;49marray([a, b, c, d, e, f, g, h]))\n\u001b[1;32m      <a href='vscode-notebook-cell:/media/sparsharay/Software%20and%20Projects/Projects/Creation%20workspace/qft/final.ipynb#X50sZmlsZQ%3D%3D?line=5'>6</a>\u001b[0m \u001b[39mprint\u001b[39m(ket \u001b[39m*\u001b[39m ket\u001b[39m.\u001b[39mdag())\n",
      "File \u001b[0;32m~/.local/lib/python3.10/site-packages/qutip/qobj.py:273\u001b[0m, in \u001b[0;36mQobj.__init__\u001b[0;34m(self, inpt, dims, shape, type, isherm, copy, fast, superrep, isunitary)\u001b[0m\n\u001b[1;32m    271\u001b[0m do_copy \u001b[39m=\u001b[39m copy\n\u001b[1;32m    272\u001b[0m \u001b[39mif\u001b[39;00m \u001b[39mnot\u001b[39;00m \u001b[39misinstance\u001b[39m(inpt, fast_csr_matrix):\n\u001b[0;32m--> 273\u001b[0m     _tmp \u001b[39m=\u001b[39m sp\u001b[39m.\u001b[39;49mcsr_matrix(inpt, dtype\u001b[39m=\u001b[39;49m\u001b[39mcomplex\u001b[39;49m, copy\u001b[39m=\u001b[39;49mdo_copy)\n\u001b[1;32m    274\u001b[0m     _tmp\u001b[39m.\u001b[39msort_indices()  \u001b[39m# Make sure indices are sorted.\u001b[39;00m\n\u001b[1;32m    275\u001b[0m     do_copy \u001b[39m=\u001b[39m \u001b[39m0\u001b[39m\n",
      "File \u001b[0;32m~/.local/lib/python3.10/site-packages/scipy/sparse/_compressed.py:85\u001b[0m, in \u001b[0;36m_cs_matrix.__init__\u001b[0;34m(self, arg1, shape, dtype, copy)\u001b[0m\n\u001b[1;32m     81\u001b[0m     \u001b[39mexcept\u001b[39;00m \u001b[39mException\u001b[39;00m \u001b[39mas\u001b[39;00m e:\n\u001b[1;32m     82\u001b[0m         \u001b[39mraise\u001b[39;00m \u001b[39mValueError\u001b[39;00m(\u001b[39m\"\u001b[39m\u001b[39munrecognized \u001b[39m\u001b[39m{}\u001b[39;00m\u001b[39m_matrix constructor usage\u001b[39m\u001b[39m\"\u001b[39m\n\u001b[1;32m     83\u001b[0m                          \u001b[39m\"\u001b[39m\u001b[39m\"\u001b[39m\u001b[39m.\u001b[39mformat(\u001b[39mself\u001b[39m\u001b[39m.\u001b[39mformat)) \u001b[39mfrom\u001b[39;00m \u001b[39me\u001b[39;00m\n\u001b[1;32m     84\u001b[0m     \u001b[39mself\u001b[39m\u001b[39m.\u001b[39m_set_self(\u001b[39mself\u001b[39m\u001b[39m.\u001b[39m\u001b[39m__class__\u001b[39m(\n\u001b[0;32m---> 85\u001b[0m         \u001b[39mself\u001b[39;49m\u001b[39m.\u001b[39;49m_coo_container(arg1, dtype\u001b[39m=\u001b[39;49mdtype)\n\u001b[1;32m     86\u001b[0m     ))\n\u001b[1;32m     88\u001b[0m \u001b[39m# Read matrix dimensions given, if any\u001b[39;00m\n\u001b[1;32m     89\u001b[0m \u001b[39mif\u001b[39;00m shape \u001b[39mis\u001b[39;00m \u001b[39mnot\u001b[39;00m \u001b[39mNone\u001b[39;00m:\n",
      "File \u001b[0;32m~/.local/lib/python3.10/site-packages/scipy/sparse/_coo.py:194\u001b[0m, in \u001b[0;36mcoo_matrix.__init__\u001b[0;34m(self, arg1, shape, dtype, copy)\u001b[0m\n\u001b[1;32m    191\u001b[0m         \u001b[39mself\u001b[39m\u001b[39m.\u001b[39mhas_canonical_format \u001b[39m=\u001b[39m \u001b[39mTrue\u001b[39;00m\n\u001b[1;32m    193\u001b[0m \u001b[39mif\u001b[39;00m dtype \u001b[39mis\u001b[39;00m \u001b[39mnot\u001b[39;00m \u001b[39mNone\u001b[39;00m:\n\u001b[0;32m--> 194\u001b[0m     \u001b[39mself\u001b[39m\u001b[39m.\u001b[39mdata \u001b[39m=\u001b[39m \u001b[39mself\u001b[39;49m\u001b[39m.\u001b[39;49mdata\u001b[39m.\u001b[39;49mastype(dtype, copy\u001b[39m=\u001b[39;49m\u001b[39mFalse\u001b[39;49;00m)\n\u001b[1;32m    196\u001b[0m \u001b[39mself\u001b[39m\u001b[39m.\u001b[39m_check()\n",
      "File \u001b[0;32m~/.local/lib/python3.10/site-packages/sympy/core/expr.py:356\u001b[0m, in \u001b[0;36mExpr.__complex__\u001b[0;34m(self)\u001b[0m\n\u001b[1;32m    354\u001b[0m result \u001b[39m=\u001b[39m \u001b[39mself\u001b[39m\u001b[39m.\u001b[39mevalf()\n\u001b[1;32m    355\u001b[0m re, im \u001b[39m=\u001b[39m result\u001b[39m.\u001b[39mas_real_imag()\n\u001b[0;32m--> 356\u001b[0m \u001b[39mreturn\u001b[39;00m \u001b[39mcomplex\u001b[39m(\u001b[39mfloat\u001b[39;49m(re), \u001b[39mfloat\u001b[39m(im))\n",
      "File \u001b[0;32m~/.local/lib/python3.10/site-packages/sympy/core/expr.py:351\u001b[0m, in \u001b[0;36mExpr.__float__\u001b[0;34m(self)\u001b[0m\n\u001b[1;32m    349\u001b[0m \u001b[39mif\u001b[39;00m result\u001b[39m.\u001b[39mis_number \u001b[39mand\u001b[39;00m result\u001b[39m.\u001b[39mas_real_imag()[\u001b[39m1\u001b[39m]:\n\u001b[1;32m    350\u001b[0m     \u001b[39mraise\u001b[39;00m \u001b[39mTypeError\u001b[39;00m(\u001b[39m\"\u001b[39m\u001b[39mCannot convert complex to float\u001b[39m\u001b[39m\"\u001b[39m)\n\u001b[0;32m--> 351\u001b[0m \u001b[39mraise\u001b[39;00m \u001b[39mTypeError\u001b[39;00m(\u001b[39m\"\u001b[39m\u001b[39mCannot convert expression to float\u001b[39m\u001b[39m\"\u001b[39m)\n",
      "\u001b[0;31mTypeError\u001b[0m: Cannot convert expression to float"
     ]
    }
   ],
   "source": [
    "from qutip import *\n",
    "import numpy as np\n",
    "\n",
    "ket = Qobj(np.array([a, b, c, d, e, f, g, h]))\n",
    "\n",
    "print(ket * ket.dag())\n"
   ]
  }
 ],
 "metadata": {
  "kernelspec": {
   "display_name": "Python 3",
   "language": "python",
   "name": "python3"
  },
  "language_info": {
   "codemirror_mode": {
    "name": "ipython",
    "version": 3
   },
   "file_extension": ".py",
   "mimetype": "text/x-python",
   "name": "python",
   "nbconvert_exporter": "python",
   "pygments_lexer": "ipython3",
   "version": "3.10.12"
  },
  "orig_nbformat": 4
 },
 "nbformat": 4,
 "nbformat_minor": 2
}
