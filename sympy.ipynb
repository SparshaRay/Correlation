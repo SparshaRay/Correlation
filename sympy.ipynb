{
 "cells": [
  {
   "cell_type": "code",
   "execution_count": 68,
   "metadata": {},
   "outputs": [],
   "source": [
    "# a, b, c, d = symbols('a b c d')\n",
    "# init_printing()\n",
    "\n",
    "# mat = Matrix([a, b, c, d])\n",
    "# vecbra = Bra(mat)\n",
    "# vecket = Ket(mat)\n",
    "# vecbra, vecket"
   ]
  },
  {
   "cell_type": "code",
   "execution_count": 69,
   "metadata": {},
   "outputs": [],
   "source": [
    "from sympy import *\n",
    "from sympy.physics.quantum import *\n",
    "from sympy.physics.quantum.density import *\n",
    "from sympy.physics.quantum.spin import (\n",
    "    Jx, Jy, Jz, Jplus, Jminus, J2,\n",
    "    JxBra, JyBra, JzBra,\n",
    "    JxKet, JyKet, JzKet,\n",
    ")"
   ]
  },
  {
   "cell_type": "code",
   "execution_count": 70,
   "metadata": {},
   "outputs": [],
   "source": [
    "psi = Ket('psi')\n",
    "phi = Ket('phi')"
   ]
  },
  {
   "cell_type": "code",
   "execution_count": 71,
   "metadata": {},
   "outputs": [
    {
     "data": {
      "text/latex": [
       "$\\displaystyle \\rho\\left(\\left( {\\left|\\psi\\right\\rangle }, \\  0.5\\right),\\left( {\\left|\\phi\\right\\rangle }, \\  0.5\\right)\\right)$"
      ],
      "text/plain": [
       "Density((|psi>, 0.5),(|phi>, 0.5))"
      ]
     },
     "execution_count": 71,
     "metadata": {},
     "output_type": "execute_result"
    }
   ],
   "source": [
    "d = Density((psi,0.5),(phi,0.5))\n",
    "d"
   ]
  },
  {
   "cell_type": "code",
   "execution_count": 72,
   "metadata": {},
   "outputs": [
    {
     "data": {
      "text/latex": [
       "$\\displaystyle \\left( {\\left|\\psi\\right\\rangle }, \\  {\\left|\\phi\\right\\rangle }\\right)$"
      ],
      "text/plain": [
       "(|psi>, |phi>)"
      ]
     },
     "execution_count": 72,
     "metadata": {},
     "output_type": "execute_result"
    }
   ],
   "source": [
    "d.states()"
   ]
  },
  {
   "cell_type": "code",
   "execution_count": 73,
   "metadata": {},
   "outputs": [
    {
     "data": {
      "text/latex": [
       "$\\displaystyle \\left( 0.5, \\  0.5\\right)$"
      ],
      "text/plain": [
       "(0.5, 0.5)"
      ]
     },
     "execution_count": 73,
     "metadata": {},
     "output_type": "execute_result"
    }
   ],
   "source": [
    "d.probs()"
   ]
  },
  {
   "cell_type": "code",
   "execution_count": 74,
   "metadata": {},
   "outputs": [
    {
     "data": {
      "text/latex": [
       "$\\displaystyle 0.5 {\\left|\\phi\\right\\rangle }{\\left\\langle \\phi\\right|} + 0.5 {\\left|\\psi\\right\\rangle }{\\left\\langle \\psi\\right|}$"
      ],
      "text/plain": [
       "0.5*|phi><phi| + 0.5*|psi><psi|"
      ]
     },
     "execution_count": 74,
     "metadata": {},
     "output_type": "execute_result"
    }
   ],
   "source": [
    "d.doit()"
   ]
  },
  {
   "cell_type": "code",
   "execution_count": 75,
   "metadata": {},
   "outputs": [
    {
     "data": {
      "text/latex": [
       "$\\displaystyle \\rho\\left(\\left( {\\left|\\psi\\right\\rangle }, \\  0.5\\right),\\left( {\\left|\\phi\\right\\rangle }, \\  0.5\\right)\\right)$"
      ],
      "text/plain": [
       "Density((|psi>, 0.5),(|phi>, 0.5))"
      ]
     },
     "execution_count": 75,
     "metadata": {},
     "output_type": "execute_result"
    }
   ],
   "source": [
    "Dagger(d)"
   ]
  },
  {
   "cell_type": "code",
   "execution_count": 76,
   "metadata": {},
   "outputs": [
    {
     "data": {
      "text/latex": [
       "$\\displaystyle A$"
      ],
      "text/plain": [
       "A"
      ]
     },
     "execution_count": 76,
     "metadata": {},
     "output_type": "execute_result"
    }
   ],
   "source": [
    "A = Operator('A')\n",
    "A"
   ]
  },
  {
   "cell_type": "code",
   "execution_count": 77,
   "metadata": {},
   "outputs": [
    {
     "data": {
      "text/latex": [
       "$\\displaystyle \\rho\\left(\\left( A {\\left|\\psi\\right\\rangle }, \\  0.5\\right),\\left( A {\\left|\\phi\\right\\rangle }, \\  0.5\\right)\\right)$"
      ],
      "text/plain": [
       "Density((A*|psi>, 0.5),(A*|phi>, 0.5))"
      ]
     },
     "execution_count": 77,
     "metadata": {},
     "output_type": "execute_result"
    }
   ],
   "source": [
    "d.apply_op(A)"
   ]
  },
  {
   "cell_type": "code",
   "execution_count": 78,
   "metadata": {},
   "outputs": [],
   "source": [
    "up = JzKet(S(1)/2,S(1)/2)\n",
    "down = JzKet(S(1)/2,-S(1)/2)"
   ]
  },
  {
   "cell_type": "code",
   "execution_count": 79,
   "metadata": {},
   "outputs": [
    {
     "data": {
      "text/latex": [
       "$\\displaystyle {\\left|\\frac{1}{2},\\frac{1}{2}\\right\\rangle }$"
      ],
      "text/plain": [
       "|1/2,1/2>"
      ]
     },
     "execution_count": 79,
     "metadata": {},
     "output_type": "execute_result"
    }
   ],
   "source": [
    "up\n",
    "# down"
   ]
  },
  {
   "cell_type": "code",
   "execution_count": 80,
   "metadata": {},
   "outputs": [
    {
     "data": {
      "text/latex": [
       "$\\displaystyle \\rho\\left(\\left( {\\left|\\frac{1}{2},\\frac{1}{2}\\right\\rangle }, \\  0.5\\right),\\left( {\\left|\\frac{1}{2},- \\frac{1}{2}\\right\\rangle }, \\  0.5\\right)\\right)$"
      ],
      "text/plain": [
       "Density((|1/2,1/2>, 0.5),(|1/2,-1/2>, 0.5))"
      ]
     },
     "execution_count": 80,
     "metadata": {},
     "output_type": "execute_result"
    }
   ],
   "source": [
    "d2 = Density((up,0.5),(down,0.5)); d2"
   ]
  },
  {
   "cell_type": "code",
   "execution_count": 81,
   "metadata": {},
   "outputs": [
    {
     "data": {
      "text/latex": [
       "$\\displaystyle \\left[\\begin{matrix}0.5 & 0\\\\0 & 0.5\\end{matrix}\\right]$"
      ],
      "text/plain": [
       "Matrix([\n",
       "[0.5,   0],\n",
       "[  0, 0.5]])"
      ]
     },
     "execution_count": 81,
     "metadata": {},
     "output_type": "execute_result"
    }
   ],
   "source": [
    "represent(d2)"
   ]
  },
  {
   "cell_type": "code",
   "execution_count": 82,
   "metadata": {},
   "outputs": [
    {
     "data": {
      "text/latex": [
       "$\\displaystyle \\rho\\left(\\left( J_z {\\left|\\frac{1}{2},\\frac{1}{2}\\right\\rangle }, \\  0.5\\right),\\left( J_z {\\left|\\frac{1}{2},- \\frac{1}{2}\\right\\rangle }, \\  0.5\\right)\\right)$"
      ],
      "text/plain": [
       "Density((Jz*|1/2,1/2>, 0.5),(Jz*|1/2,-1/2>, 0.5))"
      ]
     },
     "execution_count": 82,
     "metadata": {},
     "output_type": "execute_result"
    }
   ],
   "source": [
    "d2.apply_op(Jz)"
   ]
  },
  {
   "cell_type": "code",
   "execution_count": 83,
   "metadata": {},
   "outputs": [
    {
     "data": {
      "text/latex": [
       "$\\displaystyle \\rho\\left(\\left( \\frac{\\hbar {\\left|\\frac{1}{2},\\frac{1}{2}\\right\\rangle }}{2}, \\  0.5\\right),\\left( - \\frac{\\hbar {\\left|\\frac{1}{2},- \\frac{1}{2}\\right\\rangle }}{2}, \\  0.5\\right)\\right)$"
      ],
      "text/plain": [
       "Density((hbar*|1/2,1/2>/2, 0.5),(-hbar*|1/2,-1/2>/2, 0.5))"
      ]
     },
     "execution_count": 83,
     "metadata": {},
     "output_type": "execute_result"
    }
   ],
   "source": [
    "qapply(_)"
   ]
  },
  {
   "cell_type": "code",
   "execution_count": 84,
   "metadata": {},
   "outputs": [
    {
     "data": {
      "text/latex": [
       "$\\displaystyle 0.5 J_y {\\left|\\frac{1}{2},- \\frac{1}{2}\\right\\rangle }{\\left\\langle \\frac{1}{2},- \\frac{1}{2}\\right|} + 0.5 J_y {\\left|\\frac{1}{2},\\frac{1}{2}\\right\\rangle }{\\left\\langle \\frac{1}{2},\\frac{1}{2}\\right|}$"
      ],
      "text/plain": [
       "0.5*Jy*|1/2,-1/2><1/2,-1/2| + 0.5*Jy*|1/2,1/2><1/2,1/2|"
      ]
     },
     "execution_count": 84,
     "metadata": {},
     "output_type": "execute_result"
    }
   ],
   "source": [
    "qapply((Jy*d2).doit())"
   ]
  },
  {
   "cell_type": "markdown",
   "metadata": {},
   "source": [
    "# Entropy"
   ]
  },
  {
   "cell_type": "code",
   "execution_count": 85,
   "metadata": {},
   "outputs": [
    {
     "data": {
      "text/latex": [
       "$\\displaystyle 0.346573590279973$"
      ],
      "text/plain": [
       "0.346573590279973"
      ]
     },
     "execution_count": 85,
     "metadata": {},
     "output_type": "execute_result"
    }
   ],
   "source": [
    "entropy(d2)"
   ]
  },
  {
   "cell_type": "code",
   "execution_count": 86,
   "metadata": {},
   "outputs": [
    {
     "data": {
      "text/latex": [
       "$\\displaystyle 0.346573590279973$"
      ],
      "text/plain": [
       "0.346573590279973"
      ]
     },
     "execution_count": 86,
     "metadata": {},
     "output_type": "execute_result"
    }
   ],
   "source": [
    "entropy(represent(d2))"
   ]
  },
  {
   "cell_type": "code",
   "execution_count": 87,
   "metadata": {},
   "outputs": [
    {
     "data": {
      "text/plain": [
       "(0.6931471805599453-0j)"
      ]
     },
     "execution_count": 87,
     "metadata": {},
     "output_type": "execute_result"
    }
   ],
   "source": [
    "entropy(represent(d2,format=\"numpy\"))"
   ]
  },
  {
   "cell_type": "code",
   "execution_count": 88,
   "metadata": {},
   "outputs": [
    {
     "data": {
      "text/plain": [
       "(0.6931471805599453-0j)"
      ]
     },
     "execution_count": 88,
     "metadata": {},
     "output_type": "execute_result"
    }
   ],
   "source": [
    "entropy(represent(d2,format=\"scipy.sparse\"))"
   ]
  },
  {
   "cell_type": "markdown",
   "metadata": {},
   "source": [
    "# Density op with tensor products"
   ]
  },
  {
   "cell_type": "code",
   "execution_count": 89,
   "metadata": {},
   "outputs": [
    {
     "data": {
      "text/latex": [
       "$\\displaystyle 0.5 \\left({A A^{\\dagger}}\\right)\\otimes \\left({B B^{\\dagger}}\\right) + 0.5 \\left({C C^{\\dagger}}\\right)\\otimes \\left({D D^{\\dagger}}\\right)$"
      ],
      "text/plain": [
       "0.5*(A*Dagger(A))x(B*Dagger(B)) + 0.5*(C*Dagger(C))x(D*Dagger(D))"
      ]
     },
     "execution_count": 89,
     "metadata": {},
     "output_type": "execute_result"
    }
   ],
   "source": [
    "from sympy.core.trace import Tr\n",
    "\n",
    "A, B, C, D = symbols('A B C D',commutative=False)\n",
    "\n",
    "t1 = TensorProduct(A,B,C)\n",
    "\n",
    "d = Density([t1, 1.0])\n",
    "d.doit()\n",
    "\n",
    "t2 = TensorProduct(A,B)\n",
    "t3 = TensorProduct(C,D)\n",
    "\n",
    "d = Density([t2, 0.5], [t3, 0.5])\n",
    "d.doit() "
   ]
  },
  {
   "cell_type": "code",
   "execution_count": 90,
   "metadata": {},
   "outputs": [
    {
     "data": {
      "text/latex": [
       "$\\displaystyle 1.0 \\left({A A^{\\dagger}}\\right)\\otimes \\left({B B^{\\dagger}}\\right) + 1.0 \\left({A C^{\\dagger}}\\right)\\otimes \\left({B D^{\\dagger}}\\right) + 1.0 \\left({C A^{\\dagger}}\\right)\\otimes \\left({D B^{\\dagger}}\\right) + 1.0 \\left({C C^{\\dagger}}\\right)\\otimes \\left({D D^{\\dagger}}\\right)$"
      ],
      "text/plain": [
       "1.0*(A*Dagger(A))x(B*Dagger(B)) + 1.0*(A*Dagger(C))x(B*Dagger(D)) + 1.0*(C*Dagger(A))x(D*Dagger(B)) + 1.0*(C*Dagger(C))x(D*Dagger(D))"
      ]
     },
     "execution_count": 90,
     "metadata": {},
     "output_type": "execute_result"
    }
   ],
   "source": [
    "d = Density([t2+t3, 1.0])\n",
    "d.doit() "
   ]
  },
  {
   "cell_type": "markdown",
   "metadata": {},
   "source": [
    "# Trace operators on density matrices with spin states"
   ]
  },
  {
   "cell_type": "code",
   "execution_count": 91,
   "metadata": {},
   "outputs": [
    {
     "data": {
      "text/latex": [
       "$\\displaystyle 0.5 {\\left|1,-1\\right\\rangle }{\\left\\langle 1,-1\\right|} + 0.5 {\\left|1,1\\right\\rangle }{\\left\\langle 1,1\\right|}$"
      ],
      "text/plain": [
       "0.5*|1,-1><1,-1| + 0.5*|1,1><1,1|"
      ]
     },
     "execution_count": 91,
     "metadata": {},
     "output_type": "execute_result"
    }
   ],
   "source": [
    "from sympy.physics.quantum.density import Density\n",
    "from sympy.physics.quantum.spin import (\n",
    "    Jx, Jy, Jz, Jplus, Jminus, J2,\n",
    "    JxBra, JyBra, JzBra,\n",
    "    JxKet, JyKet, JzKet,\n",
    ")\n",
    "from sympy.core.trace import Tr\n",
    "\n",
    "d = Density([JzKet(1,1),0.5],[JzKet(1,-1),0.5]);\n",
    "t = Tr(d); \n",
    "\n",
    "d.simplify()"
   ]
  },
  {
   "cell_type": "code",
   "execution_count": 92,
   "metadata": {},
   "outputs": [
    {
     "data": {
      "text/latex": [
       "$\\displaystyle 1.0$"
      ],
      "text/plain": [
       "1.00000000000000"
      ]
     },
     "execution_count": 92,
     "metadata": {},
     "output_type": "execute_result"
    }
   ],
   "source": [
    "t.doit()"
   ]
  },
  {
   "cell_type": "code",
   "execution_count": 93,
   "metadata": {},
   "outputs": [
    {
     "data": {
      "text/latex": [
       "$\\displaystyle 0.5 \\operatorname{tr}\\left(A A^{\\dagger}\\right) \\operatorname{tr}\\left(B B^{\\dagger}\\right) + 0.5 \\operatorname{tr}\\left(C C^{\\dagger}\\right) \\operatorname{tr}\\left(D D^{\\dagger}\\right)$"
      ],
      "text/plain": [
       "0.5*Tr(A*Dagger(A))*Tr(B*Dagger(B)) + 0.5*Tr(C*Dagger(C))*Tr(D*Dagger(D))"
      ]
     },
     "execution_count": 93,
     "metadata": {},
     "output_type": "execute_result"
    }
   ],
   "source": [
    "from sympy.core.trace import Tr\n",
    "\n",
    "A, B, C, D = symbols('A B C D',commutative=False)\n",
    "\n",
    "t1 = TensorProduct(A,B,C)\n",
    "\n",
    "d = Density([t1, 1.0])\n",
    "d.doit()\n",
    "\n",
    "t2 = TensorProduct(A,B)\n",
    "t3 = TensorProduct(C,D)\n",
    "\n",
    "d = Density([t2, 0.5], [t3, 0.5])\n",
    "\n",
    "\n",
    "tr = Tr(d, [0, 1])\n",
    "tr.doit()"
   ]
  },
  {
   "cell_type": "code",
   "execution_count": 94,
   "metadata": {},
   "outputs": [
    {
     "data": {
      "text/latex": [
       "$\\displaystyle 0.5 \\left({A A^{\\dagger}}\\right)\\otimes \\left({B B^{\\dagger}}\\right) + 0.5 \\left({C C^{\\dagger}}\\right)\\otimes \\left({D D^{\\dagger}}\\right)$"
      ],
      "text/plain": [
       "0.5*(A*Dagger(A))x(B*Dagger(B)) + 0.5*(C*Dagger(C))x(D*Dagger(D))"
      ]
     },
     "execution_count": 94,
     "metadata": {},
     "output_type": "execute_result"
    }
   ],
   "source": [
    "d.doit()"
   ]
  },
  {
   "cell_type": "markdown",
   "metadata": {},
   "source": [
    "# Partial Trace on Density Operators with Spin states"
   ]
  },
  {
   "cell_type": "code",
   "execution_count": 95,
   "metadata": {},
   "outputs": [
    {
     "data": {
      "text/latex": [
       "$\\displaystyle \\operatorname{tr}\\left(\\left( {{\\left|1,1\\right\\rangle }}\\otimes {{\\left|1,-1\\right\\rangle }}, \\  1\\right)\\right)$"
      ],
      "text/plain": [
       "Tr((|1,1>x|1,-1>, 1))"
      ]
     },
     "execution_count": 95,
     "metadata": {},
     "output_type": "execute_result"
    }
   ],
   "source": [
    "from sympy.physics.quantum.density import Density\n",
    "from sympy.physics.quantum.spin import (\n",
    "    Jx, Jy, Jz, Jplus, Jminus, J2,\n",
    "    JxBra, JyBra, JzBra,\n",
    "    JxKet, JyKet, JzKet,\n",
    ")\n",
    "from sympy.core.trace import Tr\n",
    "\n",
    "tp1 = TensorProduct(JzKet(1,1), JzKet(1,-1))\n",
    "\n",
    "#trace out 0 index\n",
    "d = Density([tp1,1]);\n",
    "t = Tr(d,[0]); \n",
    "\n",
    "#trace out 1 index\n",
    "t = Tr(d,[1])\n",
    "t"
   ]
  },
  {
   "cell_type": "code",
   "execution_count": 96,
   "metadata": {},
   "outputs": [
    {
     "data": {
      "text/latex": [
       "$\\displaystyle {\\left|1,1\\right\\rangle }{\\left\\langle 1,1\\right|}$"
      ],
      "text/plain": [
       "|1,1><1,1|"
      ]
     },
     "execution_count": 96,
     "metadata": {},
     "output_type": "execute_result"
    }
   ],
   "source": [
    "t.doit()"
   ]
  },
  {
   "cell_type": "markdown",
   "metadata": {},
   "source": [
    "# Examples of qapply() on Density matrices with spin states"
   ]
  },
  {
   "cell_type": "code",
   "execution_count": 97,
   "metadata": {},
   "outputs": [
    {
     "data": {
      "text/latex": [
       "$\\displaystyle O \\rho\\left(\\left( {\\left|\\psi\\right\\rangle }, \\  0.5\\right),\\left( {\\left|\\phi\\right\\rangle }, \\  0.5\\right)\\right)$"
      ],
      "text/plain": [
       "O*Density((|psi>, 0.5),(|phi>, 0.5))"
      ]
     },
     "execution_count": 97,
     "metadata": {},
     "output_type": "execute_result"
    }
   ],
   "source": [
    "psi = Ket('psi')\n",
    "phi = Ket('phi')\n",
    "\n",
    "u = UnitaryOperator()\n",
    "d = Density((psi,0.5),(phi,0.5)); d\n",
    "\n",
    "qapply(u*d)\n"
   ]
  },
  {
   "cell_type": "code",
   "execution_count": 98,
   "metadata": {},
   "outputs": [
    {
     "data": {
      "text/latex": [
       "$\\displaystyle \\left[\\begin{matrix}0 & \\rho\\left(\\left( {\\left|\\frac{1}{2},\\frac{1}{2}\\right\\rangle }, \\  0.5\\right),\\left( {\\left|\\frac{1}{2},- \\frac{1}{2}\\right\\rangle }, \\  0.5\\right)\\right)\\\\\\rho\\left(\\left( {\\left|\\frac{1}{2},\\frac{1}{2}\\right\\rangle }, \\  0.5\\right),\\left( {\\left|\\frac{1}{2},- \\frac{1}{2}\\right\\rangle }, \\  0.5\\right)\\right) & 0\\end{matrix}\\right]$"
      ],
      "text/plain": [
       "Matrix([\n",
       "[                                          0, Density((|1/2,1/2>, 0.5),(|1/2,-1/2>, 0.5))],\n",
       "[Density((|1/2,1/2>, 0.5),(|1/2,-1/2>, 0.5)),                                           0]])"
      ]
     },
     "execution_count": 98,
     "metadata": {},
     "output_type": "execute_result"
    }
   ],
   "source": [
    "# another example\n",
    "up = JzKet(S(1)/2, S(1)/2)\n",
    "down = JzKet(S(1)/2, -S(1)/2)\n",
    "d = Density((up,0.5),(down,0.5))\n",
    "\n",
    "uMat = Matrix([[0,1],[1,0]])\n",
    "qapply(uMat*d)"
   ]
  },
  {
   "cell_type": "markdown",
   "metadata": {},
   "source": [
    "# Example of qapply() on Density Matrices with qubits"
   ]
  },
  {
   "cell_type": "code",
   "execution_count": 99,
   "metadata": {},
   "outputs": [
    {
     "data": {
      "text/latex": [
       "$\\displaystyle \\rho\\left(\\left( {\\left|0\\right\\rangle }, \\  0.5\\right),\\left( {\\left|1\\right\\rangle }, \\  0.5\\right)\\right)$"
      ],
      "text/plain": [
       "Density((|0>, 0.5),(|1>, 0.5))"
      ]
     },
     "execution_count": 99,
     "metadata": {},
     "output_type": "execute_result"
    }
   ],
   "source": [
    "from sympy.physics.quantum.gate import UGate\n",
    "from sympy.physics.quantum.qubit import Qubit\n",
    "\n",
    "uMat = UGate((0,), Matrix([[0,1],[1,0]]))\n",
    "d = Density([Qubit('0'),0.5],[Qubit('1'), 0.5])\n",
    "\n",
    "d"
   ]
  },
  {
   "cell_type": "code",
   "execution_count": 100,
   "metadata": {},
   "outputs": [
    {
     "data": {
      "text/latex": [
       "$\\displaystyle U_{0} \\rho\\left(\\left( {\\left|0\\right\\rangle }, \\  0.5\\right),\\left( {\\left|1\\right\\rangle }, \\  0.5\\right)\\right)$"
      ],
      "text/plain": [
       "U((0,),Matrix([\n",
       "[0, 1],\n",
       "[1, 0]]))*Density((|0>, 0.5),(|1>, 0.5))"
      ]
     },
     "execution_count": 100,
     "metadata": {},
     "output_type": "execute_result"
    }
   ],
   "source": [
    "#after applying Not gate\n",
    "qapply(uMat*d)"
   ]
  },
  {
   "cell_type": "code",
   "execution_count": 101,
   "metadata": {},
   "outputs": [
    {
     "data": {
      "text/latex": [
       "$\\displaystyle \\left[\\begin{matrix}1 & 0 & 0 & 0 & 0 & 0 & 0 & 0\\\\0 & 1 & 0 & 0 & 0 & 0 & 0 & 0\\\\0 & 0 & 0 & 1 & 0 & 0 & 0 & 0\\\\0 & 0 & 1 & 0 & 0 & 0 & 0 & 0\\\\0 & 0 & 0 & 0 & 1 & 0 & 0 & 0\\\\0 & 0 & 0 & 0 & 0 & 1 & 0 & 0\\\\0 & 0 & 0 & 0 & 0 & 0 & 0 & 1\\\\0 & 0 & 0 & 0 & 0 & 0 & 1 & 0\\end{matrix}\\right]$"
      ],
      "text/plain": [
       "Matrix([\n",
       "[1, 0, 0, 0, 0, 0, 0, 0],\n",
       "[0, 1, 0, 0, 0, 0, 0, 0],\n",
       "[0, 0, 0, 1, 0, 0, 0, 0],\n",
       "[0, 0, 1, 0, 0, 0, 0, 0],\n",
       "[0, 0, 0, 0, 1, 0, 0, 0],\n",
       "[0, 0, 0, 0, 0, 1, 0, 0],\n",
       "[0, 0, 0, 0, 0, 0, 0, 1],\n",
       "[0, 0, 0, 0, 0, 0, 1, 0]])"
      ]
     },
     "execution_count": 101,
     "metadata": {},
     "output_type": "execute_result"
    }
   ],
   "source": [
    "cnot = diag(diag(1, 1, Matrix([[0, 1], [1, 0]])), diag(1, 1, Matrix([[0, 1], [1, 0]])))\n",
    "cnot"
   ]
  },
  {
   "cell_type": "code",
   "execution_count": 116,
   "metadata": {},
   "outputs": [
    {
     "data": {
      "text/latex": [
       "$\\displaystyle \\left[\\begin{matrix}0 & 1 & 2 & 3 & 4 & 5 & 6 & 7\\\\8 & 9 & 10 & 11 & 12 & 13 & 14 & 15\\\\16 & 17 & 18 & 19 & 20 & 21 & 22 & 23\\\\24 & 25 & 26 & 27 & 28 & 29 & 30 & 31\\\\32 & 33 & 34 & 35 & 36 & 37 & 38 & 39\\\\40 & 41 & 42 & 43 & 44 & 45 & 46 & 47\\\\48 & 49 & 50 & 51 & 52 & 53 & 54 & 55\\\\56 & 57 & 58 & 59 & 60 & 61 & 62 & 63\\end{matrix}\\right]$"
      ],
      "text/plain": [
       "Matrix([\n",
       "[ 0,  1,  2,  3,  4,  5,  6,  7],\n",
       "[ 8,  9, 10, 11, 12, 13, 14, 15],\n",
       "[16, 17, 18, 19, 20, 21, 22, 23],\n",
       "[24, 25, 26, 27, 28, 29, 30, 31],\n",
       "[32, 33, 34, 35, 36, 37, 38, 39],\n",
       "[40, 41, 42, 43, 44, 45, 46, 47],\n",
       "[48, 49, 50, 51, 52, 53, 54, 55],\n",
       "[56, 57, 58, 59, 60, 61, 62, 63]])"
      ]
     },
     "execution_count": 116,
     "metadata": {},
     "output_type": "execute_result"
    }
   ],
   "source": [
    "import numpy as np\n",
    "mat = Matrix(np.array([*range(64)]).reshape(8, 8))\n",
    "mat"
   ]
  },
  {
   "cell_type": "code",
   "execution_count": 117,
   "metadata": {},
   "outputs": [
    {
     "data": {
      "text/latex": [
       "$\\displaystyle 252$"
      ],
      "text/plain": [
       "252"
      ]
     },
     "execution_count": 117,
     "metadata": {},
     "output_type": "execute_result"
    }
   ],
   "source": [
    "trace(mat)"
   ]
  },
  {
   "cell_type": "code",
   "execution_count": 118,
   "metadata": {},
   "outputs": [
    {
     "data": {
      "text/latex": [
       "$\\displaystyle \\left[\\begin{matrix}0 & 1 & 3 & 2 & 4 & 5 & 7 & 6\\\\8 & 9 & 11 & 10 & 12 & 13 & 15 & 14\\\\24 & 25 & 27 & 26 & 28 & 29 & 31 & 30\\\\16 & 17 & 19 & 18 & 20 & 21 & 23 & 22\\\\32 & 33 & 35 & 34 & 36 & 37 & 39 & 38\\\\40 & 41 & 43 & 42 & 44 & 45 & 47 & 46\\\\56 & 57 & 59 & 58 & 60 & 61 & 63 & 62\\\\48 & 49 & 51 & 50 & 52 & 53 & 55 & 54\\end{matrix}\\right]$"
      ],
      "text/plain": [
       "Matrix([\n",
       "[ 0,  1,  3,  2,  4,  5,  7,  6],\n",
       "[ 8,  9, 11, 10, 12, 13, 15, 14],\n",
       "[24, 25, 27, 26, 28, 29, 31, 30],\n",
       "[16, 17, 19, 18, 20, 21, 23, 22],\n",
       "[32, 33, 35, 34, 36, 37, 39, 38],\n",
       "[40, 41, 43, 42, 44, 45, 47, 46],\n",
       "[56, 57, 59, 58, 60, 61, 63, 62],\n",
       "[48, 49, 51, 50, 52, 53, 55, 54]])"
      ]
     },
     "execution_count": 118,
     "metadata": {},
     "output_type": "execute_result"
    }
   ],
   "source": [
    "result = cnot*mat*cnot\n",
    "result"
   ]
  },
  {
   "cell_type": "code",
   "execution_count": 119,
   "metadata": {},
   "outputs": [
    {
     "data": {
      "text/latex": [
       "$\\displaystyle \\left[\\begin{matrix}36 & 38 & 42 & 40\\\\52 & 54 & 58 & 56\\\\84 & 86 & 90 & 88\\\\68 & 70 & 74 & 72\\end{matrix}\\right]$"
      ],
      "text/plain": [
       "Matrix([\n",
       "[36, 38, 42, 40],\n",
       "[52, 54, 58, 56],\n",
       "[84, 86, 90, 88],\n",
       "[68, 70, 74, 72]])"
      ]
     },
     "execution_count": 119,
     "metadata": {},
     "output_type": "execute_result"
    }
   ],
   "source": [
    "result[0:4, 0:4] + result[4:8, 4:8]"
   ]
  },
  {
   "cell_type": "code",
   "execution_count": 127,
   "metadata": {},
   "outputs": [
    {
     "data": {
      "text/latex": [
       "$\\displaystyle \\left[\\begin{matrix}1 & 0 & 0 & 0 & 0 & 0 & 0 & 0\\\\0 & 0 & 0 & 0 & 1 & 0 & 0 & 0\\\\0 & 1 & 0 & 0 & 0 & 0 & 0 & 0\\\\0 & 0 & 0 & 0 & 0 & 1 & 0 & 0\\\\0 & 0 & 1 & 0 & 0 & 0 & 0 & 0\\\\0 & 0 & 0 & 0 & 0 & 0 & 1 & 0\\\\0 & 0 & 0 & 1 & 0 & 0 & 0 & 0\\\\0 & 0 & 0 & 0 & 0 & 0 & 0 & 1\\end{matrix}\\right]$"
      ],
      "text/plain": [
       "Matrix([\n",
       "[1, 0, 0, 0, 0, 0, 0, 0],\n",
       "[0, 0, 0, 0, 1, 0, 0, 0],\n",
       "[0, 1, 0, 0, 0, 0, 0, 0],\n",
       "[0, 0, 0, 0, 0, 1, 0, 0],\n",
       "[0, 0, 1, 0, 0, 0, 0, 0],\n",
       "[0, 0, 0, 0, 0, 0, 1, 0],\n",
       "[0, 0, 0, 1, 0, 0, 0, 0],\n",
       "[0, 0, 0, 0, 0, 0, 0, 1]])"
      ]
     },
     "execution_count": 127,
     "metadata": {},
     "output_type": "execute_result"
    }
   ],
   "source": [
    "cyclic_swap = Matrix(\n",
    "   [[1, 0, 0, 0, 0, 0, 0, 0],\n",
    "    [0, 0, 0, 0, 1, 0, 0, 0],\n",
    "    [0, 1, 0, 0, 0, 0, 0, 0],\n",
    "    [0, 0, 0, 0, 0, 1, 0, 0],\n",
    "    [0, 0, 1, 0, 0, 0, 0, 0],\n",
    "    [0, 0, 0, 0, 0, 0, 1, 0],\n",
    "    [0, 0, 0, 1, 0, 0, 0, 0],\n",
    "    [0, 0, 0, 0, 0, 0, 0, 1]] )\n",
    "\n",
    "cyclic_swap"
   ]
  },
  {
   "cell_type": "code",
   "execution_count": 121,
   "metadata": {},
   "outputs": [
    {
     "data": {
      "text/latex": [
       "$\\displaystyle \\left[\\begin{matrix}0 & 4 & 1 & 5 & 2 & 6 & 3 & 7\\\\32 & 36 & 33 & 37 & 34 & 38 & 35 & 39\\\\8 & 12 & 9 & 13 & 10 & 14 & 11 & 15\\\\40 & 44 & 41 & 45 & 42 & 46 & 43 & 47\\\\16 & 20 & 17 & 21 & 18 & 22 & 19 & 23\\\\48 & 52 & 49 & 53 & 50 & 54 & 51 & 55\\\\24 & 28 & 25 & 29 & 26 & 30 & 27 & 31\\\\56 & 60 & 57 & 61 & 58 & 62 & 59 & 63\\end{matrix}\\right]$"
      ],
      "text/plain": [
       "Matrix([\n",
       "[ 0,  4,  1,  5,  2,  6,  3,  7],\n",
       "[32, 36, 33, 37, 34, 38, 35, 39],\n",
       "[ 8, 12,  9, 13, 10, 14, 11, 15],\n",
       "[40, 44, 41, 45, 42, 46, 43, 47],\n",
       "[16, 20, 17, 21, 18, 22, 19, 23],\n",
       "[48, 52, 49, 53, 50, 54, 51, 55],\n",
       "[24, 28, 25, 29, 26, 30, 27, 31],\n",
       "[56, 60, 57, 61, 58, 62, 59, 63]])"
      ]
     },
     "execution_count": 121,
     "metadata": {},
     "output_type": "execute_result"
    }
   ],
   "source": [
    "result = cyclic_swap*mat*cyclic_swap.T\n",
    "result"
   ]
  },
  {
   "cell_type": "code",
   "execution_count": 122,
   "metadata": {},
   "outputs": [
    {
     "data": {
      "text/latex": [
       "$\\displaystyle \\left[\\begin{matrix}0 & 4 & 5 & 1 & 2 & 6 & 7 & 3\\\\32 & 36 & 37 & 33 & 34 & 38 & 39 & 35\\\\40 & 44 & 45 & 41 & 42 & 46 & 47 & 43\\\\8 & 12 & 13 & 9 & 10 & 14 & 15 & 11\\\\16 & 20 & 21 & 17 & 18 & 22 & 23 & 19\\\\48 & 52 & 53 & 49 & 50 & 54 & 55 & 51\\\\56 & 60 & 61 & 57 & 58 & 62 & 63 & 59\\\\24 & 28 & 29 & 25 & 26 & 30 & 31 & 27\\end{matrix}\\right]$"
      ],
      "text/plain": [
       "Matrix([\n",
       "[ 0,  4,  5,  1,  2,  6,  7,  3],\n",
       "[32, 36, 37, 33, 34, 38, 39, 35],\n",
       "[40, 44, 45, 41, 42, 46, 47, 43],\n",
       "[ 8, 12, 13,  9, 10, 14, 15, 11],\n",
       "[16, 20, 21, 17, 18, 22, 23, 19],\n",
       "[48, 52, 53, 49, 50, 54, 55, 51],\n",
       "[56, 60, 61, 57, 58, 62, 63, 59],\n",
       "[24, 28, 29, 25, 26, 30, 31, 27]])"
      ]
     },
     "execution_count": 122,
     "metadata": {},
     "output_type": "execute_result"
    }
   ],
   "source": [
    "result = cnot*result*cnot\n",
    "result"
   ]
  },
  {
   "cell_type": "code",
   "execution_count": 123,
   "metadata": {},
   "outputs": [
    {
     "data": {
      "text/latex": [
       "$\\displaystyle 252$"
      ],
      "text/plain": [
       "252"
      ]
     },
     "execution_count": 123,
     "metadata": {},
     "output_type": "execute_result"
    }
   ],
   "source": [
    "trace(result)"
   ]
  },
  {
   "cell_type": "code",
   "execution_count": 124,
   "metadata": {},
   "outputs": [
    {
     "data": {
      "text/latex": [
       "$\\displaystyle \\left[\\begin{matrix}18 & 26 & 28 & 20\\\\82 & 90 & 92 & 84\\\\98 & 106 & 108 & 100\\\\34 & 42 & 44 & 36\\end{matrix}\\right]$"
      ],
      "text/plain": [
       "Matrix([\n",
       "[18,  26,  28,  20],\n",
       "[82,  90,  92,  84],\n",
       "[98, 106, 108, 100],\n",
       "[34,  42,  44,  36]])"
      ]
     },
     "execution_count": 124,
     "metadata": {},
     "output_type": "execute_result"
    }
   ],
   "source": [
    "result[0:4, 0:4] + result[4:8, 4:8]"
   ]
  }
 ],
 "metadata": {
  "kernelspec": {
   "display_name": "Python 3",
   "language": "python",
   "name": "python3"
  },
  "language_info": {
   "codemirror_mode": {
    "name": "ipython",
    "version": 3
   },
   "file_extension": ".py",
   "mimetype": "text/x-python",
   "name": "python",
   "nbconvert_exporter": "python",
   "pygments_lexer": "ipython3",
   "version": "3.10.12"
  },
  "orig_nbformat": 4
 },
 "nbformat": 4,
 "nbformat_minor": 2
}
