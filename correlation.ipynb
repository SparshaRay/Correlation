{
 "cells": [
  {
   "cell_type": "code",
   "execution_count": 202,
   "metadata": {},
   "outputs": [],
   "source": [
    "from sympy import *\n",
    "from scipy.sparse import coo_array\n",
    "import numpy as np\n",
    "\n",
    "output_eqs = []"
   ]
  },
  {
   "cell_type": "code",
   "execution_count": 203,
   "metadata": {},
   "outputs": [],
   "source": [
    "from sympy.solvers.solveset import linsolve\n",
    "\n",
    "def elim(eqs, z):\n",
    "    \"\"\"return eqs with parameter z eliminated from each equation; the first\n",
    "    element in the returned list will be the definition of z that was used\n",
    "    to eliminate z from the other equations.\n",
    "\n",
    "    Examples\n",
    "    ========\n",
    "\n",
    "    >>> eqs = [Eq(2*x + 3*y + 4*z, 1),\n",
    "    ...        Eq(9*x + 8*y + 7*z, 2)]\n",
    "    >>> eliminate(eqs, z)\n",
    "    [Eq(z, -x/2 - 3*y/4 + 1/4), Eq(11*x/2 + 11*y/4 + 7/4, 2)]\n",
    "    >>> Eq(y,solve(_[1], y)[0])\n",
    "    Eq(y, -2*x + 1/11)\n",
    "    \"\"\"\n",
    "    Z = Dummy()\n",
    "    rv = []\n",
    "    for i, e in enumerate(eqs):\n",
    "        if z not in e.free_symbols:\n",
    "            continue\n",
    "        e = e.subs(z, Z)\n",
    "        if z in e.free_symbols:\n",
    "            break\n",
    "        try:\n",
    "            s = linsolve([e], Z)\n",
    "            if s:\n",
    "                zi = list(s)[0][0]\n",
    "                rv.append(Eq(z, zi))\n",
    "                rv.extend([eqs[j].subs(z, zi)\n",
    "                    for j in range(len(eqs)) if j != i])\n",
    "                return rv\n",
    "        except ValueError:\n",
    "            continue\n",
    "    raise ValueError\n",
    "\n",
    "def eliminate(eqset, vars) :\n",
    "    \"\"\"\n",
    "    Calls the elim function on each variable in vars recursively.\n",
    "    Thus eliminates all variables in vars from the list of equations eqset.\n",
    "    \"\"\"\n",
    "    if len(vars)==0 :\n",
    "        global output_eqs\n",
    "        output_eqs = eqset\n",
    "        print('Final solution -')\n",
    "        for eq in eqset :\n",
    "            print(eq)\n",
    "        return\n",
    "    var = vars.pop(0)\n",
    "    try :\n",
    "        tempsols = elim(eqset, var)\n",
    "    except ValueError :\n",
    "        print(f'Zero coeff variable - {var}')\n",
    "        try : var = vars.pop(0)\n",
    "        except IndexError :\n",
    "            print('All variables eliminated')\n",
    "        return eliminate(eqset, vars)\n",
    "    else :\n",
    "        print(f'Eliminated by equation - {tempsols[0]}')\n",
    "        return eliminate(tempsols[1:], vars)"
   ]
  },
  {
   "cell_type": "code",
   "execution_count": 204,
   "metadata": {},
   "outputs": [],
   "source": [
    "ABC = np.zeros((8, 8))\n",
    "\n",
    "ABC_coeffs = []\n",
    "\n",
    "for i in range(1, 256) :\n",
    "    coeff = symbols(f'ABC{i:03d}')\n",
    "    ABC_coeffs.append(coeff)\n",
    "    arr = np.array([int(c) for c in f'{i:08b}'])\n",
    "    mat = np.outer(arr, arr)\n",
    "\n",
    "    ABC = ABC + coeff * mat\n",
    "\n",
    "ABC = Matrix(ABC)\n",
    "# ABC"
   ]
  },
  {
   "cell_type": "code",
   "execution_count": 205,
   "metadata": {},
   "outputs": [],
   "source": [
    "BC = np.zeros((4, 4))\n",
    "\n",
    "BC_coeffs = []\n",
    "\n",
    "for i in range(1, 16) :\n",
    "    coeff = symbols(f'oBC{i:03d}')\n",
    "    BC_coeffs.append(coeff)\n",
    "    arr = np.array([int(c) for c in f'{i:04b}'])\n",
    "    mat = np.outer(arr, arr)\n",
    "\n",
    "    BC = BC + coeff * mat\n",
    "\n",
    "BC = Matrix(BC)\n",
    "# BC"
   ]
  },
  {
   "cell_type": "code",
   "execution_count": 206,
   "metadata": {},
   "outputs": [],
   "source": [
    "AB = np.zeros((4, 4))\n",
    "\n",
    "AB_coeffs = []\n",
    "\n",
    "for i in range(1, 16) :\n",
    "    coeff = symbols(f'oAB{i:03d}')\n",
    "    AB_coeffs.append(coeff)\n",
    "    arr = np.array([int(c) for c in f'{i:04b}'])\n",
    "    mat = np.outer(arr, arr)\n",
    "\n",
    "    AB = AB + coeff * mat\n",
    "\n",
    "AB = Matrix(AB)\n",
    "# AB"
   ]
  },
  {
   "cell_type": "code",
   "execution_count": 207,
   "metadata": {},
   "outputs": [],
   "source": [
    "CA = np.zeros((4, 4))\n",
    "\n",
    "CA_coeffs = []\n",
    "\n",
    "for i in range(1, 16) :\n",
    "    coeff = symbols(f'oCA{i:03d}')\n",
    "    CA_coeffs.append(coeff)\n",
    "    arr = np.array([int(c) for c in f'{i:04b}'])\n",
    "    mat = np.outer(arr, arr)\n",
    "\n",
    "    CA = CA + coeff * mat\n",
    "\n",
    "CA = Matrix(CA)\n",
    "# CA"
   ]
  },
  {
   "cell_type": "code",
   "execution_count": 208,
   "metadata": {},
   "outputs": [],
   "source": [
    "cyclic_swap = Matrix(\n",
    "   [[1, 0, 0, 0, 0, 0, 0, 0],\n",
    "    [0, 0, 0, 0, 1, 0, 0, 0],\n",
    "    [0, 1, 0, 0, 0, 0, 0, 0],\n",
    "    [0, 0, 0, 0, 0, 1, 0, 0],\n",
    "    [0, 0, 1, 0, 0, 0, 0, 0],\n",
    "    [0, 0, 0, 0, 0, 0, 1, 0],\n",
    "    [0, 0, 0, 1, 0, 0, 0, 0],\n",
    "    [0, 0, 0, 0, 0, 0, 0, 1]] )\n",
    "\n",
    "# cyclic_swap"
   ]
  },
  {
   "cell_type": "code",
   "execution_count": 209,
   "metadata": {},
   "outputs": [],
   "source": [
    "BC_refs = ABC[0:4, 0:4] + ABC[4:8, 4:8]\n",
    "CAB = cyclic_swap * ABC * cyclic_swap.T\n",
    "AB_refs = CAB[0:4, 0:4] + CAB[4:8, 4:8]\n",
    "BCA = cyclic_swap * CAB * cyclic_swap.T\n",
    "CA_refs = BCA[0:4, 0:4] + BCA[4:8, 4:8]"
   ]
  },
  {
   "cell_type": "code",
   "execution_count": 210,
   "metadata": {},
   "outputs": [],
   "source": [
    "index_arr = [(0, 0), (0, 1), (0, 2), (0, 3),\n",
    "                     (1, 1), (1, 2), (1, 3),\n",
    "                             (2, 2), (2, 3),\n",
    "                                     (3, 3)]\n",
    "\n",
    "eq_arr = []\n",
    "\n",
    "for i in index_arr :\n",
    "    eq_arr.append(BC[i[0], i[1]] - BC_refs[i[0], i[1]])\n",
    "    eq_arr.append(AB[i[0], i[1]] - AB_refs[i[0], i[1]])\n",
    "    eq_arr.append(CA[i[0], i[1]] - CA_refs[i[0], i[1]])"
   ]
  },
  {
   "cell_type": "code",
   "execution_count": 211,
   "metadata": {},
   "outputs": [],
   "source": [
    "EABC = diag(ABC, diag(0, 0, 0, 0, 0, 0, 0, 0))\n",
    "# EABC"
   ]
  },
  {
   "cell_type": "code",
   "execution_count": 212,
   "metadata": {},
   "outputs": [],
   "source": [
    "row  = np.array(range(16))\n",
    "col  = np.array([[i, i+8] for i in range(8)]).reshape(16)\n",
    "data = np.ones(16, dtype=int)\n",
    "\n",
    "cyclic_swap_4 = Matrix(coo_array((data, (row, col)), shape=(16, 16)).toarray())\n",
    "# cyclic_swap_4"
   ]
  },
  {
   "cell_type": "code",
   "execution_count": 213,
   "metadata": {},
   "outputs": [],
   "source": [
    "ABCE = cyclic_swap_4 * EABC * cyclic_swap_4.T\n",
    "# ABCE"
   ]
  },
  {
   "cell_type": "code",
   "execution_count": 214,
   "metadata": {},
   "outputs": [],
   "source": [
    "Toff = diag(1, 1, 1, 1, 1, 1, Matrix([[0, 1], [1, 0]]))\n",
    "Toff_16 = diag(Toff, Toff)\n",
    "# Toff_16"
   ]
  },
  {
   "cell_type": "code",
   "execution_count": 215,
   "metadata": {},
   "outputs": [],
   "source": [
    "toffedABCE = Toff_16 * ABCE * Toff_16.T\n",
    "# toffedABCE"
   ]
  },
  {
   "cell_type": "code",
   "execution_count": 216,
   "metadata": {},
   "outputs": [],
   "source": [
    "toffedBCEA = cyclic_swap_4 * toffedABCE * cyclic_swap_4.T\n",
    "# toffedBCEA"
   ]
  },
  {
   "cell_type": "code",
   "execution_count": 217,
   "metadata": {},
   "outputs": [],
   "source": [
    "toffedEA = toffedBCEA[0:4, 0:4] + toffedBCEA[4:8, 4:8] + toffedBCEA[8:12, 8:12] + toffedBCEA[12:16, 12:16]\n",
    "# toffedEA"
   ]
  },
  {
   "cell_type": "code",
   "execution_count": 218,
   "metadata": {},
   "outputs": [],
   "source": [
    "EA = np.zeros((4, 4))\n",
    "\n",
    "EA_coeffs = []\n",
    "\n",
    "for i in range(1, 16) :\n",
    "    coeff = symbols(f'oEA{i:03d}')\n",
    "    EA_coeffs.append(coeff)\n",
    "    arr = np.array([int(c) for c in f'{i:04b}'])\n",
    "    mat = np.outer(arr, arr)\n",
    "\n",
    "    EA = EA + coeff * mat\n",
    "\n",
    "EA = Matrix(EA)\n",
    "# EA"
   ]
  },
  {
   "cell_type": "code",
   "execution_count": 219,
   "metadata": {},
   "outputs": [
    {
     "data": {
      "text/plain": [
       "40"
      ]
     },
     "execution_count": 219,
     "metadata": {},
     "output_type": "execute_result"
    }
   ],
   "source": [
    "for i in index_arr :\n",
    "    eq_arr.append(EA[i[0], i[1]] - toffedEA[i[0], i[1]])\n",
    "\n",
    "# eq_arr.append(np.trace(EA) - np.trace(ABC))\n",
    "    \n",
    "len(eq_arr)\n",
    "# eq_arr"
   ]
  },
  {
   "cell_type": "code",
   "execution_count": 220,
   "metadata": {},
   "outputs": [
    {
     "name": "stdout",
     "output_type": "stream",
     "text": [
      "Eliminated by equation - Eq(ABC001, -ABC003 - ABC005 - ABC007 - ABC009 - ABC011 - ABC013 - ABC015 - ABC016 - 2*ABC017 - ABC018 - 2*ABC019 - ABC020 - 2*ABC021 - ABC022 - 2*ABC023 - ABC024 - 2*ABC025 - ABC026 - 2*ABC027 - ABC028 - 2*ABC029 - ABC030 - 2*ABC031 - ABC033 - ABC035 - ABC037 - ABC039 - ABC041 - ABC043 - ABC045 - ABC047 - ABC048 - 2*ABC049 - ABC050 - 2*ABC051 - ABC052 - 2*ABC053 - ABC054 - 2*ABC055 - ABC056 - 2*ABC057 - ABC058 - 2*ABC059 - ABC060 - 2*ABC061 - ABC062 - 2*ABC063 - ABC065 - ABC067 - ABC069 - ABC071 - ABC073 - ABC075 - ABC077 - ABC079 - ABC080 - 2*ABC081 - ABC082 - 2*ABC083 - ABC084 - 2*ABC085 - ABC086 - 2*ABC087 - ABC088 - 2*ABC089 - ABC090 - 2*ABC091 - ABC092 - 2*ABC093 - ABC094 - 2*ABC095 - ABC097 - ABC099 - ABC101 - ABC103 - ABC105 - ABC107 - ABC109 - ABC111 - ABC112 - 2*ABC113 - ABC114 - 2*ABC115 - ABC116 - 2*ABC117 - ABC118 - 2*ABC119 - ABC120 - 2*ABC121 - ABC122 - 2*ABC123 - ABC124 - 2*ABC125 - ABC126 - 2*ABC127 - ABC129 - ABC131 - ABC133 - ABC135 - ABC137 - ABC139 - ABC141 - ABC143 - ABC144 - 2*ABC145 - ABC146 - 2*ABC147 - ABC148 - 2*ABC149 - ABC150 - 2*ABC151 - ABC152 - 2*ABC153 - ABC154 - 2*ABC155 - ABC156 - 2*ABC157 - ABC158 - 2*ABC159 - ABC161 - ABC163 - ABC165 - ABC167 - ABC169 - ABC171 - ABC173 - ABC175 - ABC176 - 2*ABC177 - ABC178 - 2*ABC179 - ABC180 - 2*ABC181 - ABC182 - 2*ABC183 - ABC184 - 2*ABC185 - ABC186 - 2*ABC187 - ABC188 - 2*ABC189 - ABC190 - 2*ABC191 - ABC193 - ABC195 - ABC197 - ABC199 - ABC201 - ABC203 - ABC205 - ABC207 - ABC208 - 2*ABC209 - ABC210 - 2*ABC211 - ABC212 - 2*ABC213 - ABC214 - 2*ABC215 - ABC216 - 2*ABC217 - ABC218 - 2*ABC219 - ABC220 - 2*ABC221 - ABC222 - 2*ABC223 - ABC225 - ABC227 - ABC229 - ABC231 - ABC233 - ABC235 - ABC237 - ABC239 - ABC240 - 2*ABC241 - ABC242 - 2*ABC243 - ABC244 - 2*ABC245 - ABC246 - 2*ABC247 - ABC248 - 2*ABC249 - ABC250 - 2*ABC251 - ABC252 - 2*ABC253 - ABC254 - 2*ABC255 + oBC001 + oBC003 + oBC005 + oBC007 + oBC009 + oBC011 + oBC013 + oBC015)\n",
      "Eliminated by equation - Eq(ABC002, -ABC003 - ABC006 - ABC007 - ABC008 - ABC009 - 2*ABC010 - 2*ABC011 - ABC012 - ABC013 - 2*ABC014 - 2*ABC015 - ABC018 - ABC019 - ABC022 - ABC023 - ABC024 - ABC025 - 2*ABC026 - 2*ABC027 - ABC028 - ABC029 - 2*ABC030 - 2*ABC031 - ABC034 - ABC035 - ABC038 - ABC039 - ABC040 - ABC041 - 2*ABC042 - 2*ABC043 - ABC044 - ABC045 - 2*ABC046 - 2*ABC047 - ABC050 - ABC051 - ABC054 - ABC055 - ABC056 - ABC057 - 2*ABC058 - 2*ABC059 - ABC060 - ABC061 - 2*ABC062 - 2*ABC063 - ABC066 - ABC067 - ABC070 - ABC071 - ABC072 - ABC073 - 2*ABC074 - 2*ABC075 - ABC076 - ABC077 - 2*ABC078 - 2*ABC079 - ABC082 - ABC083 - ABC086 - ABC087 - ABC088 - ABC089 - 2*ABC090 - 2*ABC091 - ABC092 - ABC093 - 2*ABC094 - 2*ABC095 - ABC098 - ABC099 - ABC102 - ABC103 - ABC104 - ABC105 - 2*ABC106 - 2*ABC107 - ABC108 - ABC109 - 2*ABC110 - 2*ABC111 - ABC114 - ABC115 - ABC118 - ABC119 - ABC120 - ABC121 - 2*ABC122 - 2*ABC123 - ABC124 - ABC125 - 2*ABC126 - 2*ABC127 - ABC130 - ABC131 - ABC134 - ABC135 - ABC136 - ABC137 - 2*ABC138 - 2*ABC139 - ABC140 - ABC141 - 2*ABC142 - 2*ABC143 - ABC146 - ABC147 - ABC150 - ABC151 - ABC152 - ABC153 - 2*ABC154 - 2*ABC155 - ABC156 - ABC157 - 2*ABC158 - 2*ABC159 - ABC162 - ABC163 - ABC166 - ABC167 - ABC168 - ABC169 - 2*ABC170 - 2*ABC171 - ABC172 - ABC173 - 2*ABC174 - 2*ABC175 - ABC178 - ABC179 - ABC182 - ABC183 - ABC184 - ABC185 - 2*ABC186 - 2*ABC187 - ABC188 - ABC189 - 2*ABC190 - 2*ABC191 - ABC194 - ABC195 - ABC198 - ABC199 - ABC200 - ABC201 - 2*ABC202 - 2*ABC203 - ABC204 - ABC205 - 2*ABC206 - 2*ABC207 - ABC210 - ABC211 - ABC214 - ABC215 - ABC216 - ABC217 - 2*ABC218 - 2*ABC219 - ABC220 - ABC221 - 2*ABC222 - 2*ABC223 - ABC226 - ABC227 - ABC230 - ABC231 - ABC232 - ABC233 - 2*ABC234 - 2*ABC235 - ABC236 - ABC237 - 2*ABC238 - 2*ABC239 - ABC242 - ABC243 - ABC246 - ABC247 - ABC248 - ABC249 - 2*ABC250 - 2*ABC251 - ABC252 - ABC253 - 2*ABC254 - 2*ABC255 + oAB004 + oAB005 + oAB006 + oAB007 + oAB012 + oAB013 + oAB014 + oAB015)\n",
      "Eliminated by equation - Eq(ABC003, -ABC007 - ABC011 - ABC012 - ABC013 - ABC014 - 2*ABC015 - ABC019 - ABC023 - ABC027 - ABC028 - ABC029 - ABC030 - 2*ABC031 - ABC035 - ABC039 - ABC043 - ABC044 - ABC045 - ABC046 - 2*ABC047 - ABC051 - ABC055 - ABC059 - ABC060 - ABC061 - ABC062 - 2*ABC063 - ABC067 - ABC071 - ABC075 - ABC076 - ABC077 - ABC078 - 2*ABC079 - ABC083 - ABC087 - ABC091 - ABC092 - ABC093 - ABC094 - 2*ABC095 - ABC099 - ABC103 - ABC107 - ABC108 - ABC109 - ABC110 - 2*ABC111 - ABC115 - ABC119 - ABC123 - ABC124 - ABC125 - ABC126 - 2*ABC127 - ABC131 - ABC135 - ABC139 - ABC140 - ABC141 - ABC142 - 2*ABC143 - ABC147 - ABC151 - ABC155 - ABC156 - ABC157 - ABC158 - 2*ABC159 - ABC163 - ABC167 - ABC171 - ABC172 - ABC173 - ABC174 - 2*ABC175 - ABC179 - ABC183 - ABC187 - ABC188 - ABC189 - ABC190 - 2*ABC191 - ABC195 - ABC199 - ABC203 - ABC204 - ABC205 - ABC206 - 2*ABC207 - ABC211 - ABC215 - ABC219 - ABC220 - ABC221 - ABC222 - 2*ABC223 - ABC227 - ABC231 - ABC235 - ABC236 - ABC237 - ABC238 - 2*ABC239 - ABC243 - ABC247 - ABC251 - ABC252 - ABC253 - ABC254 - 2*ABC255 + oAB005 + oAB007 + oAB013 + oAB015)\n",
      "Eliminated by equation - Eq(ABC004, -ABC005 - ABC006 - ABC007 - ABC012 - ABC013 - ABC014 - ABC015 - ABC020 - ABC021 - ABC022 - ABC023 - ABC028 - ABC029 - ABC030 - ABC031 - ABC036 - ABC037 - ABC038 - ABC039 - ABC044 - ABC045 - ABC046 - ABC047 - ABC052 - ABC053 - ABC054 - ABC055 - ABC060 - ABC061 - ABC062 - ABC063 - ABC064 - ABC065 - ABC066 - ABC067 - 2*ABC068 - 2*ABC069 - 2*ABC070 - 2*ABC071 - ABC072 - ABC073 - ABC074 - ABC075 - 2*ABC076 - 2*ABC077 - 2*ABC078 - 2*ABC079 - ABC080 - ABC081 - ABC082 - ABC083 - 2*ABC084 - 2*ABC085 - 2*ABC086 - 2*ABC087 - ABC088 - ABC089 - ABC090 - ABC091 - 2*ABC092 - 2*ABC093 - 2*ABC094 - 2*ABC095 - ABC096 - ABC097 - ABC098 - ABC099 - 2*ABC100 - 2*ABC101 - 2*ABC102 - 2*ABC103 - ABC104 - ABC105 - ABC106 - ABC107 - 2*ABC108 - 2*ABC109 - 2*ABC110 - 2*ABC111 - ABC112 - ABC113 - ABC114 - ABC115 - 2*ABC116 - 2*ABC117 - 2*ABC118 - 2*ABC119 - ABC120 - ABC121 - ABC122 - ABC123 - 2*ABC124 - 2*ABC125 - 2*ABC126 - 2*ABC127 - ABC132 - ABC133 - ABC134 - ABC135 - ABC140 - ABC141 - ABC142 - ABC143 - ABC148 - ABC149 - ABC150 - ABC151 - ABC156 - ABC157 - ABC158 - ABC159 - ABC164 - ABC165 - ABC166 - ABC167 - ABC172 - ABC173 - ABC174 - ABC175 - ABC180 - ABC181 - ABC182 - ABC183 - ABC188 - ABC189 - ABC190 - ABC191 - ABC192 - ABC193 - ABC194 - ABC195 - 2*ABC196 - 2*ABC197 - 2*ABC198 - 2*ABC199 - ABC200 - ABC201 - ABC202 - ABC203 - 2*ABC204 - 2*ABC205 - 2*ABC206 - 2*ABC207 - ABC208 - ABC209 - ABC210 - ABC211 - 2*ABC212 - 2*ABC213 - 2*ABC214 - 2*ABC215 - ABC216 - ABC217 - ABC218 - ABC219 - 2*ABC220 - 2*ABC221 - 2*ABC222 - 2*ABC223 - ABC224 - ABC225 - ABC226 - ABC227 - 2*ABC228 - 2*ABC229 - 2*ABC230 - 2*ABC231 - ABC232 - ABC233 - ABC234 - ABC235 - 2*ABC236 - 2*ABC237 - 2*ABC238 - 2*ABC239 - ABC240 - ABC241 - ABC242 - ABC243 - 2*ABC244 - 2*ABC245 - 2*ABC246 - 2*ABC247 - ABC248 - ABC249 - ABC250 - ABC251 - 2*ABC252 - 2*ABC253 - 2*ABC254 - 2*ABC255 + oBC004 + oBC005 + oBC006 + oBC007 + oBC012 + oBC013 + oBC014 + oBC015)\n",
      "Eliminated by equation - Eq(ABC005, -ABC007 - ABC013 - ABC015 - ABC021 - ABC023 - ABC029 - ABC031 - ABC037 - ABC039 - ABC045 - ABC047 - ABC053 - ABC055 - ABC061 - ABC063 - ABC069 - ABC071 - ABC077 - ABC079 - ABC080 - ABC081 - ABC082 - ABC083 - ABC084 - 2*ABC085 - ABC086 - 2*ABC087 - ABC088 - ABC089 - ABC090 - ABC091 - ABC092 - 2*ABC093 - ABC094 - 2*ABC095 - ABC101 - ABC103 - ABC109 - ABC111 - ABC112 - ABC113 - ABC114 - ABC115 - ABC116 - 2*ABC117 - ABC118 - 2*ABC119 - ABC120 - ABC121 - ABC122 - ABC123 - ABC124 - 2*ABC125 - ABC126 - 2*ABC127 - ABC133 - ABC135 - ABC141 - ABC143 - ABC149 - ABC151 - ABC157 - ABC159 - ABC165 - ABC167 - ABC173 - ABC175 - ABC181 - ABC183 - ABC189 - ABC191 - ABC197 - ABC199 - ABC205 - ABC207 - ABC208 - ABC209 - ABC210 - ABC211 - ABC212 - 2*ABC213 - ABC214 - 2*ABC215 - ABC216 - ABC217 - ABC218 - ABC219 - ABC220 - 2*ABC221 - ABC222 - 2*ABC223 - ABC229 - ABC231 - ABC237 - ABC239 - ABC240 - ABC241 - ABC242 - ABC243 - ABC244 - 2*ABC245 - ABC246 - 2*ABC247 - ABC248 - ABC249 - ABC250 - ABC251 - ABC252 - 2*ABC253 - ABC254 - 2*ABC255 + oBC005 + oBC007 + oBC013 + oBC015)\n",
      "Eliminated by equation - Eq(ABC006, -ABC007 - ABC014 - ABC015 - ABC022 - ABC023 - ABC030 - ABC031 - ABC038 - ABC039 - ABC046 - ABC047 - ABC054 - ABC055 - ABC062 - ABC063 - ABC070 - ABC071 - ABC078 - ABC079 - ABC086 - ABC087 - ABC094 - ABC095 - ABC096 - ABC097 - ABC098 - ABC099 - ABC100 - ABC101 - 2*ABC102 - 2*ABC103 - ABC104 - ABC105 - ABC106 - ABC107 - ABC108 - ABC109 - 2*ABC110 - 2*ABC111 - ABC112 - ABC113 - ABC114 - ABC115 - ABC116 - ABC117 - 2*ABC118 - 2*ABC119 - ABC120 - ABC121 - ABC122 - ABC123 - ABC124 - ABC125 - 2*ABC126 - 2*ABC127 - ABC134 - ABC135 - ABC142 - ABC143 - ABC150 - ABC151 - ABC158 - ABC159 - ABC166 - ABC167 - ABC174 - ABC175 - ABC182 - ABC183 - ABC190 - ABC191 - ABC198 - ABC199 - ABC206 - ABC207 - ABC214 - ABC215 - ABC222 - ABC223 - ABC224 - ABC225 - ABC226 - ABC227 - ABC228 - ABC229 - 2*ABC230 - 2*ABC231 - ABC232 - ABC233 - ABC234 - ABC235 - ABC236 - ABC237 - 2*ABC238 - 2*ABC239 - ABC240 - ABC241 - ABC242 - ABC243 - ABC244 - ABC245 - 2*ABC246 - 2*ABC247 - ABC248 - ABC249 - ABC250 - ABC251 - ABC252 - ABC253 - 2*ABC254 - 2*ABC255 + oBC006 + oBC007 + oBC014 + oBC015)\n",
      "Zero coeff variable - ABC007\n",
      "Eliminated by equation - Eq(ABC009, -ABC008 - ABC010 - ABC011 - ABC012 - ABC013 - ABC014 - ABC015 - ABC024 - ABC025 - ABC026 - ABC027 - ABC028 - ABC029 - ABC030 - ABC031 - ABC040 - ABC041 - ABC042 - ABC043 - ABC044 - ABC045 - ABC046 - ABC047 - ABC056 - ABC057 - ABC058 - ABC059 - ABC060 - ABC061 - ABC062 - ABC063 - ABC072 - ABC073 - ABC074 - ABC075 - ABC076 - ABC077 - ABC078 - ABC079 - ABC088 - ABC089 - ABC090 - ABC091 - ABC092 - ABC093 - ABC094 - ABC095 - ABC104 - ABC105 - ABC106 - ABC107 - ABC108 - ABC109 - ABC110 - ABC111 - ABC120 - ABC121 - ABC122 - ABC123 - ABC124 - ABC125 - ABC126 - ABC127 - ABC128 - ABC129 - ABC130 - ABC131 - ABC132 - ABC133 - ABC134 - ABC135 - 2*ABC136 - 2*ABC137 - 2*ABC138 - 2*ABC139 - 2*ABC140 - 2*ABC141 - 2*ABC142 - 2*ABC143 - ABC144 - ABC145 - ABC146 - ABC147 - ABC148 - ABC149 - ABC150 - ABC151 - 2*ABC152 - 2*ABC153 - 2*ABC154 - 2*ABC155 - 2*ABC156 - 2*ABC157 - 2*ABC158 - 2*ABC159 - ABC160 - ABC161 - ABC162 - ABC163 - ABC164 - ABC165 - ABC166 - ABC167 - 2*ABC168 - 2*ABC169 - 2*ABC170 - 2*ABC171 - 2*ABC172 - 2*ABC173 - 2*ABC174 - 2*ABC175 - ABC176 - ABC177 - ABC178 - ABC179 - ABC180 - ABC181 - ABC182 - ABC183 - 2*ABC184 - 2*ABC185 - 2*ABC186 - 2*ABC187 - 2*ABC188 - 2*ABC189 - 2*ABC190 - 2*ABC191 - ABC192 - ABC193 - ABC194 - ABC195 - ABC196 - ABC197 - ABC198 - ABC199 - 2*ABC200 - 2*ABC201 - 2*ABC202 - 2*ABC203 - 2*ABC204 - 2*ABC205 - 2*ABC206 - 2*ABC207 - ABC208 - ABC209 - ABC210 - ABC211 - ABC212 - ABC213 - ABC214 - ABC215 - 2*ABC216 - 2*ABC217 - 2*ABC218 - 2*ABC219 - 2*ABC220 - 2*ABC221 - 2*ABC222 - 2*ABC223 - ABC224 - ABC225 - ABC226 - ABC227 - ABC228 - ABC229 - ABC230 - ABC231 - 2*ABC232 - 2*ABC233 - 2*ABC234 - 2*ABC235 - 2*ABC236 - 2*ABC237 - 2*ABC238 - 2*ABC239 - ABC240 - ABC241 - ABC242 - ABC243 - ABC244 - ABC245 - ABC246 - ABC247 - 2*ABC248 - 2*ABC249 - 2*ABC250 - 2*ABC251 - 2*ABC252 - 2*ABC253 - 2*ABC254 - 2*ABC255 + oBC008 + oBC009 + oBC010 + oBC011 + oBC012 + oBC013 + oBC014 + oBC015)\n",
      "Eliminated by equation - Eq(ABC010, -ABC011 - ABC014 - ABC015 - ABC026 - ABC027 - ABC030 - ABC031 - ABC042 - ABC043 - ABC046 - ABC047 - ABC058 - ABC059 - ABC062 - ABC063 - ABC074 - ABC075 - ABC078 - ABC079 - ABC090 - ABC091 - ABC094 - ABC095 - ABC106 - ABC107 - ABC110 - ABC111 - ABC122 - ABC123 - ABC126 - ABC127 - ABC138 - ABC139 - ABC142 - ABC143 - ABC154 - ABC155 - ABC158 - ABC159 - ABC160 - ABC161 - ABC162 - ABC163 - ABC164 - ABC165 - ABC166 - ABC167 - ABC168 - ABC169 - 2*ABC170 - 2*ABC171 - ABC172 - ABC173 - 2*ABC174 - 2*ABC175 - ABC176 - ABC177 - ABC178 - ABC179 - ABC180 - ABC181 - ABC182 - ABC183 - ABC184 - ABC185 - 2*ABC186 - 2*ABC187 - ABC188 - ABC189 - 2*ABC190 - 2*ABC191 - ABC202 - ABC203 - ABC206 - ABC207 - ABC218 - ABC219 - ABC222 - ABC223 - ABC224 - ABC225 - ABC226 - ABC227 - ABC228 - ABC229 - ABC230 - ABC231 - ABC232 - ABC233 - 2*ABC234 - 2*ABC235 - ABC236 - ABC237 - 2*ABC238 - 2*ABC239 - ABC240 - ABC241 - ABC242 - ABC243 - ABC244 - ABC245 - ABC246 - ABC247 - ABC248 - ABC249 - 2*ABC250 - 2*ABC251 - ABC252 - ABC253 - 2*ABC254 - 2*ABC255 + oBC010 + oBC011 + oBC014 + oBC015)\n",
      "Eliminated by equation - Eq(ABC011, ABC008 + ABC012 - ABC015 + ABC024 - ABC027 + ABC028 - ABC031 + ABC040 - ABC043 + ABC044 - ABC047 + ABC056 - ABC059 + ABC060 - ABC063 + ABC072 - ABC075 + ABC076 - ABC079 + ABC088 - ABC091 + ABC092 - ABC095 + ABC104 - ABC107 + ABC108 - ABC111 + ABC120 - ABC123 + ABC124 - ABC127 + ABC128 + ABC129 + ABC130 + ABC131 + ABC132 + ABC133 + ABC134 + ABC135 + 2*ABC136 + ABC137 + ABC138 + 2*ABC140 + ABC141 + ABC142 + ABC152 - ABC155 + ABC156 - ABC159 + ABC168 - ABC171 + ABC172 - ABC175 - ABC176 - ABC177 - ABC178 - ABC179 - ABC180 - ABC181 - ABC182 - ABC183 - ABC185 - ABC186 - 2*ABC187 - ABC189 - ABC190 - 2*ABC191 + ABC192 + ABC193 + ABC194 + ABC195 + ABC196 + ABC197 + ABC198 + ABC199 + 2*ABC200 + ABC201 + ABC202 + 2*ABC204 + ABC205 + ABC206 + ABC216 - ABC219 + ABC220 - ABC223 + ABC232 - ABC235 + ABC236 - ABC239 - ABC240 - ABC241 - ABC242 - ABC243 - ABC244 - ABC245 - ABC246 - ABC247 - ABC249 - ABC250 - 2*ABC251 - ABC253 - ABC254 - 2*ABC255 - oBC008 + oBC011 - oBC012 + oBC015)\n",
      "Eliminated by equation - Eq(ABC012, -ABC013 - ABC014 - ABC015 - ABC028 - ABC029 - ABC030 - ABC031 - ABC044 - ABC045 - ABC046 - ABC047 - ABC060 - ABC061 - ABC062 - ABC063 - ABC076 - ABC077 - ABC078 - ABC079 - ABC092 - ABC093 - ABC094 - ABC095 - ABC108 - ABC109 - ABC110 - ABC111 - ABC124 - ABC125 - ABC126 - ABC127 - ABC140 - ABC141 - ABC142 - ABC143 - ABC156 - ABC157 - ABC158 - ABC159 - ABC172 - ABC173 - ABC174 - ABC175 - ABC188 - ABC189 - ABC190 - ABC191 - ABC192 - ABC193 - ABC194 - ABC195 - ABC196 - ABC197 - ABC198 - ABC199 - ABC200 - ABC201 - ABC202 - ABC203 - 2*ABC204 - 2*ABC205 - 2*ABC206 - 2*ABC207 - ABC208 - ABC209 - ABC210 - ABC211 - ABC212 - ABC213 - ABC214 - ABC215 - ABC216 - ABC217 - ABC218 - ABC219 - 2*ABC220 - 2*ABC221 - 2*ABC222 - 2*ABC223 - ABC224 - ABC225 - ABC226 - ABC227 - ABC228 - ABC229 - ABC230 - ABC231 - ABC232 - ABC233 - ABC234 - ABC235 - 2*ABC236 - 2*ABC237 - 2*ABC238 - 2*ABC239 - ABC240 - ABC241 - ABC242 - ABC243 - ABC244 - ABC245 - ABC246 - ABC247 - ABC248 - ABC249 - ABC250 - ABC251 - 2*ABC252 - 2*ABC253 - 2*ABC254 - 2*ABC255 + oBC012 + oBC013 + oBC014 + oBC015)\n",
      "Zero coeff variable - ABC013\n",
      "Zero coeff variable - ABC015\n",
      "Eliminated by equation - Eq(ABC017, -ABC016 - ABC018 - ABC019 - ABC020 - ABC021 - ABC022 - ABC023 - ABC024 - ABC025 - ABC026 - ABC027 - ABC028 - ABC029 - ABC030 - ABC031 - ABC032 - ABC033 - ABC034 - ABC035 - ABC036 - ABC037 - ABC038 - ABC039 - ABC040 - ABC041 - ABC042 - ABC043 - ABC044 - ABC045 - ABC046 - ABC047 - 2*ABC048 - 2*ABC049 - 2*ABC050 - 2*ABC051 - 2*ABC052 - 2*ABC053 - 2*ABC054 - 2*ABC055 - 2*ABC056 - 2*ABC057 - 2*ABC058 - 2*ABC059 - 2*ABC060 - 2*ABC061 - 2*ABC062 - 2*ABC063 - ABC080 - ABC081 - ABC082 - ABC083 - ABC084 - ABC085 - ABC086 - ABC087 - ABC088 - ABC089 - ABC090 - ABC091 - ABC092 - ABC093 - ABC094 - ABC095 - ABC096 - ABC097 - ABC098 - ABC099 - ABC100 - ABC101 - ABC102 - ABC103 - ABC104 - ABC105 - ABC106 - ABC107 - ABC108 - ABC109 - ABC110 - ABC111 - 2*ABC112 - 2*ABC113 - 2*ABC114 - 2*ABC115 - 2*ABC116 - 2*ABC117 - 2*ABC118 - 2*ABC119 - 2*ABC120 - 2*ABC121 - 2*ABC122 - 2*ABC123 - 2*ABC124 - 2*ABC125 - 2*ABC126 - 2*ABC127 - ABC144 - ABC145 - ABC146 - ABC147 - ABC148 - ABC149 - ABC150 - ABC151 - ABC152 - ABC153 - ABC154 - ABC155 - ABC156 - ABC157 - ABC158 - ABC159 - ABC160 - ABC161 - ABC162 - ABC163 - ABC164 - ABC165 - ABC166 - ABC167 - ABC168 - ABC169 - ABC170 - ABC171 - ABC172 - ABC173 - ABC174 - ABC175 - 2*ABC176 - 2*ABC177 - 2*ABC178 - 2*ABC179 - 2*ABC180 - 2*ABC181 - 2*ABC182 - 2*ABC183 - 2*ABC184 - 2*ABC185 - 2*ABC186 - 2*ABC187 - 2*ABC188 - 2*ABC189 - 2*ABC190 - 2*ABC191 - ABC208 - ABC209 - ABC210 - ABC211 - ABC212 - ABC213 - ABC214 - ABC215 - ABC216 - ABC217 - ABC218 - ABC219 - ABC220 - ABC221 - ABC222 - ABC223 - ABC224 - ABC225 - ABC226 - ABC227 - ABC228 - ABC229 - ABC230 - ABC231 - ABC232 - ABC233 - ABC234 - ABC235 - ABC236 - ABC237 - ABC238 - ABC239 - 2*ABC240 - 2*ABC241 - 2*ABC242 - 2*ABC243 - 2*ABC244 - 2*ABC245 - 2*ABC246 - 2*ABC247 - 2*ABC248 - 2*ABC249 - 2*ABC250 - 2*ABC251 - 2*ABC252 - 2*ABC253 - 2*ABC254 - 2*ABC255 + oCA004 + oCA005 + oCA006 + oCA007 + oCA012 + oCA013 + oCA014 + oCA015)\n",
      "Eliminated by equation - Eq(ABC018, -ABC019 - ABC022 - ABC023 - ABC026 - ABC027 - ABC030 - ABC031 - ABC050 - ABC051 - ABC054 - ABC055 - ABC058 - ABC059 - ABC062 - ABC063 - ABC072 - ABC073 - ABC074 - ABC075 - ABC076 - ABC077 - ABC078 - ABC079 - ABC082 - ABC083 - ABC086 - ABC087 - ABC088 - ABC089 - 2*ABC090 - 2*ABC091 - ABC092 - ABC093 - 2*ABC094 - 2*ABC095 - ABC104 - ABC105 - ABC106 - ABC107 - ABC108 - ABC109 - ABC110 - ABC111 - ABC114 - ABC115 - ABC118 - ABC119 - ABC120 - ABC121 - 2*ABC122 - 2*ABC123 - ABC124 - ABC125 - 2*ABC126 - 2*ABC127 - ABC146 - ABC147 - ABC150 - ABC151 - ABC154 - ABC155 - ABC158 - ABC159 - ABC178 - ABC179 - ABC182 - ABC183 - ABC186 - ABC187 - ABC190 - ABC191 - ABC200 - ABC201 - ABC202 - ABC203 - ABC204 - ABC205 - ABC206 - ABC207 - ABC210 - ABC211 - ABC214 - ABC215 - ABC216 - ABC217 - 2*ABC218 - 2*ABC219 - ABC220 - ABC221 - 2*ABC222 - 2*ABC223 - ABC232 - ABC233 - ABC234 - ABC235 - ABC236 - ABC237 - ABC238 - ABC239 - ABC242 - ABC243 - ABC246 - ABC247 - ABC248 - ABC249 - 2*ABC250 - 2*ABC251 - ABC252 - ABC253 - 2*ABC254 - 2*ABC255 + oAB006 + oAB007 + oAB014 + oAB015)\n",
      "Eliminated by equation - Eq(ABC019, ABC016 + ABC020 - ABC023 + ABC024 - ABC027 + ABC028 - ABC031 + ABC032 + ABC033 + ABC036 + ABC037 + ABC040 + ABC041 + ABC044 + ABC045 + 2*ABC048 + ABC049 - ABC051 + 2*ABC052 + ABC053 - ABC055 + 2*ABC056 + ABC057 - ABC059 + 2*ABC060 + ABC061 - ABC063 - ABC072 - ABC073 - ABC074 - ABC075 - ABC076 - ABC077 - ABC078 - ABC079 + ABC080 - ABC083 + ABC084 - ABC087 - ABC089 - ABC090 - 2*ABC091 - ABC093 - ABC094 - 2*ABC095 + ABC096 + ABC097 + ABC100 + ABC101 - ABC106 - ABC107 - ABC110 - ABC111 + 2*ABC112 + ABC113 - ABC115 + 2*ABC116 + ABC117 - ABC119 + ABC120 - ABC122 - 2*ABC123 + ABC124 - ABC126 - 2*ABC127 + ABC144 - ABC147 + ABC148 - ABC151 + ABC152 - ABC155 + ABC156 - ABC159 + ABC160 + ABC161 + ABC164 + ABC165 + ABC168 + ABC169 + ABC172 + ABC173 + 2*ABC176 + ABC177 - ABC179 + 2*ABC180 + ABC181 - ABC183 + 2*ABC184 + ABC185 - ABC187 + 2*ABC188 + ABC189 - ABC191 - ABC200 - ABC201 - ABC202 - ABC203 - ABC204 - ABC205 - ABC206 - ABC207 + ABC208 - ABC211 + ABC212 - ABC215 - ABC217 - ABC218 - 2*ABC219 - ABC221 - ABC222 - 2*ABC223 + ABC224 + ABC225 + ABC228 + ABC229 - ABC234 - ABC235 - ABC238 - ABC239 + 2*ABC240 + ABC241 - ABC243 + 2*ABC244 + ABC245 - ABC247 + ABC248 - ABC250 - 2*ABC251 + ABC252 - ABC254 - 2*ABC255 + oAB006 + oAB007 + oAB014 + oAB015 - oCA004 - oCA006 - oCA012 - oCA014)\n",
      "Eliminated by equation - Eq(ABC020, -ABC021 - ABC022 - ABC023 - ABC028 - ABC029 - ABC030 - ABC031 - ABC040 - ABC041 - ABC042 - ABC043 - ABC044 - ABC045 - ABC046 - ABC047 - ABC052 - ABC053 - ABC054 - ABC055 - ABC056 - ABC057 - ABC058 - ABC059 - 2*ABC060 - 2*ABC061 - 2*ABC062 - 2*ABC063 - ABC084 - ABC085 - ABC086 - ABC087 - ABC092 - ABC093 - ABC094 - ABC095 - ABC104 - ABC105 - ABC106 - ABC107 - ABC108 - ABC109 - ABC110 - ABC111 - ABC116 - ABC117 - ABC118 - ABC119 - ABC120 - ABC121 - ABC122 - ABC123 - 2*ABC124 - 2*ABC125 - 2*ABC126 - 2*ABC127 - ABC148 - ABC149 - ABC150 - ABC151 - ABC156 - ABC157 - ABC158 - ABC159 - ABC168 - ABC169 - ABC170 - ABC171 - ABC172 - ABC173 - ABC174 - ABC175 - ABC180 - ABC181 - ABC182 - ABC183 - ABC184 - ABC185 - ABC186 - ABC187 - 2*ABC188 - 2*ABC189 - 2*ABC190 - 2*ABC191 - ABC212 - ABC213 - ABC214 - ABC215 - ABC220 - ABC221 - ABC222 - ABC223 - ABC232 - ABC233 - ABC234 - ABC235 - ABC236 - ABC237 - ABC238 - ABC239 - ABC244 - ABC245 - ABC246 - ABC247 - ABC248 - ABC249 - ABC250 - ABC251 - 2*ABC252 - 2*ABC253 - 2*ABC254 - 2*ABC255 + oCA006 + oCA007 + oCA014 + oCA015)\n",
      "Zero coeff variable - ABC021\n",
      "Zero coeff variable - ABC023\n",
      "Zero coeff variable - ABC025\n",
      "Zero coeff variable - ABC027\n",
      "Zero coeff variable - ABC029\n",
      "Zero coeff variable - ABC031\n",
      "Eliminated by equation - Eq(ABC033, -ABC032 - ABC034 - ABC035 - ABC036 - ABC037 - ABC038 - ABC039 - ABC040 - ABC041 - ABC042 - ABC043 - ABC044 - ABC045 - ABC046 - ABC047 - ABC048 - ABC049 - ABC050 - ABC051 - ABC052 - ABC053 - ABC054 - ABC055 - ABC056 - ABC057 - ABC058 - ABC059 - ABC060 - ABC061 - ABC062 - ABC063 - ABC096 - ABC097 - ABC098 - ABC099 - ABC100 - ABC101 - ABC102 - ABC103 - ABC104 - ABC105 - ABC106 - ABC107 - ABC108 - ABC109 - ABC110 - ABC111 - ABC112 - ABC113 - ABC114 - ABC115 - ABC116 - ABC117 - ABC118 - ABC119 - ABC120 - ABC121 - ABC122 - ABC123 - ABC124 - ABC125 - ABC126 - ABC127 - ABC128 - ABC129 - ABC130 - ABC131 - ABC132 - ABC133 - ABC134 - ABC135 - ABC136 - ABC137 - ABC138 - ABC139 - ABC140 - ABC141 - ABC142 - ABC143 - ABC144 - ABC145 - ABC146 - ABC147 - ABC148 - ABC149 - ABC150 - ABC151 - ABC152 - ABC153 - ABC154 - ABC155 - ABC156 - ABC157 - ABC158 - ABC159 - 2*ABC160 - 2*ABC161 - 2*ABC162 - 2*ABC163 - 2*ABC164 - 2*ABC165 - 2*ABC166 - 2*ABC167 - 2*ABC168 - 2*ABC169 - 2*ABC170 - 2*ABC171 - 2*ABC172 - 2*ABC173 - 2*ABC174 - 2*ABC175 - 2*ABC176 - 2*ABC177 - 2*ABC178 - 2*ABC179 - 2*ABC180 - 2*ABC181 - 2*ABC182 - 2*ABC183 - 2*ABC184 - 2*ABC185 - 2*ABC186 - 2*ABC187 - 2*ABC188 - 2*ABC189 - 2*ABC190 - 2*ABC191 - ABC192 - ABC193 - ABC194 - ABC195 - ABC196 - ABC197 - ABC198 - ABC199 - ABC200 - ABC201 - ABC202 - ABC203 - ABC204 - ABC205 - ABC206 - ABC207 - ABC208 - ABC209 - ABC210 - ABC211 - ABC212 - ABC213 - ABC214 - ABC215 - ABC216 - ABC217 - ABC218 - ABC219 - ABC220 - ABC221 - ABC222 - ABC223 - 2*ABC224 - 2*ABC225 - 2*ABC226 - 2*ABC227 - 2*ABC228 - 2*ABC229 - 2*ABC230 - 2*ABC231 - 2*ABC232 - 2*ABC233 - 2*ABC234 - 2*ABC235 - 2*ABC236 - 2*ABC237 - 2*ABC238 - 2*ABC239 - 2*ABC240 - 2*ABC241 - 2*ABC242 - 2*ABC243 - 2*ABC244 - 2*ABC245 - 2*ABC246 - 2*ABC247 - 2*ABC248 - 2*ABC249 - 2*ABC250 - 2*ABC251 - 2*ABC252 - 2*ABC253 - 2*ABC254 - 2*ABC255 + oAB008 + oAB009 + oAB010 + oAB011 + oAB012 + oAB013 + oAB014 + oAB015)\n",
      "Eliminated by equation - Eq(ABC034, -ABC035 - ABC038 - ABC039 - ABC042 - ABC043 - ABC046 - ABC047 - ABC050 - ABC051 - ABC054 - ABC055 - ABC058 - ABC059 - ABC062 - ABC063 - ABC098 - ABC099 - ABC102 - ABC103 - ABC106 - ABC107 - ABC110 - ABC111 - ABC114 - ABC115 - ABC118 - ABC119 - ABC122 - ABC123 - ABC126 - ABC127 - ABC136 - ABC137 - ABC138 - ABC139 - ABC140 - ABC141 - ABC142 - ABC143 - ABC152 - ABC153 - ABC154 - ABC155 - ABC156 - ABC157 - ABC158 - ABC159 - ABC162 - ABC163 - ABC166 - ABC167 - ABC168 - ABC169 - 2*ABC170 - 2*ABC171 - ABC172 - ABC173 - 2*ABC174 - 2*ABC175 - ABC178 - ABC179 - ABC182 - ABC183 - ABC184 - ABC185 - 2*ABC186 - 2*ABC187 - ABC188 - ABC189 - 2*ABC190 - 2*ABC191 - ABC200 - ABC201 - ABC202 - ABC203 - ABC204 - ABC205 - ABC206 - ABC207 - ABC216 - ABC217 - ABC218 - ABC219 - ABC220 - ABC221 - ABC222 - ABC223 - ABC226 - ABC227 - ABC230 - ABC231 - ABC232 - ABC233 - 2*ABC234 - 2*ABC235 - ABC236 - ABC237 - 2*ABC238 - 2*ABC239 - ABC242 - ABC243 - ABC246 - ABC247 - ABC248 - ABC249 - 2*ABC250 - 2*ABC251 - ABC252 - ABC253 - 2*ABC254 - 2*ABC255 + oAB012 + oAB013 + oAB014 + oAB015)\n",
      "Eliminated by equation - Eq(ABC035, ABC032 + ABC036 - ABC039 + ABC040 - ABC043 + ABC044 - ABC047 + ABC048 - ABC051 + ABC052 - ABC055 + ABC056 - ABC059 + ABC060 - ABC063 + ABC096 - ABC099 + ABC100 - ABC103 + ABC104 - ABC107 + ABC108 - ABC111 + ABC112 - ABC115 + ABC116 - ABC119 + ABC120 - ABC123 + ABC124 - ABC127 + ABC128 + ABC129 + ABC130 + ABC131 - ABC140 - ABC141 - ABC142 - ABC143 + ABC144 + ABC145 + ABC146 + ABC147 - ABC156 - ABC157 - ABC158 - ABC159 + 2*ABC160 + ABC161 + ABC162 + ABC164 - ABC167 + ABC168 - ABC171 - ABC173 - ABC174 - 2*ABC175 + 2*ABC176 + ABC177 + ABC178 + ABC180 - ABC183 + ABC184 - ABC187 - ABC189 - ABC190 - 2*ABC191 + ABC192 + ABC193 + ABC194 + ABC195 - ABC204 - ABC205 - ABC206 - ABC207 + ABC208 + ABC209 + ABC210 + ABC211 - ABC220 - ABC221 - ABC222 - ABC223 + 2*ABC224 + ABC225 + ABC226 + ABC228 - ABC231 + ABC232 - ABC235 - ABC237 - ABC238 - 2*ABC239 + 2*ABC240 + ABC241 + ABC242 + ABC244 - ABC247 + ABC248 - ABC251 - ABC253 - ABC254 - 2*ABC255 - oAB008 - oAB010 + oAB013 + oAB015)\n",
      "Zero coeff variable - ABC036\n",
      "Zero coeff variable - ABC038\n",
      "Zero coeff variable - ABC040\n",
      "Zero coeff variable - ABC042\n",
      "Zero coeff variable - ABC044\n",
      "Zero coeff variable - ABC046\n",
      "Eliminated by equation - Eq(ABC048, -ABC049 - ABC050 - ABC051 - ABC052 - ABC053 - ABC054 - ABC055 - ABC056 - ABC057 - ABC058 - ABC059 - ABC060 - ABC061 - ABC062 - ABC063 - ABC112 - ABC113 - ABC114 - ABC115 - ABC116 - ABC117 - ABC118 - ABC119 - ABC120 - ABC121 - ABC122 - ABC123 - ABC124 - ABC125 - ABC126 - ABC127 - ABC176 - ABC177 - ABC178 - ABC179 - ABC180 - ABC181 - ABC182 - ABC183 - ABC184 - ABC185 - ABC186 - ABC187 - ABC188 - ABC189 - ABC190 - ABC191 - ABC192 - ABC193 - ABC194 - ABC195 - ABC196 - ABC197 - ABC198 - ABC199 - ABC200 - ABC201 - ABC202 - ABC203 - ABC204 - ABC205 - ABC206 - ABC207 - ABC208 - ABC209 - ABC210 - ABC211 - ABC212 - ABC213 - ABC214 - ABC215 - ABC216 - ABC217 - ABC218 - ABC219 - ABC220 - ABC221 - ABC222 - ABC223 - ABC224 - ABC225 - ABC226 - ABC227 - ABC228 - ABC229 - ABC230 - ABC231 - ABC232 - ABC233 - ABC234 - ABC235 - ABC236 - ABC237 - ABC238 - ABC239 - 2*ABC240 - 2*ABC241 - 2*ABC242 - 2*ABC243 - 2*ABC244 - 2*ABC245 - 2*ABC246 - 2*ABC247 - 2*ABC248 - 2*ABC249 - 2*ABC250 - 2*ABC251 - 2*ABC252 - 2*ABC253 - 2*ABC254 - 2*ABC255 + oAB010 + oAB011 + oAB014 + oAB015)\n",
      "Zero coeff variable - ABC049\n",
      "Zero coeff variable - ABC051\n",
      "Zero coeff variable - ABC053\n",
      "Zero coeff variable - ABC055\n",
      "Zero coeff variable - ABC057\n",
      "Zero coeff variable - ABC059\n",
      "Zero coeff variable - ABC061\n",
      "Zero coeff variable - ABC063\n",
      "Eliminated by equation - Eq(ABC065, -ABC064 - ABC066 - ABC067 - ABC068 - ABC069 - ABC070 - ABC071 - ABC072 - ABC073 - ABC074 - ABC075 - ABC076 - ABC077 - ABC078 - ABC079 - ABC080 - ABC081 - ABC082 - ABC083 - ABC084 - ABC085 - ABC086 - ABC087 - ABC088 - ABC089 - ABC090 - ABC091 - ABC092 - ABC093 - ABC094 - ABC095 - ABC096 - ABC097 - ABC098 - ABC099 - ABC100 - ABC101 - ABC102 - ABC103 - ABC104 - ABC105 - ABC106 - ABC107 - ABC108 - ABC109 - ABC110 - ABC111 - ABC112 - ABC113 - ABC114 - ABC115 - ABC116 - ABC117 - ABC118 - ABC119 - ABC120 - ABC121 - ABC122 - ABC123 - ABC124 - ABC125 - ABC126 - ABC127 - ABC128 - ABC129 - ABC130 - ABC131 - ABC132 - ABC133 - ABC134 - ABC135 - ABC136 - ABC137 - ABC138 - ABC139 - ABC140 - ABC141 - ABC142 - ABC143 - ABC144 - ABC145 - ABC146 - ABC147 - ABC148 - ABC149 - ABC150 - ABC151 - ABC152 - ABC153 - ABC154 - ABC155 - ABC156 - ABC157 - ABC158 - ABC159 - ABC160 - ABC161 - ABC162 - ABC163 - ABC164 - ABC165 - ABC166 - ABC167 - ABC168 - ABC169 - ABC170 - ABC171 - ABC172 - ABC173 - ABC174 - ABC175 - ABC176 - ABC177 - ABC178 - ABC179 - ABC180 - ABC181 - ABC182 - ABC183 - ABC184 - ABC185 - ABC186 - ABC187 - ABC188 - ABC189 - ABC190 - ABC191 - 2*ABC192 - 2*ABC193 - 2*ABC194 - 2*ABC195 - 2*ABC196 - 2*ABC197 - 2*ABC198 - 2*ABC199 - 2*ABC200 - 2*ABC201 - 2*ABC202 - 2*ABC203 - 2*ABC204 - 2*ABC205 - 2*ABC206 - 2*ABC207 - 2*ABC208 - 2*ABC209 - 2*ABC210 - 2*ABC211 - 2*ABC212 - 2*ABC213 - 2*ABC214 - 2*ABC215 - 2*ABC216 - 2*ABC217 - 2*ABC218 - 2*ABC219 - 2*ABC220 - 2*ABC221 - 2*ABC222 - 2*ABC223 - 2*ABC224 - 2*ABC225 - 2*ABC226 - 2*ABC227 - 2*ABC228 - 2*ABC229 - 2*ABC230 - 2*ABC231 - 2*ABC232 - 2*ABC233 - 2*ABC234 - 2*ABC235 - 2*ABC236 - 2*ABC237 - 2*ABC238 - 2*ABC239 - 2*ABC240 - 2*ABC241 - 2*ABC242 - 2*ABC243 - 2*ABC244 - 2*ABC245 - 2*ABC246 - 2*ABC247 - 2*ABC248 - 2*ABC249 - 2*ABC250 - 2*ABC251 - 2*ABC252 - 2*ABC253 - 2*ABC254 - 2*ABC255 + oCA008 + oCA009 + oCA010 + oCA011 + oCA012 + oCA013 + oCA014 + oCA015)\n",
      "Eliminated by equation - Eq(ABC066, -ABC064 - ABC068 - ABC070 - ABC072 - ABC074 - ABC076 - ABC078 - ABC080 - ABC082 - ABC084 - ABC086 - ABC088 - ABC090 - ABC092 - ABC094 - ABC096 - ABC098 - ABC100 - ABC102 - ABC104 - ABC106 - ABC108 - ABC110 - ABC112 - ABC114 - ABC116 - ABC118 - ABC120 - ABC122 - ABC124 - ABC126 - ABC128 - ABC129 - ABC132 - ABC133 - ABC136 - ABC137 - ABC140 - ABC141 - ABC144 - ABC145 - ABC148 - ABC149 - ABC152 - ABC153 - ABC156 - ABC157 - ABC160 - ABC161 - ABC164 - ABC165 - ABC168 - ABC169 - ABC172 - ABC173 - ABC176 - ABC177 - ABC180 - ABC181 - ABC184 - ABC185 - ABC188 - ABC189 - 2*ABC192 - ABC193 - ABC194 - 2*ABC196 - ABC197 - ABC198 - 2*ABC200 - ABC201 - ABC202 - 2*ABC204 - ABC205 - ABC206 - 2*ABC208 - ABC209 - ABC210 - 2*ABC212 - ABC213 - ABC214 - 2*ABC216 - ABC217 - ABC218 - 2*ABC220 - ABC221 - ABC222 - 2*ABC224 - ABC225 - ABC226 - 2*ABC228 - ABC229 - ABC230 - 2*ABC232 - ABC233 - ABC234 - 2*ABC236 - ABC237 - ABC238 - 2*ABC240 - ABC241 - ABC242 - 2*ABC244 - ABC245 - ABC246 - 2*ABC248 - ABC249 - ABC250 - 2*ABC252 - ABC253 - ABC254 + oCA008 + oCA010 + oCA012 + oCA014)\n",
      "Zero coeff variable - ABC067\n",
      "Eliminated by equation - Eq(ABC069, -ABC068 - ABC070 - ABC071 - ABC076 - ABC077 - ABC078 - ABC079 - ABC084 - ABC085 - ABC086 - ABC087 - ABC092 - ABC093 - ABC094 - ABC095 - ABC100 - ABC101 - ABC102 - ABC103 - ABC108 - ABC109 - ABC110 - ABC111 - ABC116 - ABC117 - ABC118 - ABC119 - ABC124 - ABC125 - ABC126 - ABC127 - ABC136 - ABC137 - ABC138 - ABC139 - ABC140 - ABC141 - ABC142 - ABC143 - ABC152 - ABC153 - ABC154 - ABC155 - ABC156 - ABC157 - ABC158 - ABC159 - ABC168 - ABC169 - ABC170 - ABC171 - ABC172 - ABC173 - ABC174 - ABC175 - ABC184 - ABC185 - ABC186 - ABC187 - ABC188 - ABC189 - ABC190 - ABC191 - ABC196 - ABC197 - ABC198 - ABC199 - ABC200 - ABC201 - ABC202 - ABC203 - 2*ABC204 - 2*ABC205 - 2*ABC206 - 2*ABC207 - ABC212 - ABC213 - ABC214 - ABC215 - ABC216 - ABC217 - ABC218 - ABC219 - 2*ABC220 - 2*ABC221 - 2*ABC222 - 2*ABC223 - ABC228 - ABC229 - ABC230 - ABC231 - ABC232 - ABC233 - ABC234 - ABC235 - 2*ABC236 - 2*ABC237 - 2*ABC238 - 2*ABC239 - ABC244 - ABC245 - ABC246 - ABC247 - ABC248 - ABC249 - ABC250 - ABC251 - 2*ABC252 - 2*ABC253 - 2*ABC254 - 2*ABC255 + oCA010 + oCA011 + oCA014 + oCA015)\n",
      "Zero coeff variable - ABC070\n",
      "Zero coeff variable - ABC072\n",
      "Zero coeff variable - ABC074\n",
      "Zero coeff variable - ABC076\n",
      "Zero coeff variable - ABC078\n",
      "Eliminated by equation - Eq(ABC080, -ABC081 - ABC082 - ABC083 - ABC084 - ABC085 - ABC086 - ABC087 - ABC088 - ABC089 - ABC090 - ABC091 - ABC092 - ABC093 - ABC094 - ABC095 - ABC112 - ABC113 - ABC114 - ABC115 - ABC116 - ABC117 - ABC118 - ABC119 - ABC120 - ABC121 - ABC122 - ABC123 - ABC124 - ABC125 - ABC126 - ABC127 - ABC160 - ABC161 - ABC162 - ABC163 - ABC164 - ABC165 - ABC166 - ABC167 - ABC168 - ABC169 - ABC170 - ABC171 - ABC172 - ABC173 - ABC174 - ABC175 - ABC176 - ABC177 - ABC178 - ABC179 - ABC180 - ABC181 - ABC182 - ABC183 - ABC184 - ABC185 - ABC186 - ABC187 - ABC188 - ABC189 - ABC190 - ABC191 - ABC208 - ABC209 - ABC210 - ABC211 - ABC212 - ABC213 - ABC214 - ABC215 - ABC216 - ABC217 - ABC218 - ABC219 - ABC220 - ABC221 - ABC222 - ABC223 - ABC224 - ABC225 - ABC226 - ABC227 - ABC228 - ABC229 - ABC230 - ABC231 - ABC232 - ABC233 - ABC234 - ABC235 - ABC236 - ABC237 - ABC238 - ABC239 - 2*ABC240 - 2*ABC241 - 2*ABC242 - 2*ABC243 - 2*ABC244 - 2*ABC245 - 2*ABC246 - 2*ABC247 - 2*ABC248 - 2*ABC249 - 2*ABC250 - 2*ABC251 - 2*ABC252 - 2*ABC253 - 2*ABC254 - 2*ABC255 + oCA012 + oCA013 + oCA014 + oCA015)\n",
      "Zero coeff variable - ABC081\n",
      "Zero coeff variable - ABC083\n",
      "Zero coeff variable - ABC085\n",
      "Zero coeff variable - ABC087\n",
      "Zero coeff variable - ABC089\n",
      "Zero coeff variable - ABC091\n",
      "Zero coeff variable - ABC093\n",
      "Zero coeff variable - ABC095\n",
      "Zero coeff variable - ABC097\n",
      "Zero coeff variable - ABC099\n",
      "Zero coeff variable - ABC101\n",
      "Zero coeff variable - ABC103\n",
      "Zero coeff variable - ABC105\n",
      "Zero coeff variable - ABC107\n",
      "Zero coeff variable - ABC109\n",
      "Zero coeff variable - ABC111\n",
      "Zero coeff variable - ABC113\n",
      "Zero coeff variable - ABC115\n",
      "Zero coeff variable - ABC117\n",
      "Zero coeff variable - ABC119\n",
      "Zero coeff variable - ABC121\n",
      "Zero coeff variable - ABC123\n",
      "Zero coeff variable - ABC125\n",
      "Zero coeff variable - ABC127\n",
      "Eliminated by equation - Eq(ABC129, -ABC128 - ABC130 - ABC131 - ABC132 - ABC133 - ABC134 - ABC135 - ABC136 - ABC137 - ABC138 - ABC139 - ABC140 - ABC141 - ABC142 - ABC143 - ABC144 - ABC145 - ABC146 - ABC147 - ABC148 - ABC149 - ABC150 - ABC151 - ABC152 - ABC153 - ABC154 - ABC155 - ABC156 - ABC157 - ABC158 - ABC159 - ABC160 - ABC161 - ABC162 - ABC163 - ABC164 - ABC165 - ABC166 - ABC167 - ABC168 - ABC169 - ABC170 - ABC171 - ABC172 - ABC173 - ABC174 - ABC175 - ABC176 - ABC177 - ABC178 - ABC179 - ABC180 - ABC181 - ABC182 - ABC183 - ABC184 - ABC185 - ABC186 - ABC187 - ABC188 - ABC189 - ABC190 - ABC191 - ABC192 - ABC193 - ABC194 - ABC195 - ABC196 - ABC197 - ABC198 - ABC199 - ABC200 - ABC201 - ABC202 - ABC203 - ABC204 - ABC205 - ABC206 - ABC207 - ABC208 - ABC209 - ABC210 - ABC211 - ABC212 - ABC213 - ABC214 - ABC215 - ABC216 - ABC217 - ABC218 - ABC219 - ABC220 - ABC221 - ABC222 - ABC223 - ABC224 - ABC225 - ABC226 - ABC227 - ABC228 - ABC229 - ABC230 - ABC231 - ABC232 - ABC233 - ABC234 - ABC235 - ABC236 - ABC237 - ABC238 - ABC239 - ABC240 - ABC241 - ABC242 - ABC243 - ABC244 - ABC245 - ABC246 - ABC247 - ABC248 - ABC249 - ABC250 - ABC251 - ABC252 - ABC253 - ABC254 - ABC255 + oAB008 + oAB009 + oAB010 + oAB011 + oAB012 + oAB013 + oAB014 + oAB015 + oCA008 + oCA009 + oCA010 + oCA011 + oCA012 + oCA013 + oCA014 + oCA015 - oEA008 - oEA009 - oEA010 - oEA011 - oEA012 - oEA013 - oEA014 - oEA015)\n",
      "Zero coeff variable - ABC130\n",
      "Zero coeff variable - ABC132\n",
      "Zero coeff variable - ABC134\n",
      "Eliminated by equation - Eq(ABC136, -ABC137 - ABC138 - ABC139 - ABC140 - ABC141 - ABC142 - ABC143 - ABC152 - ABC153 - ABC154 - ABC155 - ABC156 - ABC157 - ABC158 - ABC159 - ABC168 - ABC169 - ABC170 - ABC171 - ABC172 - ABC173 - ABC174 - ABC175 - ABC184 - ABC185 - ABC186 - ABC187 - ABC188 - ABC189 - ABC190 - ABC191 - ABC200 - ABC201 - ABC202 - ABC203 - ABC204 - ABC205 - ABC206 - ABC207 - ABC216 - ABC217 - ABC218 - ABC219 - ABC220 - ABC221 - ABC222 - ABC223 - ABC232 - ABC233 - ABC234 - ABC235 - ABC236 - ABC237 - ABC238 - ABC239 - ABC248 - ABC249 - ABC250 - ABC251 - ABC252 - ABC253 - ABC254 - ABC255 + oAB012 + oAB013 + oAB014 + oAB015 + oCA010 + oCA011 + oCA014 + oCA015 - oEA012 - oEA013 - oEA014 - oEA015)\n",
      "Zero coeff variable - ABC137\n",
      "Zero coeff variable - ABC139\n",
      "Zero coeff variable - ABC141\n",
      "Zero coeff variable - ABC143\n",
      "Zero coeff variable - ABC145\n",
      "Zero coeff variable - ABC147\n",
      "Zero coeff variable - ABC149\n",
      "Zero coeff variable - ABC151\n",
      "Zero coeff variable - ABC153\n",
      "Zero coeff variable - ABC155\n",
      "Zero coeff variable - ABC157\n",
      "Zero coeff variable - ABC159\n",
      "Zero coeff variable - ABC161\n",
      "Zero coeff variable - ABC163\n",
      "Zero coeff variable - ABC165\n",
      "Zero coeff variable - ABC167\n",
      "Zero coeff variable - ABC169\n",
      "Zero coeff variable - ABC171\n",
      "Zero coeff variable - ABC173\n",
      "Zero coeff variable - ABC175\n",
      "Zero coeff variable - ABC177\n",
      "Zero coeff variable - ABC179\n",
      "Zero coeff variable - ABC181\n",
      "Zero coeff variable - ABC183\n",
      "Zero coeff variable - ABC185\n",
      "Zero coeff variable - ABC187\n",
      "Zero coeff variable - ABC189\n",
      "Zero coeff variable - ABC191\n",
      "Zero coeff variable - ABC193\n",
      "Zero coeff variable - ABC195\n",
      "Zero coeff variable - ABC197\n",
      "Zero coeff variable - ABC199\n",
      "Zero coeff variable - ABC201\n",
      "Zero coeff variable - ABC203\n",
      "Zero coeff variable - ABC205\n",
      "Zero coeff variable - ABC207\n",
      "Zero coeff variable - ABC209\n",
      "Zero coeff variable - ABC211\n",
      "Zero coeff variable - ABC213\n",
      "Zero coeff variable - ABC215\n",
      "Zero coeff variable - ABC217\n",
      "Zero coeff variable - ABC219\n",
      "Zero coeff variable - ABC221\n",
      "Zero coeff variable - ABC223\n",
      "Zero coeff variable - ABC225\n",
      "Zero coeff variable - ABC227\n",
      "Zero coeff variable - ABC229\n",
      "Zero coeff variable - ABC231\n",
      "Zero coeff variable - ABC233\n",
      "Zero coeff variable - ABC235\n",
      "Zero coeff variable - ABC237\n",
      "Zero coeff variable - ABC239\n",
      "Zero coeff variable - ABC241\n",
      "Zero coeff variable - ABC243\n",
      "Zero coeff variable - ABC245\n",
      "Zero coeff variable - ABC247\n",
      "Zero coeff variable - ABC249\n",
      "Zero coeff variable - ABC251\n",
      "Zero coeff variable - ABC253\n",
      "Zero coeff variable - ABC255\n",
      "All variables eliminated\n",
      "Final solution -\n",
      "-oAB004 - oAB005 - oAB006 - oAB007 - oAB008 - oAB009 - oAB010 - oAB011 - 2*oAB012 - 2*oAB013 - 2*oAB014 - 2*oAB015 + oBC002 + oBC003 + oBC006 + oBC007 + oBC008 + oBC009 + 2*oBC010 + 2*oBC011 + oBC012 + oBC013 + 2*oBC014 + 2*oBC015\n",
      "oAB002 + oAB003 + oAB006 + oAB007 + oAB008 + oAB009 + 2*oAB010 + 2*oAB011 + oAB012 + oAB013 + 2*oAB014 + 2*oAB015 - oCA004 - oCA005 - oCA006 - oCA007 - oCA008 - oCA009 - oCA010 - oCA011 - 2*oCA012 - 2*oCA013 - 2*oCA014 - 2*oCA015\n",
      "-oBC004 - oBC005 - oBC006 - oBC007 - oBC008 - oBC009 - oBC010 - oBC011 - 2*oBC012 - 2*oBC013 - 2*oBC014 - 2*oBC015 + oCA002 + oCA003 + oCA006 + oCA007 + oCA008 + oCA009 + 2*oCA010 + 2*oCA011 + oCA012 + oCA013 + 2*oCA014 + 2*oCA015\n",
      "-oAB005 - oAB007 - oAB010 - oAB011 - oAB013 - oAB014 - 2*oAB015 + oBC003 + oBC007 + oBC011 + oBC012 + oBC013 + oBC014 + 2*oBC015\n",
      "oAB003 + oAB007 + oAB011 + oAB012 + oAB013 + oAB014 + 2*oAB015 - oCA005 - oCA007 - oCA010 - oCA011 - oCA013 - oCA014 - 2*oCA015\n",
      "-oBC005 - oBC007 - oBC010 - oBC011 - oBC013 - oBC014 - 2*oBC015 + oCA003 + oCA007 + oCA011 + oCA012 + oCA013 + oCA014 + 2*oCA015\n",
      "oAB001 + oAB003 + oAB005 + oAB007 - oAB008 - oAB010 - oAB012 - oAB014 - oBC001 - oBC003 - oBC004 - 2*oBC005 - oBC006 - 2*oBC007 - oBC009 - oBC011 - oBC012 - 2*oBC013 - oBC014 - 2*oBC015 + oCA004 + oCA005 + oCA006 + oCA007 + oCA008 + oCA009 + oCA010 + oCA011 + 2*oCA012 + 2*oCA013 + 2*oCA014 + 2*oCA015\n",
      "-oAB004 - oAB005 - oAB006 - oAB007 - oAB008 - oAB009 - oAB010 - oAB011 - 2*oAB012 - 2*oAB013 - 2*oAB014 - 2*oAB015 - oBC001 - oBC003 - oBC005 - oBC007 + oBC008 + oBC010 + oBC012 + oBC014 + oCA001 + oCA003 + oCA004 + 2*oCA005 + oCA006 + 2*oCA007 + oCA009 + oCA011 + oCA012 + 2*oCA013 + oCA014 + 2*oCA015\n",
      "oEA010 + oEA011 + oEA014 + oEA015\n",
      "oEA009 + oEA011 + oEA013 + oEA015\n",
      "-oAB004 - oAB005 - oAB006 - oAB007 - oAB008 - oAB009 - oAB010 - oAB011 - 2*oAB012 - 2*oAB013 - 2*oAB014 - 2*oAB015 - oBC004 - oBC005 - oBC006 - oBC007 - oBC012 - oBC013 - oBC014 - oBC015 + oEA004 + oEA005 + oEA006 + oEA007 + oEA008 + oEA009 + oEA010 + oEA011 + 2*oEA012 + 2*oEA013 + 2*oEA014 + 2*oEA015\n",
      "oEA006 + oEA007 + oEA014 + oEA015\n",
      "oEA005 + oEA007 + oEA013 + oEA015\n",
      "-oCA004 - oCA005 - oCA006 - oCA007 - oCA008 - oCA009 - oCA010 - oCA011 - 2*oCA012 - 2*oCA013 - 2*oCA014 - 2*oCA015 + oEA002 + oEA003 + oEA006 + oEA007 + oEA008 + oEA009 + 2*oEA010 + 2*oEA011 + oEA012 + oEA013 + 2*oEA014 + 2*oEA015\n",
      "-oCA005 - oCA007 - oCA010 - oCA011 - oCA013 - oCA014 - 2*oCA015 + oEA003 + oEA007 + oEA011 + oEA012 + oEA013 + oEA014 + 2*oEA015\n",
      "-oBC001 - oBC003 - oBC005 - oBC007 - oBC009 - oBC011 - oBC013 - oBC015 + oCA004 + oCA005 + oCA006 + oCA007 + oCA008 + oCA009 + oCA010 + oCA011 + 2*oCA012 + 2*oCA013 + 2*oCA014 + 2*oCA015 + oEA001 + oEA003 + oEA005 + oEA007 - oEA008 - oEA010 - oEA012 - oEA014\n"
     ]
    }
   ],
   "source": [
    "eliminate(eq_arr, ABC_coeffs)"
   ]
  },
  {
   "cell_type": "code",
   "execution_count": 221,
   "metadata": {},
   "outputs": [
    {
     "data": {
      "text/plain": [
       "[-oAB004 - oAB005 - oAB006 - oAB007 - oAB008 - oAB009 - oAB010 - oAB011 - 2*oAB012 - 2*oAB013 - 2*oAB014 - 2*oAB015 + oBC002 + oBC003 + oBC006 + oBC007 + oBC008 + oBC009 + 2*oBC010 + 2*oBC011 + oBC012 + oBC013 + 2*oBC014 + 2*oBC015,\n",
       " oAB002 + oAB003 + oAB006 + oAB007 + oAB008 + oAB009 + 2*oAB010 + 2*oAB011 + oAB012 + oAB013 + 2*oAB014 + 2*oAB015 - oCA004 - oCA005 - oCA006 - oCA007 - oCA008 - oCA009 - oCA010 - oCA011 - 2*oCA012 - 2*oCA013 - 2*oCA014 - 2*oCA015,\n",
       " -oBC004 - oBC005 - oBC006 - oBC007 - oBC008 - oBC009 - oBC010 - oBC011 - 2*oBC012 - 2*oBC013 - 2*oBC014 - 2*oBC015 + oCA002 + oCA003 + oCA006 + oCA007 + oCA008 + oCA009 + 2*oCA010 + 2*oCA011 + oCA012 + oCA013 + 2*oCA014 + 2*oCA015,\n",
       " -oAB005 - oAB007 - oAB010 - oAB011 - oAB013 - oAB014 - 2*oAB015 + oBC003 + oBC007 + oBC011 + oBC012 + oBC013 + oBC014 + 2*oBC015,\n",
       " oAB003 + oAB007 + oAB011 + oAB012 + oAB013 + oAB014 + 2*oAB015 - oCA005 - oCA007 - oCA010 - oCA011 - oCA013 - oCA014 - 2*oCA015,\n",
       " -oBC005 - oBC007 - oBC010 - oBC011 - oBC013 - oBC014 - 2*oBC015 + oCA003 + oCA007 + oCA011 + oCA012 + oCA013 + oCA014 + 2*oCA015,\n",
       " oAB001 + oAB003 + oAB005 + oAB007 - oAB008 - oAB010 - oAB012 - oAB014 - oBC001 - oBC003 - oBC004 - 2*oBC005 - oBC006 - 2*oBC007 - oBC009 - oBC011 - oBC012 - 2*oBC013 - oBC014 - 2*oBC015 + oCA004 + oCA005 + oCA006 + oCA007 + oCA008 + oCA009 + oCA010 + oCA011 + 2*oCA012 + 2*oCA013 + 2*oCA014 + 2*oCA015,\n",
       " -oAB004 - oAB005 - oAB006 - oAB007 - oAB008 - oAB009 - oAB010 - oAB011 - 2*oAB012 - 2*oAB013 - 2*oAB014 - 2*oAB015 - oBC001 - oBC003 - oBC005 - oBC007 + oBC008 + oBC010 + oBC012 + oBC014 + oCA001 + oCA003 + oCA004 + 2*oCA005 + oCA006 + 2*oCA007 + oCA009 + oCA011 + oCA012 + 2*oCA013 + oCA014 + 2*oCA015,\n",
       " oEA010 + oEA011 + oEA014 + oEA015,\n",
       " oEA009 + oEA011 + oEA013 + oEA015,\n",
       " -oAB004 - oAB005 - oAB006 - oAB007 - oAB008 - oAB009 - oAB010 - oAB011 - 2*oAB012 - 2*oAB013 - 2*oAB014 - 2*oAB015 - oBC004 - oBC005 - oBC006 - oBC007 - oBC012 - oBC013 - oBC014 - oBC015 + oEA004 + oEA005 + oEA006 + oEA007 + oEA008 + oEA009 + oEA010 + oEA011 + 2*oEA012 + 2*oEA013 + 2*oEA014 + 2*oEA015,\n",
       " oEA006 + oEA007 + oEA014 + oEA015,\n",
       " oEA005 + oEA007 + oEA013 + oEA015,\n",
       " -oCA004 - oCA005 - oCA006 - oCA007 - oCA008 - oCA009 - oCA010 - oCA011 - 2*oCA012 - 2*oCA013 - 2*oCA014 - 2*oCA015 + oEA002 + oEA003 + oEA006 + oEA007 + oEA008 + oEA009 + 2*oEA010 + 2*oEA011 + oEA012 + oEA013 + 2*oEA014 + 2*oEA015,\n",
       " -oCA005 - oCA007 - oCA010 - oCA011 - oCA013 - oCA014 - 2*oCA015 + oEA003 + oEA007 + oEA011 + oEA012 + oEA013 + oEA014 + 2*oEA015,\n",
       " -oBC001 - oBC003 - oBC005 - oBC007 - oBC009 - oBC011 - oBC013 - oBC015 + oCA004 + oCA005 + oCA006 + oCA007 + oCA008 + oCA009 + oCA010 + oCA011 + 2*oCA012 + 2*oCA013 + 2*oCA014 + 2*oCA015 + oEA001 + oEA003 + oEA005 + oEA007 - oEA008 - oEA010 - oEA012 - oEA014]"
      ]
     },
     "execution_count": 221,
     "metadata": {},
     "output_type": "execute_result"
    }
   ],
   "source": [
    "output_eqs"
   ]
  },
  {
   "cell_type": "code",
   "execution_count": 222,
   "metadata": {},
   "outputs": [
    {
     "name": "stdout",
     "output_type": "stream",
     "text": [
      "8\n"
     ]
    },
    {
     "data": {
      "text/plain": [
       "[oEA010 + oEA011 + oEA014 + oEA015,\n",
       " oEA009 + oEA011 + oEA013 + oEA015,\n",
       " -oAB004 - oAB005 - oAB006 - oAB007 - oAB008 - oAB009 - oAB010 - oAB011 - 2*oAB012 - 2*oAB013 - 2*oAB014 - 2*oAB015 - oBC004 - oBC005 - oBC006 - oBC007 - oBC012 - oBC013 - oBC014 - oBC015 + oEA004 + oEA005 + oEA006 + oEA007 + oEA008 + oEA009 + oEA010 + oEA011 + 2*oEA012 + 2*oEA013 + 2*oEA014 + 2*oEA015,\n",
       " oEA006 + oEA007 + oEA014 + oEA015,\n",
       " oEA005 + oEA007 + oEA013 + oEA015,\n",
       " -oCA004 - oCA005 - oCA006 - oCA007 - oCA008 - oCA009 - oCA010 - oCA011 - 2*oCA012 - 2*oCA013 - 2*oCA014 - 2*oCA015 + oEA002 + oEA003 + oEA006 + oEA007 + oEA008 + oEA009 + 2*oEA010 + 2*oEA011 + oEA012 + oEA013 + 2*oEA014 + 2*oEA015,\n",
       " -oCA005 - oCA007 - oCA010 - oCA011 - oCA013 - oCA014 - 2*oCA015 + oEA003 + oEA007 + oEA011 + oEA012 + oEA013 + oEA014 + 2*oEA015,\n",
       " -oBC001 - oBC003 - oBC005 - oBC007 - oBC009 - oBC011 - oBC013 - oBC015 + oCA004 + oCA005 + oCA006 + oCA007 + oCA008 + oCA009 + oCA010 + oCA011 + 2*oCA012 + 2*oCA013 + 2*oCA014 + 2*oCA015 + oEA001 + oEA003 + oEA005 + oEA007 - oEA008 - oEA010 - oEA012 - oEA014]"
      ]
     },
     "execution_count": 222,
     "metadata": {},
     "output_type": "execute_result"
    }
   ],
   "source": [
    "op_eq = []\n",
    "for eq in output_eqs :\n",
    "    substituted_eq = eq\n",
    "    for var in EA_coeffs :\n",
    "        substituted_eq = substituted_eq.subs(var, 0)\n",
    "    if not eq == substituted_eq :\n",
    "        op_eq.append(eq)\n",
    "\n",
    "print(len(op_eq))\n",
    "op_eq"
   ]
  },
  {
   "cell_type": "code",
   "execution_count": 223,
   "metadata": {},
   "outputs": [
    {
     "name": "stdout",
     "output_type": "stream",
     "text": [
      "4\n"
     ]
    },
    {
     "data": {
      "text/plain": [
       "[-oAB004 - oAB005 - oAB006 - oAB007 - oAB008 - oAB009 - oAB010 - oAB011 - 2*oAB012 - 2*oAB013 - 2*oAB014 - 2*oAB015 - oBC004 - oBC005 - oBC006 - oBC007 - oBC012 - oBC013 - oBC014 - oBC015 + oEA004 + oEA008 + 2*oEA012,\n",
       " -oCA004 - oCA005 - oCA006 - oCA007 - oCA008 - oCA009 - oCA010 - oCA011 - 2*oCA012 - 2*oCA013 - 2*oCA014 - 2*oCA015 + oEA002 + oEA003 + oEA008 + oEA012,\n",
       " -oCA005 - oCA007 - oCA010 - oCA011 - oCA013 - oCA014 - 2*oCA015 + oEA003 + oEA012,\n",
       " -oBC001 - oBC003 - oBC005 - oBC007 - oBC009 - oBC011 - oBC013 - oBC015 + oCA004 + oCA005 + oCA006 + oCA007 + oCA008 + oCA009 + oCA010 + oCA011 + 2*oCA012 + 2*oCA013 + 2*oCA014 + 2*oCA015 + oEA001 + oEA003 - oEA008 - oEA012]"
      ]
     },
     "execution_count": 223,
     "metadata": {},
     "output_type": "execute_result"
    }
   ],
   "source": [
    "final_eq_set = []\n",
    "varnum = [10, 11, 14, 15, 9, 13, 6, 7, 5]  # 1, 2, 3, 4, 8, 12 nonzero\n",
    "for eq in op_eq :\n",
    "    substituted_eq = eq\n",
    "    for idx in varnum :\n",
    "        var = EA_coeffs[idx-1]\n",
    "        substituted_eq = substituted_eq.subs(var, 0)\n",
    "    if not substituted_eq == 0 :\n",
    "        final_eq_set.append(substituted_eq)\n",
    "\n",
    "print(len(final_eq_set))\n",
    "final_eq_set"
   ]
  },
  {
   "cell_type": "code",
   "execution_count": 229,
   "metadata": {},
   "outputs": [
    {
     "name": "stdout",
     "output_type": "stream",
     "text": [
      "oBC001 + oBC003 + oBC005 + oBC007 + oBC009 + oBC011 + oBC013 + oBC015 - oCA004 - 2*oCA005 - oCA006 - 2*oCA007 - oCA008 - oCA009 - 2*oCA010 - 2*oCA011 - 2*oCA012 - 3*oCA013 - 3*oCA014 - 4*oCA015 + oEA008 + 2*oEA012\n",
      "oCA004 + oCA006 + oCA008 + oCA009 + 2*oCA012 + oCA013 + oCA014 - oEA008\n",
      "oCA005 + oCA007 + oCA010 + oCA011 + oCA013 + oCA014 + 2*oCA015 - oEA012\n",
      "oAB004 + oAB005 + oAB006 + oAB007 + oAB008 + oAB009 + oAB010 + oAB011 + 2*oAB012 + 2*oAB013 + 2*oAB014 + 2*oAB015 + oBC004 + oBC005 + oBC006 + oBC007 + oBC012 + oBC013 + oBC014 + oBC015 - oEA008 - 2*oEA012\n",
      "oEA005\n",
      "oEA006\n",
      "oEA007\n",
      "oEA008\n",
      "oEA009\n",
      "oEA010\n",
      "oEA011\n",
      "oEA012\n",
      "oEA013\n",
      "oEA014\n",
      "oEA015\n"
     ]
    }
   ],
   "source": [
    "for eq in list(linsolve(final_eq_set, EA_coeffs))[0] : print(eq)"
   ]
  },
  {
   "cell_type": "code",
   "execution_count": 230,
   "metadata": {},
   "outputs": [
    {
     "data": {
      "text/latex": [
       "$\\displaystyle \\left[\\begin{matrix}oEA_{008} + oEA_{009} + oEA_{010} + oEA_{011} + oEA_{012} + oEA_{013} + oEA_{014} + oEA_{015} & oEA_{012} + oEA_{013} + oEA_{014} + oEA_{015} & oEA_{010} + oEA_{011} + oEA_{014} + oEA_{015} & oEA_{009} + oEA_{011} + oEA_{013} + oEA_{015}\\\\oEA_{012} + oEA_{013} + oEA_{014} + oEA_{015} & oEA_{004} + oEA_{005} + oEA_{006} + oEA_{007} + oEA_{012} + oEA_{013} + oEA_{014} + oEA_{015} & oEA_{006} + oEA_{007} + oEA_{014} + oEA_{015} & oEA_{005} + oEA_{007} + oEA_{013} + oEA_{015}\\\\oEA_{010} + oEA_{011} + oEA_{014} + oEA_{015} & oEA_{006} + oEA_{007} + oEA_{014} + oEA_{015} & oEA_{002} + oEA_{003} + oEA_{006} + oEA_{007} + oEA_{010} + oEA_{011} + oEA_{014} + oEA_{015} & oEA_{003} + oEA_{007} + oEA_{011} + oEA_{015}\\\\oEA_{009} + oEA_{011} + oEA_{013} + oEA_{015} & oEA_{005} + oEA_{007} + oEA_{013} + oEA_{015} & oEA_{003} + oEA_{007} + oEA_{011} + oEA_{015} & oEA_{001} + oEA_{003} + oEA_{005} + oEA_{007} + oEA_{009} + oEA_{011} + oEA_{013} + oEA_{015}\\end{matrix}\\right]$"
      ],
      "text/plain": [
       "Matrix([\n",
       "[oEA008 + oEA009 + oEA010 + oEA011 + oEA012 + oEA013 + oEA014 + oEA015,                                     oEA012 + oEA013 + oEA014 + oEA015,                                     oEA010 + oEA011 + oEA014 + oEA015,                                     oEA009 + oEA011 + oEA013 + oEA015],\n",
       "[                                    oEA012 + oEA013 + oEA014 + oEA015, oEA004 + oEA005 + oEA006 + oEA007 + oEA012 + oEA013 + oEA014 + oEA015,                                     oEA006 + oEA007 + oEA014 + oEA015,                                     oEA005 + oEA007 + oEA013 + oEA015],\n",
       "[                                    oEA010 + oEA011 + oEA014 + oEA015,                                     oEA006 + oEA007 + oEA014 + oEA015, oEA002 + oEA003 + oEA006 + oEA007 + oEA010 + oEA011 + oEA014 + oEA015,                                     oEA003 + oEA007 + oEA011 + oEA015],\n",
       "[                                    oEA009 + oEA011 + oEA013 + oEA015,                                     oEA005 + oEA007 + oEA013 + oEA015,                                     oEA003 + oEA007 + oEA011 + oEA015, oEA001 + oEA003 + oEA005 + oEA007 + oEA009 + oEA011 + oEA013 + oEA015]])"
      ]
     },
     "execution_count": 230,
     "metadata": {},
     "output_type": "execute_result"
    }
   ],
   "source": [
    "EA"
   ]
  },
  {
   "cell_type": "code",
   "execution_count": null,
   "metadata": {},
   "outputs": [],
   "source": [
    "# next step is to approach from the other way, i.e. eigenvector decomposition of density matrices and correlating them"
   ]
  }
 ],
 "metadata": {
  "kernelspec": {
   "display_name": "Python 3",
   "language": "python",
   "name": "python3"
  },
  "language_info": {
   "codemirror_mode": {
    "name": "ipython",
    "version": 3
   },
   "file_extension": ".py",
   "mimetype": "text/x-python",
   "name": "python",
   "nbconvert_exporter": "python",
   "pygments_lexer": "ipython3",
   "version": "3.10.12"
  }
 },
 "nbformat": 4,
 "nbformat_minor": 2
}
